{
 "cells": [
  {
   "cell_type": "code",
   "execution_count": 2,
   "metadata": {},
   "outputs": [],
   "source": [
    "# Step 1: Import Libraries\n",
    "import os\n",
    "import pandas as pd\n",
    "from sklearn.preprocessing import LabelEncoder\n",
    "from tqdm import tqdm\n",
    "\n",
    "# Instantiate the LabelEncoder\n",
    "label_encoder = LabelEncoder()\n",
    "\n",
    "\n",
    "\n",
    "\n",
    "\n"
   ]
  },
  {
   "cell_type": "code",
   "execution_count": 3,
   "metadata": {},
   "outputs": [],
   "source": [
    "# Define paths for the datasets based on the current working directory\n",
    "base_dir = os.path.join(os.getcwd(), 'ebnerd_large')\n",
    "behavior_file = os.path.join(base_dir, 'train', 'behaviors.parquet')\n",
    "history_file = os.path.join(base_dir, 'train', 'history.parquet')\n",
    "articles_file = os.path.join(base_dir, 'articles.parquet')\n"
   ]
  },
  {
   "cell_type": "code",
   "execution_count": 4,
   "metadata": {},
   "outputs": [
    {
     "name": "stdout",
     "output_type": "stream",
     "text": [
      "Behavior Data:\n"
     ]
    },
    {
     "data": {
      "text/html": [
       "<div>\n",
       "<style scoped>\n",
       "    .dataframe tbody tr th:only-of-type {\n",
       "        vertical-align: middle;\n",
       "    }\n",
       "\n",
       "    .dataframe tbody tr th {\n",
       "        vertical-align: top;\n",
       "    }\n",
       "\n",
       "    .dataframe thead th {\n",
       "        text-align: right;\n",
       "    }\n",
       "</style>\n",
       "<table border=\"1\" class=\"dataframe\">\n",
       "  <thead>\n",
       "    <tr style=\"text-align: right;\">\n",
       "      <th></th>\n",
       "      <th>impression_id</th>\n",
       "      <th>article_id</th>\n",
       "      <th>impression_time</th>\n",
       "      <th>read_time</th>\n",
       "      <th>scroll_percentage</th>\n",
       "      <th>device_type</th>\n",
       "      <th>article_ids_inview</th>\n",
       "      <th>article_ids_clicked</th>\n",
       "      <th>user_id</th>\n",
       "      <th>is_sso_user</th>\n",
       "      <th>gender</th>\n",
       "      <th>postcode</th>\n",
       "      <th>age</th>\n",
       "      <th>is_subscriber</th>\n",
       "      <th>session_id</th>\n",
       "      <th>next_read_time</th>\n",
       "      <th>next_scroll_percentage</th>\n",
       "    </tr>\n",
       "  </thead>\n",
       "  <tbody>\n",
       "    <tr>\n",
       "      <th>0</th>\n",
       "      <td>47727</td>\n",
       "      <td>NaN</td>\n",
       "      <td>2023-05-21 21:35:07</td>\n",
       "      <td>20.0</td>\n",
       "      <td>NaN</td>\n",
       "      <td>1</td>\n",
       "      <td>[9482380, 9775183, 9744403, 9775297, 9774020, ...</td>\n",
       "      <td>[9775183]</td>\n",
       "      <td>18293</td>\n",
       "      <td>False</td>\n",
       "      <td>NaN</td>\n",
       "      <td>NaN</td>\n",
       "      <td>NaN</td>\n",
       "      <td>False</td>\n",
       "      <td>265</td>\n",
       "      <td>34.0</td>\n",
       "      <td>100.0</td>\n",
       "    </tr>\n",
       "    <tr>\n",
       "      <th>1</th>\n",
       "      <td>47731</td>\n",
       "      <td>NaN</td>\n",
       "      <td>2023-05-21 21:32:33</td>\n",
       "      <td>13.0</td>\n",
       "      <td>NaN</td>\n",
       "      <td>1</td>\n",
       "      <td>[9774557, 9774516, 9775331, 9775277, 9759966]</td>\n",
       "      <td>[9759966]</td>\n",
       "      <td>18293</td>\n",
       "      <td>False</td>\n",
       "      <td>NaN</td>\n",
       "      <td>NaN</td>\n",
       "      <td>NaN</td>\n",
       "      <td>False</td>\n",
       "      <td>265</td>\n",
       "      <td>45.0</td>\n",
       "      <td>100.0</td>\n",
       "    </tr>\n",
       "    <tr>\n",
       "      <th>2</th>\n",
       "      <td>47736</td>\n",
       "      <td>NaN</td>\n",
       "      <td>2023-05-21 21:33:32</td>\n",
       "      <td>17.0</td>\n",
       "      <td>NaN</td>\n",
       "      <td>1</td>\n",
       "      <td>[9759966, 9774557, 9775352, 9746360, 9772601, ...</td>\n",
       "      <td>[9774652]</td>\n",
       "      <td>18293</td>\n",
       "      <td>False</td>\n",
       "      <td>NaN</td>\n",
       "      <td>NaN</td>\n",
       "      <td>NaN</td>\n",
       "      <td>False</td>\n",
       "      <td>265</td>\n",
       "      <td>78.0</td>\n",
       "      <td>100.0</td>\n",
       "    </tr>\n",
       "    <tr>\n",
       "      <th>3</th>\n",
       "      <td>47737</td>\n",
       "      <td>NaN</td>\n",
       "      <td>2023-05-21 21:38:17</td>\n",
       "      <td>27.0</td>\n",
       "      <td>NaN</td>\n",
       "      <td>1</td>\n",
       "      <td>[9774580, 9775131, 9775202, 9774789, 9774972, ...</td>\n",
       "      <td>[9775184]</td>\n",
       "      <td>18293</td>\n",
       "      <td>False</td>\n",
       "      <td>NaN</td>\n",
       "      <td>NaN</td>\n",
       "      <td>NaN</td>\n",
       "      <td>False</td>\n",
       "      <td>265</td>\n",
       "      <td>6.0</td>\n",
       "      <td>52.0</td>\n",
       "    </tr>\n",
       "    <tr>\n",
       "      <th>4</th>\n",
       "      <td>47740</td>\n",
       "      <td>NaN</td>\n",
       "      <td>2023-05-21 21:36:02</td>\n",
       "      <td>48.0</td>\n",
       "      <td>NaN</td>\n",
       "      <td>1</td>\n",
       "      <td>[9774826, 9775171, 9775076, 9769624, 9775056, ...</td>\n",
       "      <td>[9774648]</td>\n",
       "      <td>18293</td>\n",
       "      <td>False</td>\n",
       "      <td>NaN</td>\n",
       "      <td>NaN</td>\n",
       "      <td>NaN</td>\n",
       "      <td>False</td>\n",
       "      <td>265</td>\n",
       "      <td>32.0</td>\n",
       "      <td>100.0</td>\n",
       "    </tr>\n",
       "  </tbody>\n",
       "</table>\n",
       "</div>"
      ],
      "text/plain": [
       "   impression_id  article_id     impression_time  read_time  \\\n",
       "0          47727         NaN 2023-05-21 21:35:07       20.0   \n",
       "1          47731         NaN 2023-05-21 21:32:33       13.0   \n",
       "2          47736         NaN 2023-05-21 21:33:32       17.0   \n",
       "3          47737         NaN 2023-05-21 21:38:17       27.0   \n",
       "4          47740         NaN 2023-05-21 21:36:02       48.0   \n",
       "\n",
       "   scroll_percentage  device_type  \\\n",
       "0                NaN            1   \n",
       "1                NaN            1   \n",
       "2                NaN            1   \n",
       "3                NaN            1   \n",
       "4                NaN            1   \n",
       "\n",
       "                                  article_ids_inview article_ids_clicked  \\\n",
       "0  [9482380, 9775183, 9744403, 9775297, 9774020, ...           [9775183]   \n",
       "1      [9774557, 9774516, 9775331, 9775277, 9759966]           [9759966]   \n",
       "2  [9759966, 9774557, 9775352, 9746360, 9772601, ...           [9774652]   \n",
       "3  [9774580, 9775131, 9775202, 9774789, 9774972, ...           [9775184]   \n",
       "4  [9774826, 9775171, 9775076, 9769624, 9775056, ...           [9774648]   \n",
       "\n",
       "   user_id  is_sso_user  gender  postcode  age  is_subscriber  session_id  \\\n",
       "0    18293        False     NaN       NaN  NaN          False         265   \n",
       "1    18293        False     NaN       NaN  NaN          False         265   \n",
       "2    18293        False     NaN       NaN  NaN          False         265   \n",
       "3    18293        False     NaN       NaN  NaN          False         265   \n",
       "4    18293        False     NaN       NaN  NaN          False         265   \n",
       "\n",
       "   next_read_time  next_scroll_percentage  \n",
       "0            34.0                   100.0  \n",
       "1            45.0                   100.0  \n",
       "2            78.0                   100.0  \n",
       "3             6.0                    52.0  \n",
       "4            32.0                   100.0  "
      ]
     },
     "metadata": {},
     "output_type": "display_data"
    },
    {
     "name": "stdout",
     "output_type": "stream",
     "text": [
      "\n",
      "History Data:\n"
     ]
    },
    {
     "data": {
      "text/html": [
       "<div>\n",
       "<style scoped>\n",
       "    .dataframe tbody tr th:only-of-type {\n",
       "        vertical-align: middle;\n",
       "    }\n",
       "\n",
       "    .dataframe tbody tr th {\n",
       "        vertical-align: top;\n",
       "    }\n",
       "\n",
       "    .dataframe thead th {\n",
       "        text-align: right;\n",
       "    }\n",
       "</style>\n",
       "<table border=\"1\" class=\"dataframe\">\n",
       "  <thead>\n",
       "    <tr style=\"text-align: right;\">\n",
       "      <th></th>\n",
       "      <th>user_id</th>\n",
       "      <th>impression_time_fixed</th>\n",
       "      <th>scroll_percentage_fixed</th>\n",
       "      <th>article_id_fixed</th>\n",
       "      <th>read_time_fixed</th>\n",
       "    </tr>\n",
       "  </thead>\n",
       "  <tbody>\n",
       "    <tr>\n",
       "      <th>0</th>\n",
       "      <td>10029</td>\n",
       "      <td>[2023-04-28T06:16:57.000000, 2023-04-28T06:17:...</td>\n",
       "      <td>[23.0, 69.0, 27.0, nan, 47.0, 38.0, 100.0, 12....</td>\n",
       "      <td>[9735579, 9739888, 9739471, 9739864, 9738441, ...</td>\n",
       "      <td>[28.0, 24.0, 11.0, 107.0, 8.0, 7.0, 20.0, 5.0,...</td>\n",
       "    </tr>\n",
       "    <tr>\n",
       "      <th>1</th>\n",
       "      <td>10033</td>\n",
       "      <td>[2023-04-27T11:11:32.000000, 2023-04-27T11:12:...</td>\n",
       "      <td>[33.0, 41.0, 33.0, 100.0, 68.0, 38.0, 1.0, 58....</td>\n",
       "      <td>[9738139, 9738263, 9738139, 9738760, 9738777, ...</td>\n",
       "      <td>[2.0, 2.0, 718.0, 18.0, 26.0, 78.0, 3.0, 11.0,...</td>\n",
       "    </tr>\n",
       "    <tr>\n",
       "      <th>2</th>\n",
       "      <td>10034</td>\n",
       "      <td>[2023-04-30T09:46:57.000000, 2023-04-30T09:47:...</td>\n",
       "      <td>[nan, 88.0, 27.0, nan, 23.0, 100.0, 100.0, 22....</td>\n",
       "      <td>[9742693, 9742686, 9744016, 9743818, 9744922, ...</td>\n",
       "      <td>[21.0, 103.0, 28.0, 0.0, 5.0, 34.0, 14.0, 14.0...</td>\n",
       "    </tr>\n",
       "    <tr>\n",
       "      <th>3</th>\n",
       "      <td>10041</td>\n",
       "      <td>[2023-04-27T15:15:28.000000, 2023-04-27T15:16:...</td>\n",
       "      <td>[78.0, 41.0, 4.0, 16.0, 22.0, 32.0, 11.0, 94.0...</td>\n",
       "      <td>[9739035, 9738303, 9737243, 9739634, 9739802, ...</td>\n",
       "      <td>[12.0, 11.0, 3.0, 3.0, 4.0, 13.0, 29.0, 24.0, ...</td>\n",
       "    </tr>\n",
       "    <tr>\n",
       "      <th>4</th>\n",
       "      <td>10103</td>\n",
       "      <td>[2023-04-27T15:37:35.000000, 2023-04-27T15:38:...</td>\n",
       "      <td>[100.0, nan, 100.0, 100.0, 100.0, 28.0, 82.0, ...</td>\n",
       "      <td>[9739035, 9739164, 9741803, 9740087, 9741986, ...</td>\n",
       "      <td>[45.0, 8.0, 61.0, 72.0, 56.0, 3.0, 22.0, 16.0,...</td>\n",
       "    </tr>\n",
       "  </tbody>\n",
       "</table>\n",
       "</div>"
      ],
      "text/plain": [
       "   user_id                              impression_time_fixed  \\\n",
       "0    10029  [2023-04-28T06:16:57.000000, 2023-04-28T06:17:...   \n",
       "1    10033  [2023-04-27T11:11:32.000000, 2023-04-27T11:12:...   \n",
       "2    10034  [2023-04-30T09:46:57.000000, 2023-04-30T09:47:...   \n",
       "3    10041  [2023-04-27T15:15:28.000000, 2023-04-27T15:16:...   \n",
       "4    10103  [2023-04-27T15:37:35.000000, 2023-04-27T15:38:...   \n",
       "\n",
       "                             scroll_percentage_fixed  \\\n",
       "0  [23.0, 69.0, 27.0, nan, 47.0, 38.0, 100.0, 12....   \n",
       "1  [33.0, 41.0, 33.0, 100.0, 68.0, 38.0, 1.0, 58....   \n",
       "2  [nan, 88.0, 27.0, nan, 23.0, 100.0, 100.0, 22....   \n",
       "3  [78.0, 41.0, 4.0, 16.0, 22.0, 32.0, 11.0, 94.0...   \n",
       "4  [100.0, nan, 100.0, 100.0, 100.0, 28.0, 82.0, ...   \n",
       "\n",
       "                                    article_id_fixed  \\\n",
       "0  [9735579, 9739888, 9739471, 9739864, 9738441, ...   \n",
       "1  [9738139, 9738263, 9738139, 9738760, 9738777, ...   \n",
       "2  [9742693, 9742686, 9744016, 9743818, 9744922, ...   \n",
       "3  [9739035, 9738303, 9737243, 9739634, 9739802, ...   \n",
       "4  [9739035, 9739164, 9741803, 9740087, 9741986, ...   \n",
       "\n",
       "                                     read_time_fixed  \n",
       "0  [28.0, 24.0, 11.0, 107.0, 8.0, 7.0, 20.0, 5.0,...  \n",
       "1  [2.0, 2.0, 718.0, 18.0, 26.0, 78.0, 3.0, 11.0,...  \n",
       "2  [21.0, 103.0, 28.0, 0.0, 5.0, 34.0, 14.0, 14.0...  \n",
       "3  [12.0, 11.0, 3.0, 3.0, 4.0, 13.0, 29.0, 24.0, ...  \n",
       "4  [45.0, 8.0, 61.0, 72.0, 56.0, 3.0, 22.0, 16.0,...  "
      ]
     },
     "metadata": {},
     "output_type": "display_data"
    },
    {
     "name": "stdout",
     "output_type": "stream",
     "text": [
      "\n",
      "Articles Data:\n"
     ]
    },
    {
     "data": {
      "text/html": [
       "<div>\n",
       "<style scoped>\n",
       "    .dataframe tbody tr th:only-of-type {\n",
       "        vertical-align: middle;\n",
       "    }\n",
       "\n",
       "    .dataframe tbody tr th {\n",
       "        vertical-align: top;\n",
       "    }\n",
       "\n",
       "    .dataframe thead th {\n",
       "        text-align: right;\n",
       "    }\n",
       "</style>\n",
       "<table border=\"1\" class=\"dataframe\">\n",
       "  <thead>\n",
       "    <tr style=\"text-align: right;\">\n",
       "      <th></th>\n",
       "      <th>article_id</th>\n",
       "      <th>title</th>\n",
       "      <th>subtitle</th>\n",
       "      <th>last_modified_time</th>\n",
       "      <th>premium</th>\n",
       "      <th>body</th>\n",
       "      <th>published_time</th>\n",
       "      <th>image_ids</th>\n",
       "      <th>article_type</th>\n",
       "      <th>url</th>\n",
       "      <th>...</th>\n",
       "      <th>entity_groups</th>\n",
       "      <th>topics</th>\n",
       "      <th>category</th>\n",
       "      <th>subcategory</th>\n",
       "      <th>category_str</th>\n",
       "      <th>total_inviews</th>\n",
       "      <th>total_pageviews</th>\n",
       "      <th>total_read_time</th>\n",
       "      <th>sentiment_score</th>\n",
       "      <th>sentiment_label</th>\n",
       "    </tr>\n",
       "  </thead>\n",
       "  <tbody>\n",
       "    <tr>\n",
       "      <th>0</th>\n",
       "      <td>3000022</td>\n",
       "      <td>Hanks beskyldt for mishandling</td>\n",
       "      <td>Tom Hanks har angiveligt mishandlet sin afdøde...</td>\n",
       "      <td>2023-06-29 06:20:32</td>\n",
       "      <td>False</td>\n",
       "      <td>Tom Hanks skulle angiveligt have mishandlet si...</td>\n",
       "      <td>2006-09-20 09:24:18</td>\n",
       "      <td>[3518381]</td>\n",
       "      <td>article_default</td>\n",
       "      <td>https://ekstrabladet.dk/underholdning/udlandke...</td>\n",
       "      <td>...</td>\n",
       "      <td>[PER]</td>\n",
       "      <td>[Kriminalitet, Kendt, Underholdning, Personfar...</td>\n",
       "      <td>414</td>\n",
       "      <td>[432]</td>\n",
       "      <td>underholdning</td>\n",
       "      <td>NaN</td>\n",
       "      <td>NaN</td>\n",
       "      <td>NaN</td>\n",
       "      <td>0.9911</td>\n",
       "      <td>Negative</td>\n",
       "    </tr>\n",
       "    <tr>\n",
       "      <th>1</th>\n",
       "      <td>3000063</td>\n",
       "      <td>Bostrups aske spredt i Furesøen</td>\n",
       "      <td>Studieværten blev mindet med glad festlighed</td>\n",
       "      <td>2023-06-29 06:20:32</td>\n",
       "      <td>False</td>\n",
       "      <td>Strålende sensommersol. Jazzede toner. Glas me...</td>\n",
       "      <td>2006-09-24 07:45:30</td>\n",
       "      <td>[3170935, 3170939]</td>\n",
       "      <td>article_default</td>\n",
       "      <td>https://ekstrabladet.dk/nyheder/samfund/articl...</td>\n",
       "      <td>...</td>\n",
       "      <td>[]</td>\n",
       "      <td>[Kendt, Underholdning, Begivenhed, Personlig b...</td>\n",
       "      <td>118</td>\n",
       "      <td>[133]</td>\n",
       "      <td>nyheder</td>\n",
       "      <td>NaN</td>\n",
       "      <td>NaN</td>\n",
       "      <td>NaN</td>\n",
       "      <td>0.5155</td>\n",
       "      <td>Neutral</td>\n",
       "    </tr>\n",
       "    <tr>\n",
       "      <th>2</th>\n",
       "      <td>3000613</td>\n",
       "      <td>Jesper Olsen ramt af hjerneblødning</td>\n",
       "      <td>Den tidligere danske landsholdsspiller i fodbo...</td>\n",
       "      <td>2023-06-29 06:20:33</td>\n",
       "      <td>False</td>\n",
       "      <td>Jesper Olsen, der er noteret for 43 kampe på d...</td>\n",
       "      <td>2006-05-09 11:29:00</td>\n",
       "      <td>[3164998]</td>\n",
       "      <td>article_default</td>\n",
       "      <td>https://ekstrabladet.dk/sport/fodbold/landshol...</td>\n",
       "      <td>...</td>\n",
       "      <td>[LOC, PER, PER, PER]</td>\n",
       "      <td>[Kendt, Sport, Fodbold, Sundhed, Sygdom og beh...</td>\n",
       "      <td>142</td>\n",
       "      <td>[196, 271]</td>\n",
       "      <td>sport</td>\n",
       "      <td>NaN</td>\n",
       "      <td>NaN</td>\n",
       "      <td>NaN</td>\n",
       "      <td>0.9876</td>\n",
       "      <td>Negative</td>\n",
       "    </tr>\n",
       "    <tr>\n",
       "      <th>3</th>\n",
       "      <td>3000700</td>\n",
       "      <td>Madonna topløs med heste</td>\n",
       "      <td>47-årige Madonna poserer både topløs og sammen...</td>\n",
       "      <td>2023-06-29 06:20:33</td>\n",
       "      <td>False</td>\n",
       "      <td>Skal du have stillet Madonna-sulten inden konc...</td>\n",
       "      <td>2006-05-04 11:03:12</td>\n",
       "      <td>[3172046]</td>\n",
       "      <td>article_default</td>\n",
       "      <td>https://ekstrabladet.dk/underholdning/udlandke...</td>\n",
       "      <td>...</td>\n",
       "      <td>[]</td>\n",
       "      <td>[Kendt, Livsstil, Underholdning]</td>\n",
       "      <td>414</td>\n",
       "      <td>[432]</td>\n",
       "      <td>underholdning</td>\n",
       "      <td>NaN</td>\n",
       "      <td>NaN</td>\n",
       "      <td>NaN</td>\n",
       "      <td>0.8786</td>\n",
       "      <td>Neutral</td>\n",
       "    </tr>\n",
       "    <tr>\n",
       "      <th>4</th>\n",
       "      <td>3000840</td>\n",
       "      <td>Otto Brandenburg er død</td>\n",
       "      <td>Sangeren og skuespilleren Otto Brandenburg er ...</td>\n",
       "      <td>2023-06-29 06:20:33</td>\n",
       "      <td>False</td>\n",
       "      <td>'Og lidt for Susanne, Birgitte og Hanne... ' '...</td>\n",
       "      <td>2007-03-01 18:34:00</td>\n",
       "      <td>[3914446]</td>\n",
       "      <td>article_default</td>\n",
       "      <td>https://ekstrabladet.dk/nyheder/samfund/articl...</td>\n",
       "      <td>...</td>\n",
       "      <td>[]</td>\n",
       "      <td>[Kendt, Underholdning, Begivenhed, Personlig b...</td>\n",
       "      <td>118</td>\n",
       "      <td>[133]</td>\n",
       "      <td>nyheder</td>\n",
       "      <td>NaN</td>\n",
       "      <td>NaN</td>\n",
       "      <td>NaN</td>\n",
       "      <td>0.9468</td>\n",
       "      <td>Negative</td>\n",
       "    </tr>\n",
       "  </tbody>\n",
       "</table>\n",
       "<p>5 rows × 21 columns</p>\n",
       "</div>"
      ],
      "text/plain": [
       "   article_id                                title  \\\n",
       "0     3000022       Hanks beskyldt for mishandling   \n",
       "1     3000063      Bostrups aske spredt i Furesøen   \n",
       "2     3000613  Jesper Olsen ramt af hjerneblødning   \n",
       "3     3000700             Madonna topløs med heste   \n",
       "4     3000840              Otto Brandenburg er død   \n",
       "\n",
       "                                            subtitle  last_modified_time  \\\n",
       "0  Tom Hanks har angiveligt mishandlet sin afdøde... 2023-06-29 06:20:32   \n",
       "1       Studieværten blev mindet med glad festlighed 2023-06-29 06:20:32   \n",
       "2  Den tidligere danske landsholdsspiller i fodbo... 2023-06-29 06:20:33   \n",
       "3  47-årige Madonna poserer både topløs og sammen... 2023-06-29 06:20:33   \n",
       "4  Sangeren og skuespilleren Otto Brandenburg er ... 2023-06-29 06:20:33   \n",
       "\n",
       "   premium                                               body  \\\n",
       "0    False  Tom Hanks skulle angiveligt have mishandlet si...   \n",
       "1    False  Strålende sensommersol. Jazzede toner. Glas me...   \n",
       "2    False  Jesper Olsen, der er noteret for 43 kampe på d...   \n",
       "3    False  Skal du have stillet Madonna-sulten inden konc...   \n",
       "4    False  'Og lidt for Susanne, Birgitte og Hanne... ' '...   \n",
       "\n",
       "       published_time           image_ids     article_type  \\\n",
       "0 2006-09-20 09:24:18           [3518381]  article_default   \n",
       "1 2006-09-24 07:45:30  [3170935, 3170939]  article_default   \n",
       "2 2006-05-09 11:29:00           [3164998]  article_default   \n",
       "3 2006-05-04 11:03:12           [3172046]  article_default   \n",
       "4 2007-03-01 18:34:00           [3914446]  article_default   \n",
       "\n",
       "                                                 url  ...  \\\n",
       "0  https://ekstrabladet.dk/underholdning/udlandke...  ...   \n",
       "1  https://ekstrabladet.dk/nyheder/samfund/articl...  ...   \n",
       "2  https://ekstrabladet.dk/sport/fodbold/landshol...  ...   \n",
       "3  https://ekstrabladet.dk/underholdning/udlandke...  ...   \n",
       "4  https://ekstrabladet.dk/nyheder/samfund/articl...  ...   \n",
       "\n",
       "          entity_groups                                             topics  \\\n",
       "0                 [PER]  [Kriminalitet, Kendt, Underholdning, Personfar...   \n",
       "1                    []  [Kendt, Underholdning, Begivenhed, Personlig b...   \n",
       "2  [LOC, PER, PER, PER]  [Kendt, Sport, Fodbold, Sundhed, Sygdom og beh...   \n",
       "3                    []                   [Kendt, Livsstil, Underholdning]   \n",
       "4                    []  [Kendt, Underholdning, Begivenhed, Personlig b...   \n",
       "\n",
       "  category  subcategory   category_str total_inviews  total_pageviews  \\\n",
       "0      414        [432]  underholdning           NaN              NaN   \n",
       "1      118        [133]        nyheder           NaN              NaN   \n",
       "2      142   [196, 271]          sport           NaN              NaN   \n",
       "3      414        [432]  underholdning           NaN              NaN   \n",
       "4      118        [133]        nyheder           NaN              NaN   \n",
       "\n",
       "   total_read_time  sentiment_score  sentiment_label  \n",
       "0              NaN           0.9911         Negative  \n",
       "1              NaN           0.5155          Neutral  \n",
       "2              NaN           0.9876         Negative  \n",
       "3              NaN           0.8786          Neutral  \n",
       "4              NaN           0.9468         Negative  \n",
       "\n",
       "[5 rows x 21 columns]"
      ]
     },
     "metadata": {},
     "output_type": "display_data"
    }
   ],
   "source": [
    "# Step 3: Load Datasets\n",
    "# Load each dataset from the specified paths\n",
    "behavior_df = pd.read_parquet(behavior_file)\n",
    "history_df = pd.read_parquet(history_file)\n",
    "articles_df = pd.read_parquet(articles_file)\n",
    "\n",
    "# Display the first few rows of each dataset to confirm loading worked\n",
    "print(\"Behavior Data:\")\n",
    "display(behavior_df.head())\n",
    "\n",
    "print(\"\\nHistory Data:\")\n",
    "display(history_df.head())\n",
    "\n",
    "print(\"\\nArticles Data:\")\n",
    "display(articles_df.head())\n"
   ]
  },
  {
   "cell_type": "markdown",
   "metadata": {},
   "source": [
    "### Check for duplicates "
   ]
  },
  {
   "cell_type": "code",
   "execution_count": 5,
   "metadata": {},
   "outputs": [
    {
     "name": "stdout",
     "output_type": "stream",
     "text": [
      "Checking duplicates in behavior_df:\n",
      "Number of duplicate rows (excluding unhashable columns): 0\n",
      "\n",
      "Checking duplicates in history_df:\n",
      "Number of duplicate rows (excluding unhashable columns): 0\n",
      "\n",
      "Checking duplicates in articles_df:\n",
      "Number of duplicate rows (excluding unhashable columns): 0\n"
     ]
    }
   ],
   "source": [
    "import pandas as pd\n",
    "import numpy as np  # Import numpy to handle array types\n",
    "\n",
    "# Define a function to check and drop duplicates, excluding unhashable columns\n",
    "def drop_duplicates_excluding_unhashable(df):\n",
    "    # Identify columns that are not hashable (e.g., lists, arrays)\n",
    "    hashable_columns = [col for col in df.columns if df[col].apply(lambda x: isinstance(x, (list, np.ndarray))).sum() == 0]\n",
    "    \n",
    "    # Check for duplicates only on hashable columns\n",
    "    duplicates = df.duplicated(subset=hashable_columns).sum()\n",
    "    print(f\"Number of duplicate rows (excluding unhashable columns): {duplicates}\")\n",
    "    \n",
    "    # Drop duplicates based on hashable columns\n",
    "    return df.drop_duplicates(subset=hashable_columns)\n",
    "\n",
    "# Apply the function to each DataFrame\n",
    "print(\"Checking duplicates in behavior_df:\")\n",
    "behavior_df = drop_duplicates_excluding_unhashable(behavior_df)\n",
    "\n",
    "print(\"\\nChecking duplicates in history_df:\")\n",
    "history_df = drop_duplicates_excluding_unhashable(history_df)\n",
    "\n",
    "print(\"\\nChecking duplicates in articles_df:\")\n",
    "articles_df = drop_duplicates_excluding_unhashable(articles_df)"
   ]
  },
  {
   "cell_type": "markdown",
   "metadata": {},
   "source": [
    "### Check for missing values "
   ]
  },
  {
   "cell_type": "code",
   "execution_count": 7,
   "metadata": {},
   "outputs": [
    {
     "name": "stdout",
     "output_type": "stream",
     "text": [
      "impression_id                    0\n",
      "article_id                 8458027\n",
      "impression_time                  0\n",
      "read_time                        0\n",
      "scroll_percentage          8523902\n",
      "device_type                      0\n",
      "article_ids_inview               0\n",
      "article_ids_clicked              0\n",
      "user_id                          0\n",
      "is_sso_user                      0\n",
      "gender                    11176907\n",
      "postcode                  11795148\n",
      "age                       11694243\n",
      "is_subscriber                    0\n",
      "session_id                       0\n",
      "next_read_time              319928\n",
      "next_scroll_percentage     1360982\n",
      "dtype: int64\n",
      "user_id                    0\n",
      "impression_time_fixed      0\n",
      "scroll_percentage_fixed    0\n",
      "article_id_fixed           0\n",
      "read_time_fixed            0\n",
      "dtype: int64\n",
      "article_id                 0\n",
      "title                      0\n",
      "subtitle                   0\n",
      "last_modified_time         0\n",
      "premium                    0\n",
      "body                       0\n",
      "published_time             0\n",
      "image_ids              14322\n",
      "article_type               0\n",
      "url                        0\n",
      "ner_clusters               0\n",
      "entity_groups              0\n",
      "topics                     0\n",
      "category                   0\n",
      "subcategory                0\n",
      "category_str               0\n",
      "total_inviews         107205\n",
      "total_pageviews       108600\n",
      "total_read_time       108600\n",
      "sentiment_score            0\n",
      "sentiment_label            0\n",
      "dtype: int64\n"
     ]
    }
   ],
   "source": [
    "# Check for missing values\n",
    "print(behavior_df.isnull().sum())\n",
    "print(history_df.isnull().sum())\n",
    "print(articles_df.isnull().sum())"
   ]
  },
  {
   "cell_type": "markdown",
   "metadata": {},
   "source": [
    "We observed that we have a lot of missing values for the gender , age and postcode attributes and since they are not relevant for oure NRMS we drop them."
   ]
  },
  {
   "cell_type": "code",
   "execution_count": 6,
   "metadata": {},
   "outputs": [],
   "source": [
    "# Now drop columns with high missing values\n",
    "behavior_df = behavior_df.drop(columns=['gender', 'postcode', 'age'])\n",
    "\n"
   ]
  },
  {
   "cell_type": "code",
   "execution_count": 7,
   "metadata": {},
   "outputs": [],
   "source": [
    "articles_df = articles_df.drop(columns=['image_ids'])"
   ]
  },
  {
   "cell_type": "code",
   "execution_count": 8,
   "metadata": {},
   "outputs": [
    {
     "name": "stdout",
     "output_type": "stream",
     "text": [
      "impression_id                   0\n",
      "article_id                8458027\n",
      "impression_time                 0\n",
      "read_time                       0\n",
      "scroll_percentage         8523902\n",
      "device_type                     0\n",
      "article_ids_inview              0\n",
      "article_ids_clicked             0\n",
      "user_id                         0\n",
      "is_sso_user                     0\n",
      "is_subscriber                   0\n",
      "session_id                      0\n",
      "next_read_time             319928\n",
      "next_scroll_percentage    1360982\n",
      "dtype: int64\n"
     ]
    }
   ],
   "source": [
    "print(behavior_df.isnull().sum())"
   ]
  },
  {
   "cell_type": "code",
   "execution_count": 13,
   "metadata": {},
   "outputs": [
    {
     "data": {
      "text/plain": [
       "0   -1.0\n",
       "1   -1.0\n",
       "2   -1.0\n",
       "3   -1.0\n",
       "4   -1.0\n",
       "Name: article_id, dtype: float64"
      ]
     },
     "execution_count": 13,
     "metadata": {},
     "output_type": "execute_result"
    }
   ],
   "source": [
    "# Applying the requested operation on behavior_df as if it is the full dataset\n",
    "\n",
    "# Assuming behavior_df is already loaded and exists\n",
    "# Replacing NaN in 'article_id' column with -1 for the entire DataFrame\n",
    "behavior_df['article_id'] = behavior_df['article_id'].fillna(-1)\n",
    "\n",
    "# Confirming the change by displaying summary of the 'article_id' column\n",
    "behavior_df['article_id'].head()\n",
    "\n"
   ]
  },
  {
   "cell_type": "code",
   "execution_count": 14,
   "metadata": {},
   "outputs": [
    {
     "name": "stdout",
     "output_type": "stream",
     "text": [
      "impression_id                   0\n",
      "article_id                      0\n",
      "impression_time                 0\n",
      "read_time                       0\n",
      "scroll_percentage         8523902\n",
      "device_type                     0\n",
      "article_ids_inview              0\n",
      "article_ids_clicked             0\n",
      "user_id                         0\n",
      "is_sso_user                     0\n",
      "is_subscriber                   0\n",
      "session_id                      0\n",
      "next_read_time             319928\n",
      "next_scroll_percentage    1360982\n",
      "dtype: int64\n"
     ]
    }
   ],
   "source": [
    "print(behavior_df.isnull().sum())"
   ]
  },
  {
   "cell_type": "code",
   "execution_count": 16,
   "metadata": {},
   "outputs": [
    {
     "name": "stdout",
     "output_type": "stream",
     "text": [
      "General statistics for scroll_percentage and read_time:\n",
      "       scroll_percentage     read_time\n",
      "count       3.539988e+06  1.206389e+07\n",
      "mean        9.955919e+01  4.401300e+01\n",
      "std         4.948680e+00  9.175906e+01\n",
      "min         0.000000e+00  0.000000e+00\n",
      "25%         1.000000e+02  1.100000e+01\n",
      "50%         1.000000e+02  2.100000e+01\n",
      "75%         1.000000e+02  4.400000e+01\n",
      "max         1.000000e+02  1.800000e+03\n",
      "\n",
      "Read time statistics when scroll_percentage is NaN:\n",
      "count    8.523902e+06\n",
      "mean     3.194910e+01\n",
      "std      7.952964e+01\n",
      "min      0.000000e+00\n",
      "25%      1.000000e+01\n",
      "50%      1.700000e+01\n",
      "75%      3.000000e+01\n",
      "max      1.800000e+03\n",
      "Name: read_time, dtype: float64\n"
     ]
    }
   ],
   "source": [
    "# General statistics for scroll_percentage and read_time\n",
    "scroll_read_stats = behavior_df[['scroll_percentage', 'read_time']].describe()\n",
    "\n",
    "# Statistics of read_time when scroll_percentage is NaN\n",
    "scroll_na_read_stats = behavior_df[behavior_df['scroll_percentage'].isna()]['read_time'].describe()\n",
    "\n",
    "print(\"General statistics for scroll_percentage and read_time:\")\n",
    "print(scroll_read_stats)\n",
    "print(\"\\nRead time statistics when scroll_percentage is NaN:\")\n",
    "print(scroll_na_read_stats)\n"
   ]
  },
  {
   "cell_type": "markdown",
   "metadata": {},
   "source": [
    "General read_time Mean: 44.0 seconds\n",
    "read_time Mean when scroll_percentage is NaN: 31.9 seconds\n",
    "\n",
    "This suggests that when scroll_percentage is missing, read_time is generally lower than the overall mean, indicating that users likely spent less time on these pages. However, the median (50th percentile) read_time for NaN cases is 17 seconds, only slightly lower than the general median of 21 seconds, showing a moderate difference.\n",
    "\n",
    "Key Takeaways:\n",
    "\n",
    "Missing scroll_percentage values do correlate with a slight drop in read_time, especially in terms of the mean.\n",
    "Consider filling scroll_percentage NaNs with 0, as they likely represent minimal interaction, while keeping read_time values as-is for further modeling."
   ]
  },
  {
   "cell_type": "code",
   "execution_count": 17,
   "metadata": {},
   "outputs": [],
   "source": [
    "behavior_df['scroll_percentage'] = behavior_df['scroll_percentage'].fillna(0)\n"
   ]
  },
  {
   "cell_type": "code",
   "execution_count": 18,
   "metadata": {},
   "outputs": [
    {
     "name": "stdout",
     "output_type": "stream",
     "text": [
      "impression_id                   0\n",
      "article_id                      0\n",
      "impression_time                 0\n",
      "read_time                       0\n",
      "scroll_percentage               0\n",
      "device_type                     0\n",
      "article_ids_inview              0\n",
      "article_ids_clicked             0\n",
      "user_id                         0\n",
      "is_sso_user                     0\n",
      "is_subscriber                   0\n",
      "session_id                      0\n",
      "next_read_time             319928\n",
      "next_scroll_percentage    1360982\n",
      "dtype: int64\n"
     ]
    }
   ],
   "source": [
    "print(behavior_df.isnull().sum())"
   ]
  },
  {
   "cell_type": "code",
   "execution_count": 21,
   "metadata": {},
   "outputs": [
    {
     "name": "stdout",
     "output_type": "stream",
     "text": [
      "Index(['article_id', 'title', 'subtitle', 'last_modified_time', 'premium',\n",
      "       'body', 'published_time', 'article_type', 'url', 'ner_clusters',\n",
      "       'entity_groups', 'topics', 'category', 'subcategory', 'category_str',\n",
      "       'total_inviews', 'total_pageviews', 'total_read_time',\n",
      "       'sentiment_score', 'sentiment_label'],\n",
      "      dtype='object')\n"
     ]
    }
   ],
   "source": [
    "print(articles_df.columns)\n"
   ]
  },
  {
   "cell_type": "markdown",
   "metadata": {},
   "source": [
    " Load and Preprocess articles.parquet "
   ]
  },
  {
   "cell_type": "markdown",
   "metadata": {},
   "source": [
    "This code loads only the specified columns, converts subcategory_ids to a single string format, and applies LabelEncoder for model compatibility. "
   ]
  },
  {
   "cell_type": "code",
   "execution_count": 9,
   "metadata": {},
   "outputs": [
    {
     "data": {
      "text/html": [
       "<div>\n",
       "<style scoped>\n",
       "    .dataframe tbody tr th:only-of-type {\n",
       "        vertical-align: middle;\n",
       "    }\n",
       "\n",
       "    .dataframe tbody tr th {\n",
       "        vertical-align: top;\n",
       "    }\n",
       "\n",
       "    .dataframe thead th {\n",
       "        text-align: right;\n",
       "    }\n",
       "</style>\n",
       "<table border=\"1\" class=\"dataframe\">\n",
       "  <thead>\n",
       "    <tr style=\"text-align: right;\">\n",
       "      <th></th>\n",
       "      <th>article_id</th>\n",
       "      <th>subcategory</th>\n",
       "      <th>subcategory_encoded</th>\n",
       "      <th>last_modified_time</th>\n",
       "      <th>published_time</th>\n",
       "      <th>total_pageviews</th>\n",
       "      <th>total_inviews</th>\n",
       "      <th>total_read_time</th>\n",
       "    </tr>\n",
       "  </thead>\n",
       "  <tbody>\n",
       "    <tr>\n",
       "      <th>0</th>\n",
       "      <td>3000022</td>\n",
       "      <td>432</td>\n",
       "      <td>219</td>\n",
       "      <td>2023-06-29 06:20:32</td>\n",
       "      <td>2006-09-20 09:24:18</td>\n",
       "      <td>NaN</td>\n",
       "      <td>NaN</td>\n",
       "      <td>NaN</td>\n",
       "    </tr>\n",
       "    <tr>\n",
       "      <th>1</th>\n",
       "      <td>3000063</td>\n",
       "      <td>133</td>\n",
       "      <td>10</td>\n",
       "      <td>2023-06-29 06:20:32</td>\n",
       "      <td>2006-09-24 07:45:30</td>\n",
       "      <td>NaN</td>\n",
       "      <td>NaN</td>\n",
       "      <td>NaN</td>\n",
       "    </tr>\n",
       "    <tr>\n",
       "      <th>2</th>\n",
       "      <td>3000613</td>\n",
       "      <td>196 271</td>\n",
       "      <td>101</td>\n",
       "      <td>2023-06-29 06:20:33</td>\n",
       "      <td>2006-05-09 11:29:00</td>\n",
       "      <td>NaN</td>\n",
       "      <td>NaN</td>\n",
       "      <td>NaN</td>\n",
       "    </tr>\n",
       "    <tr>\n",
       "      <th>3</th>\n",
       "      <td>3000700</td>\n",
       "      <td>432</td>\n",
       "      <td>219</td>\n",
       "      <td>2023-06-29 06:20:33</td>\n",
       "      <td>2006-05-04 11:03:12</td>\n",
       "      <td>NaN</td>\n",
       "      <td>NaN</td>\n",
       "      <td>NaN</td>\n",
       "    </tr>\n",
       "    <tr>\n",
       "      <th>4</th>\n",
       "      <td>3000840</td>\n",
       "      <td>133</td>\n",
       "      <td>10</td>\n",
       "      <td>2023-06-29 06:20:33</td>\n",
       "      <td>2007-03-01 18:34:00</td>\n",
       "      <td>NaN</td>\n",
       "      <td>NaN</td>\n",
       "      <td>NaN</td>\n",
       "    </tr>\n",
       "  </tbody>\n",
       "</table>\n",
       "</div>"
      ],
      "text/plain": [
       "   article_id subcategory  subcategory_encoded  last_modified_time  \\\n",
       "0     3000022         432                  219 2023-06-29 06:20:32   \n",
       "1     3000063         133                   10 2023-06-29 06:20:32   \n",
       "2     3000613     196 271                  101 2023-06-29 06:20:33   \n",
       "3     3000700         432                  219 2023-06-29 06:20:33   \n",
       "4     3000840         133                   10 2023-06-29 06:20:33   \n",
       "\n",
       "       published_time  total_pageviews  total_inviews  total_read_time  \n",
       "0 2006-09-20 09:24:18              NaN            NaN              NaN  \n",
       "1 2006-09-24 07:45:30              NaN            NaN              NaN  \n",
       "2 2006-05-09 11:29:00              NaN            NaN              NaN  \n",
       "3 2006-05-04 11:03:12              NaN            NaN              NaN  \n",
       "4 2007-03-01 18:34:00              NaN            NaN              NaN  "
      ]
     },
     "execution_count": 9,
     "metadata": {},
     "output_type": "execute_result"
    }
   ],
   "source": [
    "# Now that we have the correct column names, let's proceed with the correct script\n",
    "\n",
    "import pandas as pd\n",
    "from sklearn.preprocessing import LabelEncoder\n",
    "\n",
    "# Specify the correct columns based on the user's provided column names\n",
    "articles_columns = ['article_id', 'subcategory', 'last_modified_time', 'published_time', \n",
    "                    'total_pageviews', 'total_inviews', 'total_read_time']\n",
    "\n",
    "# Load only the necessary columns from the articles file\n",
    "articles_df = pd.read_parquet(articles_file, columns=articles_columns)\n",
    "\n",
    "# Convert subcategory from list to a single string (assuming it's a list of IDs)\n",
    "articles_df['subcategory'] = articles_df['subcategory'].apply(lambda x: ' '.join(map(str, x)))\n",
    "\n",
    "# Apply LabelEncoder to transform 'subcategory' into a numeric format\n",
    "label_encoder = LabelEncoder()\n",
    "articles_df['subcategory_encoded'] = label_encoder.fit_transform(articles_df['subcategory'])\n",
    "\n",
    "# Display the resulting DataFrame to verify changes\n",
    "articles_df[['article_id', 'subcategory', 'subcategory_encoded', 'last_modified_time', \n",
    "             'published_time', 'total_pageviews', 'total_inviews', 'total_read_time']].head()\n",
    "\n"
   ]
  },
  {
   "cell_type": "markdown",
   "metadata": {},
   "source": [
    "This code will:\n",
    "\n",
    "Convert last_modified_time and published_time to milliseconds.\n",
    "Calculate the time_interval in milliseconds between the mod_time and pub_time."
   ]
  },
  {
   "cell_type": "code",
   "execution_count": 10,
   "metadata": {},
   "outputs": [
    {
     "data": {
      "text/html": [
       "<div>\n",
       "<style scoped>\n",
       "    .dataframe tbody tr th:only-of-type {\n",
       "        vertical-align: middle;\n",
       "    }\n",
       "\n",
       "    .dataframe tbody tr th {\n",
       "        vertical-align: top;\n",
       "    }\n",
       "\n",
       "    .dataframe thead th {\n",
       "        text-align: right;\n",
       "    }\n",
       "</style>\n",
       "<table border=\"1\" class=\"dataframe\">\n",
       "  <thead>\n",
       "    <tr style=\"text-align: right;\">\n",
       "      <th></th>\n",
       "      <th>article_id</th>\n",
       "      <th>mod_time</th>\n",
       "      <th>pub_time</th>\n",
       "      <th>time_interval</th>\n",
       "    </tr>\n",
       "  </thead>\n",
       "  <tbody>\n",
       "    <tr>\n",
       "      <th>0</th>\n",
       "      <td>3000022</td>\n",
       "      <td>1688019632</td>\n",
       "      <td>1158744258</td>\n",
       "      <td>529275374</td>\n",
       "    </tr>\n",
       "    <tr>\n",
       "      <th>1</th>\n",
       "      <td>3000063</td>\n",
       "      <td>1688019632</td>\n",
       "      <td>1159083930</td>\n",
       "      <td>528935702</td>\n",
       "    </tr>\n",
       "    <tr>\n",
       "      <th>2</th>\n",
       "      <td>3000613</td>\n",
       "      <td>1688019633</td>\n",
       "      <td>1147174140</td>\n",
       "      <td>540845493</td>\n",
       "    </tr>\n",
       "    <tr>\n",
       "      <th>3</th>\n",
       "      <td>3000700</td>\n",
       "      <td>1688019633</td>\n",
       "      <td>1146740592</td>\n",
       "      <td>541279041</td>\n",
       "    </tr>\n",
       "    <tr>\n",
       "      <th>4</th>\n",
       "      <td>3000840</td>\n",
       "      <td>1688019633</td>\n",
       "      <td>1172774040</td>\n",
       "      <td>515245593</td>\n",
       "    </tr>\n",
       "  </tbody>\n",
       "</table>\n",
       "</div>"
      ],
      "text/plain": [
       "   article_id    mod_time    pub_time  time_interval\n",
       "0     3000022  1688019632  1158744258      529275374\n",
       "1     3000063  1688019632  1159083930      528935702\n",
       "2     3000613  1688019633  1147174140      540845493\n",
       "3     3000700  1688019633  1146740592      541279041\n",
       "4     3000840  1688019633  1172774040      515245593"
      ]
     },
     "execution_count": 10,
     "metadata": {},
     "output_type": "execute_result"
    }
   ],
   "source": [
    "# Converting last_modified_time and published_time to milliseconds and calculating the interval\n",
    "\n",
    "# Ensure the timestamps are in datetime format\n",
    "articles_df['last_modified_time'] = pd.to_datetime(articles_df['last_modified_time'])\n",
    "articles_df['published_time'] = pd.to_datetime(articles_df['published_time'])\n",
    "\n",
    "# Calculate mod_time and pub_time in milliseconds\n",
    "articles_df['mod_time'] = articles_df['last_modified_time'].astype('int64') // 10**6  # Convert to milliseconds\n",
    "articles_df['pub_time'] = articles_df['published_time'].astype('int64') // 10**6  # Convert to milliseconds\n",
    "\n",
    "# Calculate the time interval between last_modified_time and published_time in milliseconds\n",
    "articles_df['time_interval'] = articles_df['mod_time'] - articles_df['pub_time']\n",
    "\n",
    "# Display the resulting DataFrame to verify changes\n",
    "articles_df[['article_id', 'mod_time', 'pub_time', 'time_interval']].head()\n"
   ]
  },
  {
   "cell_type": "code",
   "execution_count": 11,
   "metadata": {},
   "outputs": [
    {
     "data": {
      "text/html": [
       "<div>\n",
       "<style scoped>\n",
       "    .dataframe tbody tr th:only-of-type {\n",
       "        vertical-align: middle;\n",
       "    }\n",
       "\n",
       "    .dataframe tbody tr th {\n",
       "        vertical-align: top;\n",
       "    }\n",
       "\n",
       "    .dataframe thead th {\n",
       "        text-align: right;\n",
       "    }\n",
       "</style>\n",
       "<table border=\"1\" class=\"dataframe\">\n",
       "  <thead>\n",
       "    <tr style=\"text-align: right;\">\n",
       "      <th></th>\n",
       "      <th>article_id</th>\n",
       "      <th>total_ctr</th>\n",
       "      <th>total_avg_time</th>\n",
       "    </tr>\n",
       "  </thead>\n",
       "  <tbody>\n",
       "    <tr>\n",
       "      <th>0</th>\n",
       "      <td>3000022</td>\n",
       "      <td>0.0</td>\n",
       "      <td>0.0</td>\n",
       "    </tr>\n",
       "    <tr>\n",
       "      <th>1</th>\n",
       "      <td>3000063</td>\n",
       "      <td>0.0</td>\n",
       "      <td>0.0</td>\n",
       "    </tr>\n",
       "    <tr>\n",
       "      <th>2</th>\n",
       "      <td>3000613</td>\n",
       "      <td>0.0</td>\n",
       "      <td>0.0</td>\n",
       "    </tr>\n",
       "    <tr>\n",
       "      <th>3</th>\n",
       "      <td>3000700</td>\n",
       "      <td>0.0</td>\n",
       "      <td>0.0</td>\n",
       "    </tr>\n",
       "    <tr>\n",
       "      <th>4</th>\n",
       "      <td>3000840</td>\n",
       "      <td>0.0</td>\n",
       "      <td>0.0</td>\n",
       "    </tr>\n",
       "  </tbody>\n",
       "</table>\n",
       "</div>"
      ],
      "text/plain": [
       "   article_id  total_ctr  total_avg_time\n",
       "0     3000022        0.0             0.0\n",
       "1     3000063        0.0             0.0\n",
       "2     3000613        0.0             0.0\n",
       "3     3000700        0.0             0.0\n",
       "4     3000840        0.0             0.0"
      ]
     },
     "execution_count": 11,
     "metadata": {},
     "output_type": "execute_result"
    }
   ],
   "source": [
    "# Calculating engagement metrics: Click-Through Rate (CTR) and Average Time Spent on an Article\n",
    "\n",
    "# Ensure the necessary columns are present in articles_df\n",
    "# 'total_pageviews', 'total_inviews', and 'total_read_time' should be in the DataFrame\n",
    "\n",
    "# Calculate Click-Through Rate (CTR) as total_pageviews / total_inviews\n",
    "# To avoid division by zero, we replace any zero in total_inviews with NaN and then fill with 0 after calculation\n",
    "articles_df['total_inviews_replaced'] = articles_df['total_inviews'].replace(0, pd.NA)\n",
    "articles_df['total_ctr'] = (articles_df['total_pageviews'] / articles_df['total_inviews_replaced']).fillna(0)\n",
    "\n",
    "# Calculate Average Time Spent on an Article (total_avg_time) as total_read_time / total_pageviews\n",
    "# Here, we replace any zero in total_pageviews with NaN to avoid division by zero, then fill with 0 after calculation\n",
    "articles_df['total_pageviews_replaced'] = articles_df['total_pageviews'].replace(0, pd.NA)\n",
    "articles_df['total_avg_time'] = (articles_df['total_read_time'] / articles_df['total_pageviews_replaced']).fillna(0)\n",
    "\n",
    "# Drop temporary columns used for calculations\n",
    "articles_df = articles_df.drop(columns=['total_inviews_replaced', 'total_pageviews_replaced'])\n",
    "\n",
    "# Display the resulting DataFrame to verify changes\n",
    "articles_df[['article_id', 'total_ctr', 'total_avg_time']].head()\n"
   ]
  },
  {
   "cell_type": "code",
   "execution_count": 12,
   "metadata": {},
   "outputs": [
    {
     "data": {
      "text/plain": [
       "0   NaN\n",
       "1   NaN\n",
       "2   NaN\n",
       "3   NaN\n",
       "4   NaN\n",
       "Name: total_inviews, dtype: float64"
      ]
     },
     "execution_count": 12,
     "metadata": {},
     "output_type": "execute_result"
    }
   ],
   "source": [
    "# Displaying the contents of the 'total_inviews' column to understand its data\n",
    "articles_df['total_inviews'].head()\n"
   ]
  },
  {
   "cell_type": "code",
   "execution_count": 13,
   "metadata": {},
   "outputs": [
    {
     "data": {
      "text/html": [
       "<div>\n",
       "<style scoped>\n",
       "    .dataframe tbody tr th:only-of-type {\n",
       "        vertical-align: middle;\n",
       "    }\n",
       "\n",
       "    .dataframe tbody tr th {\n",
       "        vertical-align: top;\n",
       "    }\n",
       "\n",
       "    .dataframe thead th {\n",
       "        text-align: right;\n",
       "    }\n",
       "</style>\n",
       "<table border=\"1\" class=\"dataframe\">\n",
       "  <thead>\n",
       "    <tr style=\"text-align: right;\">\n",
       "      <th></th>\n",
       "      <th>article_id</th>\n",
       "      <th>total_ctr</th>\n",
       "      <th>total_avg_time</th>\n",
       "      <th>total_pageviews</th>\n",
       "      <th>total_inviews</th>\n",
       "      <th>total_read_time</th>\n",
       "    </tr>\n",
       "  </thead>\n",
       "  <tbody>\n",
       "    <tr>\n",
       "      <th>0</th>\n",
       "      <td>3000022</td>\n",
       "      <td>0.148524</td>\n",
       "      <td>53.546869</td>\n",
       "      <td>43590.0</td>\n",
       "      <td>293488.5</td>\n",
       "      <td>2334108.0</td>\n",
       "    </tr>\n",
       "    <tr>\n",
       "      <th>1</th>\n",
       "      <td>3000063</td>\n",
       "      <td>0.148524</td>\n",
       "      <td>53.546869</td>\n",
       "      <td>43590.0</td>\n",
       "      <td>293488.5</td>\n",
       "      <td>2334108.0</td>\n",
       "    </tr>\n",
       "    <tr>\n",
       "      <th>2</th>\n",
       "      <td>3000613</td>\n",
       "      <td>0.148524</td>\n",
       "      <td>53.546869</td>\n",
       "      <td>43590.0</td>\n",
       "      <td>293488.5</td>\n",
       "      <td>2334108.0</td>\n",
       "    </tr>\n",
       "    <tr>\n",
       "      <th>3</th>\n",
       "      <td>3000700</td>\n",
       "      <td>0.148524</td>\n",
       "      <td>53.546869</td>\n",
       "      <td>43590.0</td>\n",
       "      <td>293488.5</td>\n",
       "      <td>2334108.0</td>\n",
       "    </tr>\n",
       "    <tr>\n",
       "      <th>4</th>\n",
       "      <td>3000840</td>\n",
       "      <td>0.148524</td>\n",
       "      <td>53.546869</td>\n",
       "      <td>43590.0</td>\n",
       "      <td>293488.5</td>\n",
       "      <td>2334108.0</td>\n",
       "    </tr>\n",
       "  </tbody>\n",
       "</table>\n",
       "</div>"
      ],
      "text/plain": [
       "   article_id  total_ctr  total_avg_time  total_pageviews  total_inviews  \\\n",
       "0     3000022   0.148524       53.546869          43590.0       293488.5   \n",
       "1     3000063   0.148524       53.546869          43590.0       293488.5   \n",
       "2     3000613   0.148524       53.546869          43590.0       293488.5   \n",
       "3     3000700   0.148524       53.546869          43590.0       293488.5   \n",
       "4     3000840   0.148524       53.546869          43590.0       293488.5   \n",
       "\n",
       "   total_read_time  \n",
       "0        2334108.0  \n",
       "1        2334108.0  \n",
       "2        2334108.0  \n",
       "3        2334108.0  \n",
       "4        2334108.0  "
      ]
     },
     "execution_count": 13,
     "metadata": {},
     "output_type": "execute_result"
    }
   ],
   "source": [
    "# Filling missing values for 'total_pageviews', 'total_read_time', and 'total_inviews' with their medians\n",
    "\n",
    "# Calculate medians for the necessary columns\n",
    "pageviews_median = articles_df['total_pageviews'].median()\n",
    "read_time_median = articles_df['total_read_time'].median()\n",
    "inviews_median = articles_df['total_inviews'].median()\n",
    "\n",
    "# Fill NaN values in 'total_pageviews', 'total_read_time', and 'total_inviews' with their respective medians\n",
    "articles_df['total_pageviews'] = articles_df['total_pageviews'].fillna(pageviews_median)\n",
    "articles_df['total_read_time'] = articles_df['total_read_time'].fillna(read_time_median)\n",
    "articles_df['total_inviews'] = articles_df['total_inviews'].fillna(inviews_median)\n",
    "\n",
    "# Recalculate Click-Through Rate (CTR) and Average Time Spent on an Article\n",
    "articles_df['total_ctr'] = articles_df['total_pageviews'] / articles_df['total_inviews']\n",
    "articles_df['total_avg_time'] = articles_df['total_read_time'] / articles_df['total_pageviews']\n",
    "\n",
    "# Display the updated DataFrame to verify changes\n",
    "articles_df[['article_id', 'total_ctr', 'total_avg_time', 'total_pageviews', 'total_inviews', 'total_read_time']].head()\n"
   ]
  },
  {
   "cell_type": "markdown",
   "metadata": {},
   "source": [
    "Load and Explode behaviors.parquet"
   ]
  },
  {
   "cell_type": "code",
   "execution_count": 29,
   "metadata": {},
   "outputs": [
    {
     "name": "stdout",
     "output_type": "stream",
     "text": [
      "Index(['impression_id', 'article_id', 'impression_time', 'read_time',\n",
      "       'scroll_percentage', 'device_type', 'article_ids_inview',\n",
      "       'article_ids_clicked', 'user_id', 'is_sso_user', 'is_subscriber',\n",
      "       'session_id', 'next_read_time', 'next_scroll_percentage'],\n",
      "      dtype='object')\n"
     ]
    }
   ],
   "source": [
    "print(behavior_df.columns)"
   ]
  },
  {
   "cell_type": "code",
   "execution_count": 14,
   "metadata": {},
   "outputs": [
    {
     "data": {
      "text/html": [
       "<div>\n",
       "<style scoped>\n",
       "    .dataframe tbody tr th:only-of-type {\n",
       "        vertical-align: middle;\n",
       "    }\n",
       "\n",
       "    .dataframe tbody tr th {\n",
       "        vertical-align: top;\n",
       "    }\n",
       "\n",
       "    .dataframe thead th {\n",
       "        text-align: right;\n",
       "    }\n",
       "</style>\n",
       "<table border=\"1\" class=\"dataframe\">\n",
       "  <thead>\n",
       "    <tr style=\"text-align: right;\">\n",
       "      <th></th>\n",
       "      <th>impression_id</th>\n",
       "      <th>impression_time</th>\n",
       "      <th>user_id</th>\n",
       "      <th>article_ids_inview</th>\n",
       "    </tr>\n",
       "  </thead>\n",
       "  <tbody>\n",
       "    <tr>\n",
       "      <th>0</th>\n",
       "      <td>47727</td>\n",
       "      <td>2023-05-21 21:35:07</td>\n",
       "      <td>18293</td>\n",
       "      <td>[9482380, 9775183, 9744403, 9775297, 9774020, ...</td>\n",
       "    </tr>\n",
       "    <tr>\n",
       "      <th>1</th>\n",
       "      <td>47731</td>\n",
       "      <td>2023-05-21 21:32:33</td>\n",
       "      <td>18293</td>\n",
       "      <td>[9774557, 9774516, 9775331, 9775277, 9759966]</td>\n",
       "    </tr>\n",
       "    <tr>\n",
       "      <th>2</th>\n",
       "      <td>47736</td>\n",
       "      <td>2023-05-21 21:33:32</td>\n",
       "      <td>18293</td>\n",
       "      <td>[9759966, 9774557, 9775352, 9746360, 9772601, ...</td>\n",
       "    </tr>\n",
       "    <tr>\n",
       "      <th>3</th>\n",
       "      <td>47737</td>\n",
       "      <td>2023-05-21 21:38:17</td>\n",
       "      <td>18293</td>\n",
       "      <td>[9774580, 9775131, 9775202, 9774789, 9774972, ...</td>\n",
       "    </tr>\n",
       "    <tr>\n",
       "      <th>4</th>\n",
       "      <td>47740</td>\n",
       "      <td>2023-05-21 21:36:02</td>\n",
       "      <td>18293</td>\n",
       "      <td>[9774826, 9775171, 9775076, 9769624, 9775056, ...</td>\n",
       "    </tr>\n",
       "  </tbody>\n",
       "</table>\n",
       "</div>"
      ],
      "text/plain": [
       "   impression_id     impression_time  user_id  \\\n",
       "0          47727 2023-05-21 21:35:07    18293   \n",
       "1          47731 2023-05-21 21:32:33    18293   \n",
       "2          47736 2023-05-21 21:33:32    18293   \n",
       "3          47737 2023-05-21 21:38:17    18293   \n",
       "4          47740 2023-05-21 21:36:02    18293   \n",
       "\n",
       "                                  article_ids_inview  \n",
       "0  [9482380, 9775183, 9744403, 9775297, 9774020, ...  \n",
       "1      [9774557, 9774516, 9775331, 9775277, 9759966]  \n",
       "2  [9759966, 9774557, 9775352, 9746360, 9772601, ...  \n",
       "3  [9774580, 9775131, 9775202, 9774789, 9774972, ...  \n",
       "4  [9774826, 9775171, 9775076, 9769624, 9775056, ...  "
      ]
     },
     "execution_count": 14,
     "metadata": {},
     "output_type": "execute_result"
    }
   ],
   "source": [
    "# Specifying the columns to load for efficient data handling\n",
    "behavior_columns = ['impression_id', 'impression_time', 'user_id', 'article_ids_inview']\n",
    "\n",
    "# Assuming the file path is defined as 'behavior_file' and pointing to the parquet data file\n",
    "# Load only the specified columns from the behaviors file\n",
    "behavior_df = pd.read_parquet(behavior_file, columns=behavior_columns)\n",
    "\n",
    "# Display the first few rows of the loaded data to verify\n",
    "behavior_df.head()"
   ]
  },
  {
   "cell_type": "markdown",
   "metadata": {},
   "source": [
    " Add a feature (articles_num) for the count of in-view articles, and explode article_ids_inview to have one article per row for each impression."
   ]
  },
  {
   "cell_type": "code",
   "execution_count": 15,
   "metadata": {},
   "outputs": [
    {
     "name": "stderr",
     "output_type": "stream",
     "text": [
      "C:\\Users\\Lydia\\AppData\\Local\\Temp\\ipykernel_19764\\81006019.py:16: SettingWithCopyWarning: \n",
      "A value is trying to be set on a copy of a slice from a DataFrame.\n",
      "Try using .loc[row_indexer,col_indexer] = value instead\n",
      "\n",
      "See the caveats in the documentation: https://pandas.pydata.org/pandas-docs/stable/user_guide/indexing.html#returning-a-view-versus-a-copy\n",
      "  chunk['articles_num'] = chunk['article_ids_inview'].apply(len)\n"
     ]
    },
    {
     "name": "stdout",
     "output_type": "stream",
     "text": [
      "Processed chunk 1 of 121\n"
     ]
    },
    {
     "name": "stderr",
     "output_type": "stream",
     "text": [
      "C:\\Users\\Lydia\\AppData\\Local\\Temp\\ipykernel_19764\\81006019.py:16: SettingWithCopyWarning: \n",
      "A value is trying to be set on a copy of a slice from a DataFrame.\n",
      "Try using .loc[row_indexer,col_indexer] = value instead\n",
      "\n",
      "See the caveats in the documentation: https://pandas.pydata.org/pandas-docs/stable/user_guide/indexing.html#returning-a-view-versus-a-copy\n",
      "  chunk['articles_num'] = chunk['article_ids_inview'].apply(len)\n"
     ]
    },
    {
     "name": "stdout",
     "output_type": "stream",
     "text": [
      "Processed chunk 2 of 121\n"
     ]
    },
    {
     "name": "stderr",
     "output_type": "stream",
     "text": [
      "C:\\Users\\Lydia\\AppData\\Local\\Temp\\ipykernel_19764\\81006019.py:16: SettingWithCopyWarning: \n",
      "A value is trying to be set on a copy of a slice from a DataFrame.\n",
      "Try using .loc[row_indexer,col_indexer] = value instead\n",
      "\n",
      "See the caveats in the documentation: https://pandas.pydata.org/pandas-docs/stable/user_guide/indexing.html#returning-a-view-versus-a-copy\n",
      "  chunk['articles_num'] = chunk['article_ids_inview'].apply(len)\n"
     ]
    },
    {
     "name": "stdout",
     "output_type": "stream",
     "text": [
      "Processed chunk 3 of 121\n"
     ]
    },
    {
     "name": "stderr",
     "output_type": "stream",
     "text": [
      "C:\\Users\\Lydia\\AppData\\Local\\Temp\\ipykernel_19764\\81006019.py:16: SettingWithCopyWarning: \n",
      "A value is trying to be set on a copy of a slice from a DataFrame.\n",
      "Try using .loc[row_indexer,col_indexer] = value instead\n",
      "\n",
      "See the caveats in the documentation: https://pandas.pydata.org/pandas-docs/stable/user_guide/indexing.html#returning-a-view-versus-a-copy\n",
      "  chunk['articles_num'] = chunk['article_ids_inview'].apply(len)\n"
     ]
    },
    {
     "name": "stdout",
     "output_type": "stream",
     "text": [
      "Processed chunk 4 of 121\n"
     ]
    },
    {
     "name": "stderr",
     "output_type": "stream",
     "text": [
      "C:\\Users\\Lydia\\AppData\\Local\\Temp\\ipykernel_19764\\81006019.py:16: SettingWithCopyWarning: \n",
      "A value is trying to be set on a copy of a slice from a DataFrame.\n",
      "Try using .loc[row_indexer,col_indexer] = value instead\n",
      "\n",
      "See the caveats in the documentation: https://pandas.pydata.org/pandas-docs/stable/user_guide/indexing.html#returning-a-view-versus-a-copy\n",
      "  chunk['articles_num'] = chunk['article_ids_inview'].apply(len)\n"
     ]
    },
    {
     "name": "stdout",
     "output_type": "stream",
     "text": [
      "Processed chunk 5 of 121\n"
     ]
    },
    {
     "name": "stderr",
     "output_type": "stream",
     "text": [
      "C:\\Users\\Lydia\\AppData\\Local\\Temp\\ipykernel_19764\\81006019.py:16: SettingWithCopyWarning: \n",
      "A value is trying to be set on a copy of a slice from a DataFrame.\n",
      "Try using .loc[row_indexer,col_indexer] = value instead\n",
      "\n",
      "See the caveats in the documentation: https://pandas.pydata.org/pandas-docs/stable/user_guide/indexing.html#returning-a-view-versus-a-copy\n",
      "  chunk['articles_num'] = chunk['article_ids_inview'].apply(len)\n"
     ]
    },
    {
     "name": "stdout",
     "output_type": "stream",
     "text": [
      "Processed chunk 6 of 121\n"
     ]
    },
    {
     "name": "stderr",
     "output_type": "stream",
     "text": [
      "C:\\Users\\Lydia\\AppData\\Local\\Temp\\ipykernel_19764\\81006019.py:16: SettingWithCopyWarning: \n",
      "A value is trying to be set on a copy of a slice from a DataFrame.\n",
      "Try using .loc[row_indexer,col_indexer] = value instead\n",
      "\n",
      "See the caveats in the documentation: https://pandas.pydata.org/pandas-docs/stable/user_guide/indexing.html#returning-a-view-versus-a-copy\n",
      "  chunk['articles_num'] = chunk['article_ids_inview'].apply(len)\n"
     ]
    },
    {
     "name": "stdout",
     "output_type": "stream",
     "text": [
      "Processed chunk 7 of 121\n"
     ]
    },
    {
     "name": "stderr",
     "output_type": "stream",
     "text": [
      "C:\\Users\\Lydia\\AppData\\Local\\Temp\\ipykernel_19764\\81006019.py:16: SettingWithCopyWarning: \n",
      "A value is trying to be set on a copy of a slice from a DataFrame.\n",
      "Try using .loc[row_indexer,col_indexer] = value instead\n",
      "\n",
      "See the caveats in the documentation: https://pandas.pydata.org/pandas-docs/stable/user_guide/indexing.html#returning-a-view-versus-a-copy\n",
      "  chunk['articles_num'] = chunk['article_ids_inview'].apply(len)\n"
     ]
    },
    {
     "name": "stdout",
     "output_type": "stream",
     "text": [
      "Processed chunk 8 of 121\n"
     ]
    },
    {
     "name": "stderr",
     "output_type": "stream",
     "text": [
      "C:\\Users\\Lydia\\AppData\\Local\\Temp\\ipykernel_19764\\81006019.py:16: SettingWithCopyWarning: \n",
      "A value is trying to be set on a copy of a slice from a DataFrame.\n",
      "Try using .loc[row_indexer,col_indexer] = value instead\n",
      "\n",
      "See the caveats in the documentation: https://pandas.pydata.org/pandas-docs/stable/user_guide/indexing.html#returning-a-view-versus-a-copy\n",
      "  chunk['articles_num'] = chunk['article_ids_inview'].apply(len)\n"
     ]
    },
    {
     "name": "stdout",
     "output_type": "stream",
     "text": [
      "Processed chunk 9 of 121\n"
     ]
    },
    {
     "name": "stderr",
     "output_type": "stream",
     "text": [
      "C:\\Users\\Lydia\\AppData\\Local\\Temp\\ipykernel_19764\\81006019.py:16: SettingWithCopyWarning: \n",
      "A value is trying to be set on a copy of a slice from a DataFrame.\n",
      "Try using .loc[row_indexer,col_indexer] = value instead\n",
      "\n",
      "See the caveats in the documentation: https://pandas.pydata.org/pandas-docs/stable/user_guide/indexing.html#returning-a-view-versus-a-copy\n",
      "  chunk['articles_num'] = chunk['article_ids_inview'].apply(len)\n"
     ]
    },
    {
     "name": "stdout",
     "output_type": "stream",
     "text": [
      "Processed chunk 10 of 121\n"
     ]
    },
    {
     "name": "stderr",
     "output_type": "stream",
     "text": [
      "C:\\Users\\Lydia\\AppData\\Local\\Temp\\ipykernel_19764\\81006019.py:16: SettingWithCopyWarning: \n",
      "A value is trying to be set on a copy of a slice from a DataFrame.\n",
      "Try using .loc[row_indexer,col_indexer] = value instead\n",
      "\n",
      "See the caveats in the documentation: https://pandas.pydata.org/pandas-docs/stable/user_guide/indexing.html#returning-a-view-versus-a-copy\n",
      "  chunk['articles_num'] = chunk['article_ids_inview'].apply(len)\n"
     ]
    },
    {
     "name": "stdout",
     "output_type": "stream",
     "text": [
      "Processed chunk 11 of 121\n"
     ]
    },
    {
     "name": "stderr",
     "output_type": "stream",
     "text": [
      "C:\\Users\\Lydia\\AppData\\Local\\Temp\\ipykernel_19764\\81006019.py:16: SettingWithCopyWarning: \n",
      "A value is trying to be set on a copy of a slice from a DataFrame.\n",
      "Try using .loc[row_indexer,col_indexer] = value instead\n",
      "\n",
      "See the caveats in the documentation: https://pandas.pydata.org/pandas-docs/stable/user_guide/indexing.html#returning-a-view-versus-a-copy\n",
      "  chunk['articles_num'] = chunk['article_ids_inview'].apply(len)\n"
     ]
    },
    {
     "name": "stdout",
     "output_type": "stream",
     "text": [
      "Processed chunk 12 of 121\n"
     ]
    },
    {
     "name": "stderr",
     "output_type": "stream",
     "text": [
      "C:\\Users\\Lydia\\AppData\\Local\\Temp\\ipykernel_19764\\81006019.py:16: SettingWithCopyWarning: \n",
      "A value is trying to be set on a copy of a slice from a DataFrame.\n",
      "Try using .loc[row_indexer,col_indexer] = value instead\n",
      "\n",
      "See the caveats in the documentation: https://pandas.pydata.org/pandas-docs/stable/user_guide/indexing.html#returning-a-view-versus-a-copy\n",
      "  chunk['articles_num'] = chunk['article_ids_inview'].apply(len)\n"
     ]
    },
    {
     "name": "stdout",
     "output_type": "stream",
     "text": [
      "Processed chunk 13 of 121\n"
     ]
    },
    {
     "name": "stderr",
     "output_type": "stream",
     "text": [
      "C:\\Users\\Lydia\\AppData\\Local\\Temp\\ipykernel_19764\\81006019.py:16: SettingWithCopyWarning: \n",
      "A value is trying to be set on a copy of a slice from a DataFrame.\n",
      "Try using .loc[row_indexer,col_indexer] = value instead\n",
      "\n",
      "See the caveats in the documentation: https://pandas.pydata.org/pandas-docs/stable/user_guide/indexing.html#returning-a-view-versus-a-copy\n",
      "  chunk['articles_num'] = chunk['article_ids_inview'].apply(len)\n"
     ]
    },
    {
     "name": "stdout",
     "output_type": "stream",
     "text": [
      "Processed chunk 14 of 121\n"
     ]
    },
    {
     "name": "stderr",
     "output_type": "stream",
     "text": [
      "C:\\Users\\Lydia\\AppData\\Local\\Temp\\ipykernel_19764\\81006019.py:16: SettingWithCopyWarning: \n",
      "A value is trying to be set on a copy of a slice from a DataFrame.\n",
      "Try using .loc[row_indexer,col_indexer] = value instead\n",
      "\n",
      "See the caveats in the documentation: https://pandas.pydata.org/pandas-docs/stable/user_guide/indexing.html#returning-a-view-versus-a-copy\n",
      "  chunk['articles_num'] = chunk['article_ids_inview'].apply(len)\n"
     ]
    },
    {
     "name": "stdout",
     "output_type": "stream",
     "text": [
      "Processed chunk 15 of 121\n"
     ]
    },
    {
     "name": "stderr",
     "output_type": "stream",
     "text": [
      "C:\\Users\\Lydia\\AppData\\Local\\Temp\\ipykernel_19764\\81006019.py:16: SettingWithCopyWarning: \n",
      "A value is trying to be set on a copy of a slice from a DataFrame.\n",
      "Try using .loc[row_indexer,col_indexer] = value instead\n",
      "\n",
      "See the caveats in the documentation: https://pandas.pydata.org/pandas-docs/stable/user_guide/indexing.html#returning-a-view-versus-a-copy\n",
      "  chunk['articles_num'] = chunk['article_ids_inview'].apply(len)\n"
     ]
    },
    {
     "name": "stdout",
     "output_type": "stream",
     "text": [
      "Processed chunk 16 of 121\n"
     ]
    },
    {
     "name": "stderr",
     "output_type": "stream",
     "text": [
      "C:\\Users\\Lydia\\AppData\\Local\\Temp\\ipykernel_19764\\81006019.py:16: SettingWithCopyWarning: \n",
      "A value is trying to be set on a copy of a slice from a DataFrame.\n",
      "Try using .loc[row_indexer,col_indexer] = value instead\n",
      "\n",
      "See the caveats in the documentation: https://pandas.pydata.org/pandas-docs/stable/user_guide/indexing.html#returning-a-view-versus-a-copy\n",
      "  chunk['articles_num'] = chunk['article_ids_inview'].apply(len)\n"
     ]
    },
    {
     "name": "stdout",
     "output_type": "stream",
     "text": [
      "Processed chunk 17 of 121\n"
     ]
    },
    {
     "name": "stderr",
     "output_type": "stream",
     "text": [
      "C:\\Users\\Lydia\\AppData\\Local\\Temp\\ipykernel_19764\\81006019.py:16: SettingWithCopyWarning: \n",
      "A value is trying to be set on a copy of a slice from a DataFrame.\n",
      "Try using .loc[row_indexer,col_indexer] = value instead\n",
      "\n",
      "See the caveats in the documentation: https://pandas.pydata.org/pandas-docs/stable/user_guide/indexing.html#returning-a-view-versus-a-copy\n",
      "  chunk['articles_num'] = chunk['article_ids_inview'].apply(len)\n"
     ]
    },
    {
     "name": "stdout",
     "output_type": "stream",
     "text": [
      "Processed chunk 18 of 121\n"
     ]
    },
    {
     "name": "stderr",
     "output_type": "stream",
     "text": [
      "C:\\Users\\Lydia\\AppData\\Local\\Temp\\ipykernel_19764\\81006019.py:16: SettingWithCopyWarning: \n",
      "A value is trying to be set on a copy of a slice from a DataFrame.\n",
      "Try using .loc[row_indexer,col_indexer] = value instead\n",
      "\n",
      "See the caveats in the documentation: https://pandas.pydata.org/pandas-docs/stable/user_guide/indexing.html#returning-a-view-versus-a-copy\n",
      "  chunk['articles_num'] = chunk['article_ids_inview'].apply(len)\n"
     ]
    },
    {
     "name": "stdout",
     "output_type": "stream",
     "text": [
      "Processed chunk 19 of 121\n"
     ]
    },
    {
     "name": "stderr",
     "output_type": "stream",
     "text": [
      "C:\\Users\\Lydia\\AppData\\Local\\Temp\\ipykernel_19764\\81006019.py:16: SettingWithCopyWarning: \n",
      "A value is trying to be set on a copy of a slice from a DataFrame.\n",
      "Try using .loc[row_indexer,col_indexer] = value instead\n",
      "\n",
      "See the caveats in the documentation: https://pandas.pydata.org/pandas-docs/stable/user_guide/indexing.html#returning-a-view-versus-a-copy\n",
      "  chunk['articles_num'] = chunk['article_ids_inview'].apply(len)\n"
     ]
    },
    {
     "name": "stdout",
     "output_type": "stream",
     "text": [
      "Processed chunk 20 of 121\n"
     ]
    },
    {
     "name": "stderr",
     "output_type": "stream",
     "text": [
      "C:\\Users\\Lydia\\AppData\\Local\\Temp\\ipykernel_19764\\81006019.py:16: SettingWithCopyWarning: \n",
      "A value is trying to be set on a copy of a slice from a DataFrame.\n",
      "Try using .loc[row_indexer,col_indexer] = value instead\n",
      "\n",
      "See the caveats in the documentation: https://pandas.pydata.org/pandas-docs/stable/user_guide/indexing.html#returning-a-view-versus-a-copy\n",
      "  chunk['articles_num'] = chunk['article_ids_inview'].apply(len)\n"
     ]
    },
    {
     "name": "stdout",
     "output_type": "stream",
     "text": [
      "Processed chunk 21 of 121\n"
     ]
    },
    {
     "name": "stderr",
     "output_type": "stream",
     "text": [
      "C:\\Users\\Lydia\\AppData\\Local\\Temp\\ipykernel_19764\\81006019.py:16: SettingWithCopyWarning: \n",
      "A value is trying to be set on a copy of a slice from a DataFrame.\n",
      "Try using .loc[row_indexer,col_indexer] = value instead\n",
      "\n",
      "See the caveats in the documentation: https://pandas.pydata.org/pandas-docs/stable/user_guide/indexing.html#returning-a-view-versus-a-copy\n",
      "  chunk['articles_num'] = chunk['article_ids_inview'].apply(len)\n"
     ]
    },
    {
     "name": "stdout",
     "output_type": "stream",
     "text": [
      "Processed chunk 22 of 121\n"
     ]
    },
    {
     "name": "stderr",
     "output_type": "stream",
     "text": [
      "C:\\Users\\Lydia\\AppData\\Local\\Temp\\ipykernel_19764\\81006019.py:16: SettingWithCopyWarning: \n",
      "A value is trying to be set on a copy of a slice from a DataFrame.\n",
      "Try using .loc[row_indexer,col_indexer] = value instead\n",
      "\n",
      "See the caveats in the documentation: https://pandas.pydata.org/pandas-docs/stable/user_guide/indexing.html#returning-a-view-versus-a-copy\n",
      "  chunk['articles_num'] = chunk['article_ids_inview'].apply(len)\n"
     ]
    },
    {
     "name": "stdout",
     "output_type": "stream",
     "text": [
      "Processed chunk 23 of 121\n"
     ]
    },
    {
     "name": "stderr",
     "output_type": "stream",
     "text": [
      "C:\\Users\\Lydia\\AppData\\Local\\Temp\\ipykernel_19764\\81006019.py:16: SettingWithCopyWarning: \n",
      "A value is trying to be set on a copy of a slice from a DataFrame.\n",
      "Try using .loc[row_indexer,col_indexer] = value instead\n",
      "\n",
      "See the caveats in the documentation: https://pandas.pydata.org/pandas-docs/stable/user_guide/indexing.html#returning-a-view-versus-a-copy\n",
      "  chunk['articles_num'] = chunk['article_ids_inview'].apply(len)\n"
     ]
    },
    {
     "name": "stdout",
     "output_type": "stream",
     "text": [
      "Processed chunk 24 of 121\n"
     ]
    },
    {
     "name": "stderr",
     "output_type": "stream",
     "text": [
      "C:\\Users\\Lydia\\AppData\\Local\\Temp\\ipykernel_19764\\81006019.py:16: SettingWithCopyWarning: \n",
      "A value is trying to be set on a copy of a slice from a DataFrame.\n",
      "Try using .loc[row_indexer,col_indexer] = value instead\n",
      "\n",
      "See the caveats in the documentation: https://pandas.pydata.org/pandas-docs/stable/user_guide/indexing.html#returning-a-view-versus-a-copy\n",
      "  chunk['articles_num'] = chunk['article_ids_inview'].apply(len)\n"
     ]
    },
    {
     "name": "stdout",
     "output_type": "stream",
     "text": [
      "Processed chunk 25 of 121\n"
     ]
    },
    {
     "name": "stderr",
     "output_type": "stream",
     "text": [
      "C:\\Users\\Lydia\\AppData\\Local\\Temp\\ipykernel_19764\\81006019.py:16: SettingWithCopyWarning: \n",
      "A value is trying to be set on a copy of a slice from a DataFrame.\n",
      "Try using .loc[row_indexer,col_indexer] = value instead\n",
      "\n",
      "See the caveats in the documentation: https://pandas.pydata.org/pandas-docs/stable/user_guide/indexing.html#returning-a-view-versus-a-copy\n",
      "  chunk['articles_num'] = chunk['article_ids_inview'].apply(len)\n"
     ]
    },
    {
     "name": "stdout",
     "output_type": "stream",
     "text": [
      "Processed chunk 26 of 121\n"
     ]
    },
    {
     "name": "stderr",
     "output_type": "stream",
     "text": [
      "C:\\Users\\Lydia\\AppData\\Local\\Temp\\ipykernel_19764\\81006019.py:16: SettingWithCopyWarning: \n",
      "A value is trying to be set on a copy of a slice from a DataFrame.\n",
      "Try using .loc[row_indexer,col_indexer] = value instead\n",
      "\n",
      "See the caveats in the documentation: https://pandas.pydata.org/pandas-docs/stable/user_guide/indexing.html#returning-a-view-versus-a-copy\n",
      "  chunk['articles_num'] = chunk['article_ids_inview'].apply(len)\n"
     ]
    },
    {
     "name": "stdout",
     "output_type": "stream",
     "text": [
      "Processed chunk 27 of 121\n"
     ]
    },
    {
     "name": "stderr",
     "output_type": "stream",
     "text": [
      "C:\\Users\\Lydia\\AppData\\Local\\Temp\\ipykernel_19764\\81006019.py:16: SettingWithCopyWarning: \n",
      "A value is trying to be set on a copy of a slice from a DataFrame.\n",
      "Try using .loc[row_indexer,col_indexer] = value instead\n",
      "\n",
      "See the caveats in the documentation: https://pandas.pydata.org/pandas-docs/stable/user_guide/indexing.html#returning-a-view-versus-a-copy\n",
      "  chunk['articles_num'] = chunk['article_ids_inview'].apply(len)\n"
     ]
    },
    {
     "name": "stdout",
     "output_type": "stream",
     "text": [
      "Processed chunk 28 of 121\n"
     ]
    },
    {
     "name": "stderr",
     "output_type": "stream",
     "text": [
      "C:\\Users\\Lydia\\AppData\\Local\\Temp\\ipykernel_19764\\81006019.py:16: SettingWithCopyWarning: \n",
      "A value is trying to be set on a copy of a slice from a DataFrame.\n",
      "Try using .loc[row_indexer,col_indexer] = value instead\n",
      "\n",
      "See the caveats in the documentation: https://pandas.pydata.org/pandas-docs/stable/user_guide/indexing.html#returning-a-view-versus-a-copy\n",
      "  chunk['articles_num'] = chunk['article_ids_inview'].apply(len)\n"
     ]
    },
    {
     "name": "stdout",
     "output_type": "stream",
     "text": [
      "Processed chunk 29 of 121\n"
     ]
    },
    {
     "name": "stderr",
     "output_type": "stream",
     "text": [
      "C:\\Users\\Lydia\\AppData\\Local\\Temp\\ipykernel_19764\\81006019.py:16: SettingWithCopyWarning: \n",
      "A value is trying to be set on a copy of a slice from a DataFrame.\n",
      "Try using .loc[row_indexer,col_indexer] = value instead\n",
      "\n",
      "See the caveats in the documentation: https://pandas.pydata.org/pandas-docs/stable/user_guide/indexing.html#returning-a-view-versus-a-copy\n",
      "  chunk['articles_num'] = chunk['article_ids_inview'].apply(len)\n"
     ]
    },
    {
     "name": "stdout",
     "output_type": "stream",
     "text": [
      "Processed chunk 30 of 121\n"
     ]
    },
    {
     "name": "stderr",
     "output_type": "stream",
     "text": [
      "C:\\Users\\Lydia\\AppData\\Local\\Temp\\ipykernel_19764\\81006019.py:16: SettingWithCopyWarning: \n",
      "A value is trying to be set on a copy of a slice from a DataFrame.\n",
      "Try using .loc[row_indexer,col_indexer] = value instead\n",
      "\n",
      "See the caveats in the documentation: https://pandas.pydata.org/pandas-docs/stable/user_guide/indexing.html#returning-a-view-versus-a-copy\n",
      "  chunk['articles_num'] = chunk['article_ids_inview'].apply(len)\n"
     ]
    },
    {
     "name": "stdout",
     "output_type": "stream",
     "text": [
      "Processed chunk 31 of 121\n"
     ]
    },
    {
     "name": "stderr",
     "output_type": "stream",
     "text": [
      "C:\\Users\\Lydia\\AppData\\Local\\Temp\\ipykernel_19764\\81006019.py:16: SettingWithCopyWarning: \n",
      "A value is trying to be set on a copy of a slice from a DataFrame.\n",
      "Try using .loc[row_indexer,col_indexer] = value instead\n",
      "\n",
      "See the caveats in the documentation: https://pandas.pydata.org/pandas-docs/stable/user_guide/indexing.html#returning-a-view-versus-a-copy\n",
      "  chunk['articles_num'] = chunk['article_ids_inview'].apply(len)\n"
     ]
    },
    {
     "name": "stdout",
     "output_type": "stream",
     "text": [
      "Processed chunk 32 of 121\n"
     ]
    },
    {
     "name": "stderr",
     "output_type": "stream",
     "text": [
      "C:\\Users\\Lydia\\AppData\\Local\\Temp\\ipykernel_19764\\81006019.py:16: SettingWithCopyWarning: \n",
      "A value is trying to be set on a copy of a slice from a DataFrame.\n",
      "Try using .loc[row_indexer,col_indexer] = value instead\n",
      "\n",
      "See the caveats in the documentation: https://pandas.pydata.org/pandas-docs/stable/user_guide/indexing.html#returning-a-view-versus-a-copy\n",
      "  chunk['articles_num'] = chunk['article_ids_inview'].apply(len)\n"
     ]
    },
    {
     "name": "stdout",
     "output_type": "stream",
     "text": [
      "Processed chunk 33 of 121\n"
     ]
    },
    {
     "name": "stderr",
     "output_type": "stream",
     "text": [
      "C:\\Users\\Lydia\\AppData\\Local\\Temp\\ipykernel_19764\\81006019.py:16: SettingWithCopyWarning: \n",
      "A value is trying to be set on a copy of a slice from a DataFrame.\n",
      "Try using .loc[row_indexer,col_indexer] = value instead\n",
      "\n",
      "See the caveats in the documentation: https://pandas.pydata.org/pandas-docs/stable/user_guide/indexing.html#returning-a-view-versus-a-copy\n",
      "  chunk['articles_num'] = chunk['article_ids_inview'].apply(len)\n"
     ]
    },
    {
     "name": "stdout",
     "output_type": "stream",
     "text": [
      "Processed chunk 34 of 121\n"
     ]
    },
    {
     "name": "stderr",
     "output_type": "stream",
     "text": [
      "C:\\Users\\Lydia\\AppData\\Local\\Temp\\ipykernel_19764\\81006019.py:16: SettingWithCopyWarning: \n",
      "A value is trying to be set on a copy of a slice from a DataFrame.\n",
      "Try using .loc[row_indexer,col_indexer] = value instead\n",
      "\n",
      "See the caveats in the documentation: https://pandas.pydata.org/pandas-docs/stable/user_guide/indexing.html#returning-a-view-versus-a-copy\n",
      "  chunk['articles_num'] = chunk['article_ids_inview'].apply(len)\n"
     ]
    },
    {
     "name": "stdout",
     "output_type": "stream",
     "text": [
      "Processed chunk 35 of 121\n"
     ]
    },
    {
     "name": "stderr",
     "output_type": "stream",
     "text": [
      "C:\\Users\\Lydia\\AppData\\Local\\Temp\\ipykernel_19764\\81006019.py:16: SettingWithCopyWarning: \n",
      "A value is trying to be set on a copy of a slice from a DataFrame.\n",
      "Try using .loc[row_indexer,col_indexer] = value instead\n",
      "\n",
      "See the caveats in the documentation: https://pandas.pydata.org/pandas-docs/stable/user_guide/indexing.html#returning-a-view-versus-a-copy\n",
      "  chunk['articles_num'] = chunk['article_ids_inview'].apply(len)\n"
     ]
    },
    {
     "name": "stdout",
     "output_type": "stream",
     "text": [
      "Processed chunk 36 of 121\n"
     ]
    },
    {
     "name": "stderr",
     "output_type": "stream",
     "text": [
      "C:\\Users\\Lydia\\AppData\\Local\\Temp\\ipykernel_19764\\81006019.py:16: SettingWithCopyWarning: \n",
      "A value is trying to be set on a copy of a slice from a DataFrame.\n",
      "Try using .loc[row_indexer,col_indexer] = value instead\n",
      "\n",
      "See the caveats in the documentation: https://pandas.pydata.org/pandas-docs/stable/user_guide/indexing.html#returning-a-view-versus-a-copy\n",
      "  chunk['articles_num'] = chunk['article_ids_inview'].apply(len)\n"
     ]
    },
    {
     "name": "stdout",
     "output_type": "stream",
     "text": [
      "Processed chunk 37 of 121\n"
     ]
    },
    {
     "name": "stderr",
     "output_type": "stream",
     "text": [
      "C:\\Users\\Lydia\\AppData\\Local\\Temp\\ipykernel_19764\\81006019.py:16: SettingWithCopyWarning: \n",
      "A value is trying to be set on a copy of a slice from a DataFrame.\n",
      "Try using .loc[row_indexer,col_indexer] = value instead\n",
      "\n",
      "See the caveats in the documentation: https://pandas.pydata.org/pandas-docs/stable/user_guide/indexing.html#returning-a-view-versus-a-copy\n",
      "  chunk['articles_num'] = chunk['article_ids_inview'].apply(len)\n"
     ]
    },
    {
     "name": "stdout",
     "output_type": "stream",
     "text": [
      "Processed chunk 38 of 121\n"
     ]
    },
    {
     "name": "stderr",
     "output_type": "stream",
     "text": [
      "C:\\Users\\Lydia\\AppData\\Local\\Temp\\ipykernel_19764\\81006019.py:16: SettingWithCopyWarning: \n",
      "A value is trying to be set on a copy of a slice from a DataFrame.\n",
      "Try using .loc[row_indexer,col_indexer] = value instead\n",
      "\n",
      "See the caveats in the documentation: https://pandas.pydata.org/pandas-docs/stable/user_guide/indexing.html#returning-a-view-versus-a-copy\n",
      "  chunk['articles_num'] = chunk['article_ids_inview'].apply(len)\n"
     ]
    },
    {
     "name": "stdout",
     "output_type": "stream",
     "text": [
      "Processed chunk 39 of 121\n"
     ]
    },
    {
     "name": "stderr",
     "output_type": "stream",
     "text": [
      "C:\\Users\\Lydia\\AppData\\Local\\Temp\\ipykernel_19764\\81006019.py:16: SettingWithCopyWarning: \n",
      "A value is trying to be set on a copy of a slice from a DataFrame.\n",
      "Try using .loc[row_indexer,col_indexer] = value instead\n",
      "\n",
      "See the caveats in the documentation: https://pandas.pydata.org/pandas-docs/stable/user_guide/indexing.html#returning-a-view-versus-a-copy\n",
      "  chunk['articles_num'] = chunk['article_ids_inview'].apply(len)\n"
     ]
    },
    {
     "name": "stdout",
     "output_type": "stream",
     "text": [
      "Processed chunk 40 of 121\n"
     ]
    },
    {
     "name": "stderr",
     "output_type": "stream",
     "text": [
      "C:\\Users\\Lydia\\AppData\\Local\\Temp\\ipykernel_19764\\81006019.py:16: SettingWithCopyWarning: \n",
      "A value is trying to be set on a copy of a slice from a DataFrame.\n",
      "Try using .loc[row_indexer,col_indexer] = value instead\n",
      "\n",
      "See the caveats in the documentation: https://pandas.pydata.org/pandas-docs/stable/user_guide/indexing.html#returning-a-view-versus-a-copy\n",
      "  chunk['articles_num'] = chunk['article_ids_inview'].apply(len)\n"
     ]
    },
    {
     "name": "stdout",
     "output_type": "stream",
     "text": [
      "Processed chunk 41 of 121\n"
     ]
    },
    {
     "name": "stderr",
     "output_type": "stream",
     "text": [
      "C:\\Users\\Lydia\\AppData\\Local\\Temp\\ipykernel_19764\\81006019.py:16: SettingWithCopyWarning: \n",
      "A value is trying to be set on a copy of a slice from a DataFrame.\n",
      "Try using .loc[row_indexer,col_indexer] = value instead\n",
      "\n",
      "See the caveats in the documentation: https://pandas.pydata.org/pandas-docs/stable/user_guide/indexing.html#returning-a-view-versus-a-copy\n",
      "  chunk['articles_num'] = chunk['article_ids_inview'].apply(len)\n"
     ]
    },
    {
     "name": "stdout",
     "output_type": "stream",
     "text": [
      "Processed chunk 42 of 121\n"
     ]
    },
    {
     "name": "stderr",
     "output_type": "stream",
     "text": [
      "C:\\Users\\Lydia\\AppData\\Local\\Temp\\ipykernel_19764\\81006019.py:16: SettingWithCopyWarning: \n",
      "A value is trying to be set on a copy of a slice from a DataFrame.\n",
      "Try using .loc[row_indexer,col_indexer] = value instead\n",
      "\n",
      "See the caveats in the documentation: https://pandas.pydata.org/pandas-docs/stable/user_guide/indexing.html#returning-a-view-versus-a-copy\n",
      "  chunk['articles_num'] = chunk['article_ids_inview'].apply(len)\n"
     ]
    },
    {
     "name": "stdout",
     "output_type": "stream",
     "text": [
      "Processed chunk 43 of 121\n"
     ]
    },
    {
     "name": "stderr",
     "output_type": "stream",
     "text": [
      "C:\\Users\\Lydia\\AppData\\Local\\Temp\\ipykernel_19764\\81006019.py:16: SettingWithCopyWarning: \n",
      "A value is trying to be set on a copy of a slice from a DataFrame.\n",
      "Try using .loc[row_indexer,col_indexer] = value instead\n",
      "\n",
      "See the caveats in the documentation: https://pandas.pydata.org/pandas-docs/stable/user_guide/indexing.html#returning-a-view-versus-a-copy\n",
      "  chunk['articles_num'] = chunk['article_ids_inview'].apply(len)\n"
     ]
    },
    {
     "name": "stdout",
     "output_type": "stream",
     "text": [
      "Processed chunk 44 of 121\n"
     ]
    },
    {
     "name": "stderr",
     "output_type": "stream",
     "text": [
      "C:\\Users\\Lydia\\AppData\\Local\\Temp\\ipykernel_19764\\81006019.py:16: SettingWithCopyWarning: \n",
      "A value is trying to be set on a copy of a slice from a DataFrame.\n",
      "Try using .loc[row_indexer,col_indexer] = value instead\n",
      "\n",
      "See the caveats in the documentation: https://pandas.pydata.org/pandas-docs/stable/user_guide/indexing.html#returning-a-view-versus-a-copy\n",
      "  chunk['articles_num'] = chunk['article_ids_inview'].apply(len)\n"
     ]
    },
    {
     "name": "stdout",
     "output_type": "stream",
     "text": [
      "Processed chunk 45 of 121\n"
     ]
    },
    {
     "name": "stderr",
     "output_type": "stream",
     "text": [
      "C:\\Users\\Lydia\\AppData\\Local\\Temp\\ipykernel_19764\\81006019.py:16: SettingWithCopyWarning: \n",
      "A value is trying to be set on a copy of a slice from a DataFrame.\n",
      "Try using .loc[row_indexer,col_indexer] = value instead\n",
      "\n",
      "See the caveats in the documentation: https://pandas.pydata.org/pandas-docs/stable/user_guide/indexing.html#returning-a-view-versus-a-copy\n",
      "  chunk['articles_num'] = chunk['article_ids_inview'].apply(len)\n"
     ]
    },
    {
     "name": "stdout",
     "output_type": "stream",
     "text": [
      "Processed chunk 46 of 121\n"
     ]
    },
    {
     "name": "stderr",
     "output_type": "stream",
     "text": [
      "C:\\Users\\Lydia\\AppData\\Local\\Temp\\ipykernel_19764\\81006019.py:16: SettingWithCopyWarning: \n",
      "A value is trying to be set on a copy of a slice from a DataFrame.\n",
      "Try using .loc[row_indexer,col_indexer] = value instead\n",
      "\n",
      "See the caveats in the documentation: https://pandas.pydata.org/pandas-docs/stable/user_guide/indexing.html#returning-a-view-versus-a-copy\n",
      "  chunk['articles_num'] = chunk['article_ids_inview'].apply(len)\n"
     ]
    },
    {
     "name": "stdout",
     "output_type": "stream",
     "text": [
      "Processed chunk 47 of 121\n"
     ]
    },
    {
     "name": "stderr",
     "output_type": "stream",
     "text": [
      "C:\\Users\\Lydia\\AppData\\Local\\Temp\\ipykernel_19764\\81006019.py:16: SettingWithCopyWarning: \n",
      "A value is trying to be set on a copy of a slice from a DataFrame.\n",
      "Try using .loc[row_indexer,col_indexer] = value instead\n",
      "\n",
      "See the caveats in the documentation: https://pandas.pydata.org/pandas-docs/stable/user_guide/indexing.html#returning-a-view-versus-a-copy\n",
      "  chunk['articles_num'] = chunk['article_ids_inview'].apply(len)\n"
     ]
    },
    {
     "name": "stdout",
     "output_type": "stream",
     "text": [
      "Processed chunk 48 of 121\n"
     ]
    },
    {
     "name": "stderr",
     "output_type": "stream",
     "text": [
      "C:\\Users\\Lydia\\AppData\\Local\\Temp\\ipykernel_19764\\81006019.py:16: SettingWithCopyWarning: \n",
      "A value is trying to be set on a copy of a slice from a DataFrame.\n",
      "Try using .loc[row_indexer,col_indexer] = value instead\n",
      "\n",
      "See the caveats in the documentation: https://pandas.pydata.org/pandas-docs/stable/user_guide/indexing.html#returning-a-view-versus-a-copy\n",
      "  chunk['articles_num'] = chunk['article_ids_inview'].apply(len)\n"
     ]
    },
    {
     "name": "stdout",
     "output_type": "stream",
     "text": [
      "Processed chunk 49 of 121\n"
     ]
    },
    {
     "name": "stderr",
     "output_type": "stream",
     "text": [
      "C:\\Users\\Lydia\\AppData\\Local\\Temp\\ipykernel_19764\\81006019.py:16: SettingWithCopyWarning: \n",
      "A value is trying to be set on a copy of a slice from a DataFrame.\n",
      "Try using .loc[row_indexer,col_indexer] = value instead\n",
      "\n",
      "See the caveats in the documentation: https://pandas.pydata.org/pandas-docs/stable/user_guide/indexing.html#returning-a-view-versus-a-copy\n",
      "  chunk['articles_num'] = chunk['article_ids_inview'].apply(len)\n"
     ]
    },
    {
     "name": "stdout",
     "output_type": "stream",
     "text": [
      "Processed chunk 50 of 121\n"
     ]
    },
    {
     "name": "stderr",
     "output_type": "stream",
     "text": [
      "C:\\Users\\Lydia\\AppData\\Local\\Temp\\ipykernel_19764\\81006019.py:16: SettingWithCopyWarning: \n",
      "A value is trying to be set on a copy of a slice from a DataFrame.\n",
      "Try using .loc[row_indexer,col_indexer] = value instead\n",
      "\n",
      "See the caveats in the documentation: https://pandas.pydata.org/pandas-docs/stable/user_guide/indexing.html#returning-a-view-versus-a-copy\n",
      "  chunk['articles_num'] = chunk['article_ids_inview'].apply(len)\n"
     ]
    },
    {
     "name": "stdout",
     "output_type": "stream",
     "text": [
      "Processed chunk 51 of 121\n"
     ]
    },
    {
     "name": "stderr",
     "output_type": "stream",
     "text": [
      "C:\\Users\\Lydia\\AppData\\Local\\Temp\\ipykernel_19764\\81006019.py:16: SettingWithCopyWarning: \n",
      "A value is trying to be set on a copy of a slice from a DataFrame.\n",
      "Try using .loc[row_indexer,col_indexer] = value instead\n",
      "\n",
      "See the caveats in the documentation: https://pandas.pydata.org/pandas-docs/stable/user_guide/indexing.html#returning-a-view-versus-a-copy\n",
      "  chunk['articles_num'] = chunk['article_ids_inview'].apply(len)\n"
     ]
    },
    {
     "name": "stdout",
     "output_type": "stream",
     "text": [
      "Processed chunk 52 of 121\n"
     ]
    },
    {
     "name": "stderr",
     "output_type": "stream",
     "text": [
      "C:\\Users\\Lydia\\AppData\\Local\\Temp\\ipykernel_19764\\81006019.py:16: SettingWithCopyWarning: \n",
      "A value is trying to be set on a copy of a slice from a DataFrame.\n",
      "Try using .loc[row_indexer,col_indexer] = value instead\n",
      "\n",
      "See the caveats in the documentation: https://pandas.pydata.org/pandas-docs/stable/user_guide/indexing.html#returning-a-view-versus-a-copy\n",
      "  chunk['articles_num'] = chunk['article_ids_inview'].apply(len)\n"
     ]
    },
    {
     "name": "stdout",
     "output_type": "stream",
     "text": [
      "Processed chunk 53 of 121\n"
     ]
    },
    {
     "name": "stderr",
     "output_type": "stream",
     "text": [
      "C:\\Users\\Lydia\\AppData\\Local\\Temp\\ipykernel_19764\\81006019.py:16: SettingWithCopyWarning: \n",
      "A value is trying to be set on a copy of a slice from a DataFrame.\n",
      "Try using .loc[row_indexer,col_indexer] = value instead\n",
      "\n",
      "See the caveats in the documentation: https://pandas.pydata.org/pandas-docs/stable/user_guide/indexing.html#returning-a-view-versus-a-copy\n",
      "  chunk['articles_num'] = chunk['article_ids_inview'].apply(len)\n"
     ]
    },
    {
     "name": "stdout",
     "output_type": "stream",
     "text": [
      "Processed chunk 54 of 121\n"
     ]
    },
    {
     "name": "stderr",
     "output_type": "stream",
     "text": [
      "C:\\Users\\Lydia\\AppData\\Local\\Temp\\ipykernel_19764\\81006019.py:16: SettingWithCopyWarning: \n",
      "A value is trying to be set on a copy of a slice from a DataFrame.\n",
      "Try using .loc[row_indexer,col_indexer] = value instead\n",
      "\n",
      "See the caveats in the documentation: https://pandas.pydata.org/pandas-docs/stable/user_guide/indexing.html#returning-a-view-versus-a-copy\n",
      "  chunk['articles_num'] = chunk['article_ids_inview'].apply(len)\n"
     ]
    },
    {
     "name": "stdout",
     "output_type": "stream",
     "text": [
      "Processed chunk 55 of 121\n"
     ]
    },
    {
     "name": "stderr",
     "output_type": "stream",
     "text": [
      "C:\\Users\\Lydia\\AppData\\Local\\Temp\\ipykernel_19764\\81006019.py:16: SettingWithCopyWarning: \n",
      "A value is trying to be set on a copy of a slice from a DataFrame.\n",
      "Try using .loc[row_indexer,col_indexer] = value instead\n",
      "\n",
      "See the caveats in the documentation: https://pandas.pydata.org/pandas-docs/stable/user_guide/indexing.html#returning-a-view-versus-a-copy\n",
      "  chunk['articles_num'] = chunk['article_ids_inview'].apply(len)\n"
     ]
    },
    {
     "name": "stdout",
     "output_type": "stream",
     "text": [
      "Processed chunk 56 of 121\n"
     ]
    },
    {
     "name": "stderr",
     "output_type": "stream",
     "text": [
      "C:\\Users\\Lydia\\AppData\\Local\\Temp\\ipykernel_19764\\81006019.py:16: SettingWithCopyWarning: \n",
      "A value is trying to be set on a copy of a slice from a DataFrame.\n",
      "Try using .loc[row_indexer,col_indexer] = value instead\n",
      "\n",
      "See the caveats in the documentation: https://pandas.pydata.org/pandas-docs/stable/user_guide/indexing.html#returning-a-view-versus-a-copy\n",
      "  chunk['articles_num'] = chunk['article_ids_inview'].apply(len)\n"
     ]
    },
    {
     "name": "stdout",
     "output_type": "stream",
     "text": [
      "Processed chunk 57 of 121\n"
     ]
    },
    {
     "name": "stderr",
     "output_type": "stream",
     "text": [
      "C:\\Users\\Lydia\\AppData\\Local\\Temp\\ipykernel_19764\\81006019.py:16: SettingWithCopyWarning: \n",
      "A value is trying to be set on a copy of a slice from a DataFrame.\n",
      "Try using .loc[row_indexer,col_indexer] = value instead\n",
      "\n",
      "See the caveats in the documentation: https://pandas.pydata.org/pandas-docs/stable/user_guide/indexing.html#returning-a-view-versus-a-copy\n",
      "  chunk['articles_num'] = chunk['article_ids_inview'].apply(len)\n"
     ]
    },
    {
     "name": "stdout",
     "output_type": "stream",
     "text": [
      "Processed chunk 58 of 121\n"
     ]
    },
    {
     "name": "stderr",
     "output_type": "stream",
     "text": [
      "C:\\Users\\Lydia\\AppData\\Local\\Temp\\ipykernel_19764\\81006019.py:16: SettingWithCopyWarning: \n",
      "A value is trying to be set on a copy of a slice from a DataFrame.\n",
      "Try using .loc[row_indexer,col_indexer] = value instead\n",
      "\n",
      "See the caveats in the documentation: https://pandas.pydata.org/pandas-docs/stable/user_guide/indexing.html#returning-a-view-versus-a-copy\n",
      "  chunk['articles_num'] = chunk['article_ids_inview'].apply(len)\n"
     ]
    },
    {
     "name": "stdout",
     "output_type": "stream",
     "text": [
      "Processed chunk 59 of 121\n"
     ]
    },
    {
     "name": "stderr",
     "output_type": "stream",
     "text": [
      "C:\\Users\\Lydia\\AppData\\Local\\Temp\\ipykernel_19764\\81006019.py:16: SettingWithCopyWarning: \n",
      "A value is trying to be set on a copy of a slice from a DataFrame.\n",
      "Try using .loc[row_indexer,col_indexer] = value instead\n",
      "\n",
      "See the caveats in the documentation: https://pandas.pydata.org/pandas-docs/stable/user_guide/indexing.html#returning-a-view-versus-a-copy\n",
      "  chunk['articles_num'] = chunk['article_ids_inview'].apply(len)\n"
     ]
    },
    {
     "name": "stdout",
     "output_type": "stream",
     "text": [
      "Processed chunk 60 of 121\n"
     ]
    },
    {
     "name": "stderr",
     "output_type": "stream",
     "text": [
      "C:\\Users\\Lydia\\AppData\\Local\\Temp\\ipykernel_19764\\81006019.py:16: SettingWithCopyWarning: \n",
      "A value is trying to be set on a copy of a slice from a DataFrame.\n",
      "Try using .loc[row_indexer,col_indexer] = value instead\n",
      "\n",
      "See the caveats in the documentation: https://pandas.pydata.org/pandas-docs/stable/user_guide/indexing.html#returning-a-view-versus-a-copy\n",
      "  chunk['articles_num'] = chunk['article_ids_inview'].apply(len)\n"
     ]
    },
    {
     "name": "stdout",
     "output_type": "stream",
     "text": [
      "Processed chunk 61 of 121\n"
     ]
    },
    {
     "name": "stderr",
     "output_type": "stream",
     "text": [
      "C:\\Users\\Lydia\\AppData\\Local\\Temp\\ipykernel_19764\\81006019.py:16: SettingWithCopyWarning: \n",
      "A value is trying to be set on a copy of a slice from a DataFrame.\n",
      "Try using .loc[row_indexer,col_indexer] = value instead\n",
      "\n",
      "See the caveats in the documentation: https://pandas.pydata.org/pandas-docs/stable/user_guide/indexing.html#returning-a-view-versus-a-copy\n",
      "  chunk['articles_num'] = chunk['article_ids_inview'].apply(len)\n"
     ]
    },
    {
     "name": "stdout",
     "output_type": "stream",
     "text": [
      "Processed chunk 62 of 121\n"
     ]
    },
    {
     "name": "stderr",
     "output_type": "stream",
     "text": [
      "C:\\Users\\Lydia\\AppData\\Local\\Temp\\ipykernel_19764\\81006019.py:16: SettingWithCopyWarning: \n",
      "A value is trying to be set on a copy of a slice from a DataFrame.\n",
      "Try using .loc[row_indexer,col_indexer] = value instead\n",
      "\n",
      "See the caveats in the documentation: https://pandas.pydata.org/pandas-docs/stable/user_guide/indexing.html#returning-a-view-versus-a-copy\n",
      "  chunk['articles_num'] = chunk['article_ids_inview'].apply(len)\n"
     ]
    },
    {
     "name": "stdout",
     "output_type": "stream",
     "text": [
      "Processed chunk 63 of 121\n"
     ]
    },
    {
     "name": "stderr",
     "output_type": "stream",
     "text": [
      "C:\\Users\\Lydia\\AppData\\Local\\Temp\\ipykernel_19764\\81006019.py:16: SettingWithCopyWarning: \n",
      "A value is trying to be set on a copy of a slice from a DataFrame.\n",
      "Try using .loc[row_indexer,col_indexer] = value instead\n",
      "\n",
      "See the caveats in the documentation: https://pandas.pydata.org/pandas-docs/stable/user_guide/indexing.html#returning-a-view-versus-a-copy\n",
      "  chunk['articles_num'] = chunk['article_ids_inview'].apply(len)\n"
     ]
    },
    {
     "name": "stdout",
     "output_type": "stream",
     "text": [
      "Processed chunk 64 of 121\n"
     ]
    },
    {
     "name": "stderr",
     "output_type": "stream",
     "text": [
      "C:\\Users\\Lydia\\AppData\\Local\\Temp\\ipykernel_19764\\81006019.py:16: SettingWithCopyWarning: \n",
      "A value is trying to be set on a copy of a slice from a DataFrame.\n",
      "Try using .loc[row_indexer,col_indexer] = value instead\n",
      "\n",
      "See the caveats in the documentation: https://pandas.pydata.org/pandas-docs/stable/user_guide/indexing.html#returning-a-view-versus-a-copy\n",
      "  chunk['articles_num'] = chunk['article_ids_inview'].apply(len)\n"
     ]
    },
    {
     "name": "stdout",
     "output_type": "stream",
     "text": [
      "Processed chunk 65 of 121\n"
     ]
    },
    {
     "name": "stderr",
     "output_type": "stream",
     "text": [
      "C:\\Users\\Lydia\\AppData\\Local\\Temp\\ipykernel_19764\\81006019.py:16: SettingWithCopyWarning: \n",
      "A value is trying to be set on a copy of a slice from a DataFrame.\n",
      "Try using .loc[row_indexer,col_indexer] = value instead\n",
      "\n",
      "See the caveats in the documentation: https://pandas.pydata.org/pandas-docs/stable/user_guide/indexing.html#returning-a-view-versus-a-copy\n",
      "  chunk['articles_num'] = chunk['article_ids_inview'].apply(len)\n"
     ]
    },
    {
     "name": "stdout",
     "output_type": "stream",
     "text": [
      "Processed chunk 66 of 121\n"
     ]
    },
    {
     "name": "stderr",
     "output_type": "stream",
     "text": [
      "C:\\Users\\Lydia\\AppData\\Local\\Temp\\ipykernel_19764\\81006019.py:16: SettingWithCopyWarning: \n",
      "A value is trying to be set on a copy of a slice from a DataFrame.\n",
      "Try using .loc[row_indexer,col_indexer] = value instead\n",
      "\n",
      "See the caveats in the documentation: https://pandas.pydata.org/pandas-docs/stable/user_guide/indexing.html#returning-a-view-versus-a-copy\n",
      "  chunk['articles_num'] = chunk['article_ids_inview'].apply(len)\n"
     ]
    },
    {
     "name": "stdout",
     "output_type": "stream",
     "text": [
      "Processed chunk 67 of 121\n"
     ]
    },
    {
     "name": "stderr",
     "output_type": "stream",
     "text": [
      "C:\\Users\\Lydia\\AppData\\Local\\Temp\\ipykernel_19764\\81006019.py:16: SettingWithCopyWarning: \n",
      "A value is trying to be set on a copy of a slice from a DataFrame.\n",
      "Try using .loc[row_indexer,col_indexer] = value instead\n",
      "\n",
      "See the caveats in the documentation: https://pandas.pydata.org/pandas-docs/stable/user_guide/indexing.html#returning-a-view-versus-a-copy\n",
      "  chunk['articles_num'] = chunk['article_ids_inview'].apply(len)\n"
     ]
    },
    {
     "name": "stdout",
     "output_type": "stream",
     "text": [
      "Processed chunk 68 of 121\n"
     ]
    },
    {
     "name": "stderr",
     "output_type": "stream",
     "text": [
      "C:\\Users\\Lydia\\AppData\\Local\\Temp\\ipykernel_19764\\81006019.py:16: SettingWithCopyWarning: \n",
      "A value is trying to be set on a copy of a slice from a DataFrame.\n",
      "Try using .loc[row_indexer,col_indexer] = value instead\n",
      "\n",
      "See the caveats in the documentation: https://pandas.pydata.org/pandas-docs/stable/user_guide/indexing.html#returning-a-view-versus-a-copy\n",
      "  chunk['articles_num'] = chunk['article_ids_inview'].apply(len)\n"
     ]
    },
    {
     "name": "stdout",
     "output_type": "stream",
     "text": [
      "Processed chunk 69 of 121\n"
     ]
    },
    {
     "name": "stderr",
     "output_type": "stream",
     "text": [
      "C:\\Users\\Lydia\\AppData\\Local\\Temp\\ipykernel_19764\\81006019.py:16: SettingWithCopyWarning: \n",
      "A value is trying to be set on a copy of a slice from a DataFrame.\n",
      "Try using .loc[row_indexer,col_indexer] = value instead\n",
      "\n",
      "See the caveats in the documentation: https://pandas.pydata.org/pandas-docs/stable/user_guide/indexing.html#returning-a-view-versus-a-copy\n",
      "  chunk['articles_num'] = chunk['article_ids_inview'].apply(len)\n"
     ]
    },
    {
     "name": "stdout",
     "output_type": "stream",
     "text": [
      "Processed chunk 70 of 121\n"
     ]
    },
    {
     "name": "stderr",
     "output_type": "stream",
     "text": [
      "C:\\Users\\Lydia\\AppData\\Local\\Temp\\ipykernel_19764\\81006019.py:16: SettingWithCopyWarning: \n",
      "A value is trying to be set on a copy of a slice from a DataFrame.\n",
      "Try using .loc[row_indexer,col_indexer] = value instead\n",
      "\n",
      "See the caveats in the documentation: https://pandas.pydata.org/pandas-docs/stable/user_guide/indexing.html#returning-a-view-versus-a-copy\n",
      "  chunk['articles_num'] = chunk['article_ids_inview'].apply(len)\n"
     ]
    },
    {
     "name": "stdout",
     "output_type": "stream",
     "text": [
      "Processed chunk 71 of 121\n"
     ]
    },
    {
     "name": "stderr",
     "output_type": "stream",
     "text": [
      "C:\\Users\\Lydia\\AppData\\Local\\Temp\\ipykernel_19764\\81006019.py:16: SettingWithCopyWarning: \n",
      "A value is trying to be set on a copy of a slice from a DataFrame.\n",
      "Try using .loc[row_indexer,col_indexer] = value instead\n",
      "\n",
      "See the caveats in the documentation: https://pandas.pydata.org/pandas-docs/stable/user_guide/indexing.html#returning-a-view-versus-a-copy\n",
      "  chunk['articles_num'] = chunk['article_ids_inview'].apply(len)\n"
     ]
    },
    {
     "name": "stdout",
     "output_type": "stream",
     "text": [
      "Processed chunk 72 of 121\n"
     ]
    },
    {
     "name": "stderr",
     "output_type": "stream",
     "text": [
      "C:\\Users\\Lydia\\AppData\\Local\\Temp\\ipykernel_19764\\81006019.py:16: SettingWithCopyWarning: \n",
      "A value is trying to be set on a copy of a slice from a DataFrame.\n",
      "Try using .loc[row_indexer,col_indexer] = value instead\n",
      "\n",
      "See the caveats in the documentation: https://pandas.pydata.org/pandas-docs/stable/user_guide/indexing.html#returning-a-view-versus-a-copy\n",
      "  chunk['articles_num'] = chunk['article_ids_inview'].apply(len)\n"
     ]
    },
    {
     "name": "stdout",
     "output_type": "stream",
     "text": [
      "Processed chunk 73 of 121\n"
     ]
    },
    {
     "name": "stderr",
     "output_type": "stream",
     "text": [
      "C:\\Users\\Lydia\\AppData\\Local\\Temp\\ipykernel_19764\\81006019.py:16: SettingWithCopyWarning: \n",
      "A value is trying to be set on a copy of a slice from a DataFrame.\n",
      "Try using .loc[row_indexer,col_indexer] = value instead\n",
      "\n",
      "See the caveats in the documentation: https://pandas.pydata.org/pandas-docs/stable/user_guide/indexing.html#returning-a-view-versus-a-copy\n",
      "  chunk['articles_num'] = chunk['article_ids_inview'].apply(len)\n"
     ]
    },
    {
     "name": "stdout",
     "output_type": "stream",
     "text": [
      "Processed chunk 74 of 121\n"
     ]
    },
    {
     "name": "stderr",
     "output_type": "stream",
     "text": [
      "C:\\Users\\Lydia\\AppData\\Local\\Temp\\ipykernel_19764\\81006019.py:16: SettingWithCopyWarning: \n",
      "A value is trying to be set on a copy of a slice from a DataFrame.\n",
      "Try using .loc[row_indexer,col_indexer] = value instead\n",
      "\n",
      "See the caveats in the documentation: https://pandas.pydata.org/pandas-docs/stable/user_guide/indexing.html#returning-a-view-versus-a-copy\n",
      "  chunk['articles_num'] = chunk['article_ids_inview'].apply(len)\n"
     ]
    },
    {
     "name": "stdout",
     "output_type": "stream",
     "text": [
      "Processed chunk 75 of 121\n"
     ]
    },
    {
     "name": "stderr",
     "output_type": "stream",
     "text": [
      "C:\\Users\\Lydia\\AppData\\Local\\Temp\\ipykernel_19764\\81006019.py:16: SettingWithCopyWarning: \n",
      "A value is trying to be set on a copy of a slice from a DataFrame.\n",
      "Try using .loc[row_indexer,col_indexer] = value instead\n",
      "\n",
      "See the caveats in the documentation: https://pandas.pydata.org/pandas-docs/stable/user_guide/indexing.html#returning-a-view-versus-a-copy\n",
      "  chunk['articles_num'] = chunk['article_ids_inview'].apply(len)\n"
     ]
    },
    {
     "name": "stdout",
     "output_type": "stream",
     "text": [
      "Processed chunk 76 of 121\n"
     ]
    },
    {
     "name": "stderr",
     "output_type": "stream",
     "text": [
      "C:\\Users\\Lydia\\AppData\\Local\\Temp\\ipykernel_19764\\81006019.py:16: SettingWithCopyWarning: \n",
      "A value is trying to be set on a copy of a slice from a DataFrame.\n",
      "Try using .loc[row_indexer,col_indexer] = value instead\n",
      "\n",
      "See the caveats in the documentation: https://pandas.pydata.org/pandas-docs/stable/user_guide/indexing.html#returning-a-view-versus-a-copy\n",
      "  chunk['articles_num'] = chunk['article_ids_inview'].apply(len)\n"
     ]
    },
    {
     "name": "stdout",
     "output_type": "stream",
     "text": [
      "Processed chunk 77 of 121\n"
     ]
    },
    {
     "name": "stderr",
     "output_type": "stream",
     "text": [
      "C:\\Users\\Lydia\\AppData\\Local\\Temp\\ipykernel_19764\\81006019.py:16: SettingWithCopyWarning: \n",
      "A value is trying to be set on a copy of a slice from a DataFrame.\n",
      "Try using .loc[row_indexer,col_indexer] = value instead\n",
      "\n",
      "See the caveats in the documentation: https://pandas.pydata.org/pandas-docs/stable/user_guide/indexing.html#returning-a-view-versus-a-copy\n",
      "  chunk['articles_num'] = chunk['article_ids_inview'].apply(len)\n"
     ]
    },
    {
     "name": "stdout",
     "output_type": "stream",
     "text": [
      "Processed chunk 78 of 121\n"
     ]
    },
    {
     "name": "stderr",
     "output_type": "stream",
     "text": [
      "C:\\Users\\Lydia\\AppData\\Local\\Temp\\ipykernel_19764\\81006019.py:16: SettingWithCopyWarning: \n",
      "A value is trying to be set on a copy of a slice from a DataFrame.\n",
      "Try using .loc[row_indexer,col_indexer] = value instead\n",
      "\n",
      "See the caveats in the documentation: https://pandas.pydata.org/pandas-docs/stable/user_guide/indexing.html#returning-a-view-versus-a-copy\n",
      "  chunk['articles_num'] = chunk['article_ids_inview'].apply(len)\n"
     ]
    },
    {
     "name": "stdout",
     "output_type": "stream",
     "text": [
      "Processed chunk 79 of 121\n"
     ]
    },
    {
     "name": "stderr",
     "output_type": "stream",
     "text": [
      "C:\\Users\\Lydia\\AppData\\Local\\Temp\\ipykernel_19764\\81006019.py:16: SettingWithCopyWarning: \n",
      "A value is trying to be set on a copy of a slice from a DataFrame.\n",
      "Try using .loc[row_indexer,col_indexer] = value instead\n",
      "\n",
      "See the caveats in the documentation: https://pandas.pydata.org/pandas-docs/stable/user_guide/indexing.html#returning-a-view-versus-a-copy\n",
      "  chunk['articles_num'] = chunk['article_ids_inview'].apply(len)\n"
     ]
    },
    {
     "name": "stdout",
     "output_type": "stream",
     "text": [
      "Processed chunk 80 of 121\n"
     ]
    },
    {
     "name": "stderr",
     "output_type": "stream",
     "text": [
      "C:\\Users\\Lydia\\AppData\\Local\\Temp\\ipykernel_19764\\81006019.py:16: SettingWithCopyWarning: \n",
      "A value is trying to be set on a copy of a slice from a DataFrame.\n",
      "Try using .loc[row_indexer,col_indexer] = value instead\n",
      "\n",
      "See the caveats in the documentation: https://pandas.pydata.org/pandas-docs/stable/user_guide/indexing.html#returning-a-view-versus-a-copy\n",
      "  chunk['articles_num'] = chunk['article_ids_inview'].apply(len)\n"
     ]
    },
    {
     "name": "stdout",
     "output_type": "stream",
     "text": [
      "Processed chunk 81 of 121\n"
     ]
    },
    {
     "name": "stderr",
     "output_type": "stream",
     "text": [
      "C:\\Users\\Lydia\\AppData\\Local\\Temp\\ipykernel_19764\\81006019.py:16: SettingWithCopyWarning: \n",
      "A value is trying to be set on a copy of a slice from a DataFrame.\n",
      "Try using .loc[row_indexer,col_indexer] = value instead\n",
      "\n",
      "See the caveats in the documentation: https://pandas.pydata.org/pandas-docs/stable/user_guide/indexing.html#returning-a-view-versus-a-copy\n",
      "  chunk['articles_num'] = chunk['article_ids_inview'].apply(len)\n"
     ]
    },
    {
     "name": "stdout",
     "output_type": "stream",
     "text": [
      "Processed chunk 82 of 121\n"
     ]
    },
    {
     "name": "stderr",
     "output_type": "stream",
     "text": [
      "C:\\Users\\Lydia\\AppData\\Local\\Temp\\ipykernel_19764\\81006019.py:16: SettingWithCopyWarning: \n",
      "A value is trying to be set on a copy of a slice from a DataFrame.\n",
      "Try using .loc[row_indexer,col_indexer] = value instead\n",
      "\n",
      "See the caveats in the documentation: https://pandas.pydata.org/pandas-docs/stable/user_guide/indexing.html#returning-a-view-versus-a-copy\n",
      "  chunk['articles_num'] = chunk['article_ids_inview'].apply(len)\n"
     ]
    },
    {
     "name": "stdout",
     "output_type": "stream",
     "text": [
      "Processed chunk 83 of 121\n"
     ]
    },
    {
     "name": "stderr",
     "output_type": "stream",
     "text": [
      "C:\\Users\\Lydia\\AppData\\Local\\Temp\\ipykernel_19764\\81006019.py:16: SettingWithCopyWarning: \n",
      "A value is trying to be set on a copy of a slice from a DataFrame.\n",
      "Try using .loc[row_indexer,col_indexer] = value instead\n",
      "\n",
      "See the caveats in the documentation: https://pandas.pydata.org/pandas-docs/stable/user_guide/indexing.html#returning-a-view-versus-a-copy\n",
      "  chunk['articles_num'] = chunk['article_ids_inview'].apply(len)\n"
     ]
    },
    {
     "name": "stdout",
     "output_type": "stream",
     "text": [
      "Processed chunk 84 of 121\n"
     ]
    },
    {
     "name": "stderr",
     "output_type": "stream",
     "text": [
      "C:\\Users\\Lydia\\AppData\\Local\\Temp\\ipykernel_19764\\81006019.py:16: SettingWithCopyWarning: \n",
      "A value is trying to be set on a copy of a slice from a DataFrame.\n",
      "Try using .loc[row_indexer,col_indexer] = value instead\n",
      "\n",
      "See the caveats in the documentation: https://pandas.pydata.org/pandas-docs/stable/user_guide/indexing.html#returning-a-view-versus-a-copy\n",
      "  chunk['articles_num'] = chunk['article_ids_inview'].apply(len)\n"
     ]
    },
    {
     "name": "stdout",
     "output_type": "stream",
     "text": [
      "Processed chunk 85 of 121\n"
     ]
    },
    {
     "name": "stderr",
     "output_type": "stream",
     "text": [
      "C:\\Users\\Lydia\\AppData\\Local\\Temp\\ipykernel_19764\\81006019.py:16: SettingWithCopyWarning: \n",
      "A value is trying to be set on a copy of a slice from a DataFrame.\n",
      "Try using .loc[row_indexer,col_indexer] = value instead\n",
      "\n",
      "See the caveats in the documentation: https://pandas.pydata.org/pandas-docs/stable/user_guide/indexing.html#returning-a-view-versus-a-copy\n",
      "  chunk['articles_num'] = chunk['article_ids_inview'].apply(len)\n"
     ]
    },
    {
     "name": "stdout",
     "output_type": "stream",
     "text": [
      "Processed chunk 86 of 121\n"
     ]
    },
    {
     "name": "stderr",
     "output_type": "stream",
     "text": [
      "C:\\Users\\Lydia\\AppData\\Local\\Temp\\ipykernel_19764\\81006019.py:16: SettingWithCopyWarning: \n",
      "A value is trying to be set on a copy of a slice from a DataFrame.\n",
      "Try using .loc[row_indexer,col_indexer] = value instead\n",
      "\n",
      "See the caveats in the documentation: https://pandas.pydata.org/pandas-docs/stable/user_guide/indexing.html#returning-a-view-versus-a-copy\n",
      "  chunk['articles_num'] = chunk['article_ids_inview'].apply(len)\n"
     ]
    },
    {
     "name": "stdout",
     "output_type": "stream",
     "text": [
      "Processed chunk 87 of 121\n"
     ]
    },
    {
     "name": "stderr",
     "output_type": "stream",
     "text": [
      "C:\\Users\\Lydia\\AppData\\Local\\Temp\\ipykernel_19764\\81006019.py:16: SettingWithCopyWarning: \n",
      "A value is trying to be set on a copy of a slice from a DataFrame.\n",
      "Try using .loc[row_indexer,col_indexer] = value instead\n",
      "\n",
      "See the caveats in the documentation: https://pandas.pydata.org/pandas-docs/stable/user_guide/indexing.html#returning-a-view-versus-a-copy\n",
      "  chunk['articles_num'] = chunk['article_ids_inview'].apply(len)\n"
     ]
    },
    {
     "name": "stdout",
     "output_type": "stream",
     "text": [
      "Processed chunk 88 of 121\n"
     ]
    },
    {
     "name": "stderr",
     "output_type": "stream",
     "text": [
      "C:\\Users\\Lydia\\AppData\\Local\\Temp\\ipykernel_19764\\81006019.py:16: SettingWithCopyWarning: \n",
      "A value is trying to be set on a copy of a slice from a DataFrame.\n",
      "Try using .loc[row_indexer,col_indexer] = value instead\n",
      "\n",
      "See the caveats in the documentation: https://pandas.pydata.org/pandas-docs/stable/user_guide/indexing.html#returning-a-view-versus-a-copy\n",
      "  chunk['articles_num'] = chunk['article_ids_inview'].apply(len)\n"
     ]
    },
    {
     "name": "stdout",
     "output_type": "stream",
     "text": [
      "Processed chunk 89 of 121\n"
     ]
    },
    {
     "name": "stderr",
     "output_type": "stream",
     "text": [
      "C:\\Users\\Lydia\\AppData\\Local\\Temp\\ipykernel_19764\\81006019.py:16: SettingWithCopyWarning: \n",
      "A value is trying to be set on a copy of a slice from a DataFrame.\n",
      "Try using .loc[row_indexer,col_indexer] = value instead\n",
      "\n",
      "See the caveats in the documentation: https://pandas.pydata.org/pandas-docs/stable/user_guide/indexing.html#returning-a-view-versus-a-copy\n",
      "  chunk['articles_num'] = chunk['article_ids_inview'].apply(len)\n"
     ]
    },
    {
     "name": "stdout",
     "output_type": "stream",
     "text": [
      "Processed chunk 90 of 121\n"
     ]
    },
    {
     "name": "stderr",
     "output_type": "stream",
     "text": [
      "C:\\Users\\Lydia\\AppData\\Local\\Temp\\ipykernel_19764\\81006019.py:16: SettingWithCopyWarning: \n",
      "A value is trying to be set on a copy of a slice from a DataFrame.\n",
      "Try using .loc[row_indexer,col_indexer] = value instead\n",
      "\n",
      "See the caveats in the documentation: https://pandas.pydata.org/pandas-docs/stable/user_guide/indexing.html#returning-a-view-versus-a-copy\n",
      "  chunk['articles_num'] = chunk['article_ids_inview'].apply(len)\n"
     ]
    },
    {
     "name": "stdout",
     "output_type": "stream",
     "text": [
      "Processed chunk 91 of 121\n"
     ]
    },
    {
     "name": "stderr",
     "output_type": "stream",
     "text": [
      "C:\\Users\\Lydia\\AppData\\Local\\Temp\\ipykernel_19764\\81006019.py:16: SettingWithCopyWarning: \n",
      "A value is trying to be set on a copy of a slice from a DataFrame.\n",
      "Try using .loc[row_indexer,col_indexer] = value instead\n",
      "\n",
      "See the caveats in the documentation: https://pandas.pydata.org/pandas-docs/stable/user_guide/indexing.html#returning-a-view-versus-a-copy\n",
      "  chunk['articles_num'] = chunk['article_ids_inview'].apply(len)\n"
     ]
    },
    {
     "name": "stdout",
     "output_type": "stream",
     "text": [
      "Processed chunk 92 of 121\n"
     ]
    },
    {
     "name": "stderr",
     "output_type": "stream",
     "text": [
      "C:\\Users\\Lydia\\AppData\\Local\\Temp\\ipykernel_19764\\81006019.py:16: SettingWithCopyWarning: \n",
      "A value is trying to be set on a copy of a slice from a DataFrame.\n",
      "Try using .loc[row_indexer,col_indexer] = value instead\n",
      "\n",
      "See the caveats in the documentation: https://pandas.pydata.org/pandas-docs/stable/user_guide/indexing.html#returning-a-view-versus-a-copy\n",
      "  chunk['articles_num'] = chunk['article_ids_inview'].apply(len)\n"
     ]
    },
    {
     "name": "stdout",
     "output_type": "stream",
     "text": [
      "Processed chunk 93 of 121\n"
     ]
    },
    {
     "name": "stderr",
     "output_type": "stream",
     "text": [
      "C:\\Users\\Lydia\\AppData\\Local\\Temp\\ipykernel_19764\\81006019.py:16: SettingWithCopyWarning: \n",
      "A value is trying to be set on a copy of a slice from a DataFrame.\n",
      "Try using .loc[row_indexer,col_indexer] = value instead\n",
      "\n",
      "See the caveats in the documentation: https://pandas.pydata.org/pandas-docs/stable/user_guide/indexing.html#returning-a-view-versus-a-copy\n",
      "  chunk['articles_num'] = chunk['article_ids_inview'].apply(len)\n"
     ]
    },
    {
     "name": "stdout",
     "output_type": "stream",
     "text": [
      "Processed chunk 94 of 121\n"
     ]
    },
    {
     "name": "stderr",
     "output_type": "stream",
     "text": [
      "C:\\Users\\Lydia\\AppData\\Local\\Temp\\ipykernel_19764\\81006019.py:16: SettingWithCopyWarning: \n",
      "A value is trying to be set on a copy of a slice from a DataFrame.\n",
      "Try using .loc[row_indexer,col_indexer] = value instead\n",
      "\n",
      "See the caveats in the documentation: https://pandas.pydata.org/pandas-docs/stable/user_guide/indexing.html#returning-a-view-versus-a-copy\n",
      "  chunk['articles_num'] = chunk['article_ids_inview'].apply(len)\n"
     ]
    },
    {
     "name": "stdout",
     "output_type": "stream",
     "text": [
      "Processed chunk 95 of 121\n"
     ]
    },
    {
     "name": "stderr",
     "output_type": "stream",
     "text": [
      "C:\\Users\\Lydia\\AppData\\Local\\Temp\\ipykernel_19764\\81006019.py:16: SettingWithCopyWarning: \n",
      "A value is trying to be set on a copy of a slice from a DataFrame.\n",
      "Try using .loc[row_indexer,col_indexer] = value instead\n",
      "\n",
      "See the caveats in the documentation: https://pandas.pydata.org/pandas-docs/stable/user_guide/indexing.html#returning-a-view-versus-a-copy\n",
      "  chunk['articles_num'] = chunk['article_ids_inview'].apply(len)\n"
     ]
    },
    {
     "name": "stdout",
     "output_type": "stream",
     "text": [
      "Processed chunk 96 of 121\n"
     ]
    },
    {
     "name": "stderr",
     "output_type": "stream",
     "text": [
      "C:\\Users\\Lydia\\AppData\\Local\\Temp\\ipykernel_19764\\81006019.py:16: SettingWithCopyWarning: \n",
      "A value is trying to be set on a copy of a slice from a DataFrame.\n",
      "Try using .loc[row_indexer,col_indexer] = value instead\n",
      "\n",
      "See the caveats in the documentation: https://pandas.pydata.org/pandas-docs/stable/user_guide/indexing.html#returning-a-view-versus-a-copy\n",
      "  chunk['articles_num'] = chunk['article_ids_inview'].apply(len)\n"
     ]
    },
    {
     "name": "stdout",
     "output_type": "stream",
     "text": [
      "Processed chunk 97 of 121\n"
     ]
    },
    {
     "name": "stderr",
     "output_type": "stream",
     "text": [
      "C:\\Users\\Lydia\\AppData\\Local\\Temp\\ipykernel_19764\\81006019.py:16: SettingWithCopyWarning: \n",
      "A value is trying to be set on a copy of a slice from a DataFrame.\n",
      "Try using .loc[row_indexer,col_indexer] = value instead\n",
      "\n",
      "See the caveats in the documentation: https://pandas.pydata.org/pandas-docs/stable/user_guide/indexing.html#returning-a-view-versus-a-copy\n",
      "  chunk['articles_num'] = chunk['article_ids_inview'].apply(len)\n"
     ]
    },
    {
     "name": "stdout",
     "output_type": "stream",
     "text": [
      "Processed chunk 98 of 121\n"
     ]
    },
    {
     "name": "stderr",
     "output_type": "stream",
     "text": [
      "C:\\Users\\Lydia\\AppData\\Local\\Temp\\ipykernel_19764\\81006019.py:16: SettingWithCopyWarning: \n",
      "A value is trying to be set on a copy of a slice from a DataFrame.\n",
      "Try using .loc[row_indexer,col_indexer] = value instead\n",
      "\n",
      "See the caveats in the documentation: https://pandas.pydata.org/pandas-docs/stable/user_guide/indexing.html#returning-a-view-versus-a-copy\n",
      "  chunk['articles_num'] = chunk['article_ids_inview'].apply(len)\n"
     ]
    },
    {
     "name": "stdout",
     "output_type": "stream",
     "text": [
      "Processed chunk 99 of 121\n"
     ]
    },
    {
     "name": "stderr",
     "output_type": "stream",
     "text": [
      "C:\\Users\\Lydia\\AppData\\Local\\Temp\\ipykernel_19764\\81006019.py:16: SettingWithCopyWarning: \n",
      "A value is trying to be set on a copy of a slice from a DataFrame.\n",
      "Try using .loc[row_indexer,col_indexer] = value instead\n",
      "\n",
      "See the caveats in the documentation: https://pandas.pydata.org/pandas-docs/stable/user_guide/indexing.html#returning-a-view-versus-a-copy\n",
      "  chunk['articles_num'] = chunk['article_ids_inview'].apply(len)\n"
     ]
    },
    {
     "name": "stdout",
     "output_type": "stream",
     "text": [
      "Processed chunk 100 of 121\n"
     ]
    },
    {
     "name": "stderr",
     "output_type": "stream",
     "text": [
      "C:\\Users\\Lydia\\AppData\\Local\\Temp\\ipykernel_19764\\81006019.py:16: SettingWithCopyWarning: \n",
      "A value is trying to be set on a copy of a slice from a DataFrame.\n",
      "Try using .loc[row_indexer,col_indexer] = value instead\n",
      "\n",
      "See the caveats in the documentation: https://pandas.pydata.org/pandas-docs/stable/user_guide/indexing.html#returning-a-view-versus-a-copy\n",
      "  chunk['articles_num'] = chunk['article_ids_inview'].apply(len)\n"
     ]
    },
    {
     "name": "stdout",
     "output_type": "stream",
     "text": [
      "Processed chunk 101 of 121\n"
     ]
    },
    {
     "name": "stderr",
     "output_type": "stream",
     "text": [
      "C:\\Users\\Lydia\\AppData\\Local\\Temp\\ipykernel_19764\\81006019.py:16: SettingWithCopyWarning: \n",
      "A value is trying to be set on a copy of a slice from a DataFrame.\n",
      "Try using .loc[row_indexer,col_indexer] = value instead\n",
      "\n",
      "See the caveats in the documentation: https://pandas.pydata.org/pandas-docs/stable/user_guide/indexing.html#returning-a-view-versus-a-copy\n",
      "  chunk['articles_num'] = chunk['article_ids_inview'].apply(len)\n"
     ]
    },
    {
     "name": "stdout",
     "output_type": "stream",
     "text": [
      "Processed chunk 102 of 121\n"
     ]
    },
    {
     "name": "stderr",
     "output_type": "stream",
     "text": [
      "C:\\Users\\Lydia\\AppData\\Local\\Temp\\ipykernel_19764\\81006019.py:16: SettingWithCopyWarning: \n",
      "A value is trying to be set on a copy of a slice from a DataFrame.\n",
      "Try using .loc[row_indexer,col_indexer] = value instead\n",
      "\n",
      "See the caveats in the documentation: https://pandas.pydata.org/pandas-docs/stable/user_guide/indexing.html#returning-a-view-versus-a-copy\n",
      "  chunk['articles_num'] = chunk['article_ids_inview'].apply(len)\n"
     ]
    },
    {
     "name": "stdout",
     "output_type": "stream",
     "text": [
      "Processed chunk 103 of 121\n"
     ]
    },
    {
     "name": "stderr",
     "output_type": "stream",
     "text": [
      "C:\\Users\\Lydia\\AppData\\Local\\Temp\\ipykernel_19764\\81006019.py:16: SettingWithCopyWarning: \n",
      "A value is trying to be set on a copy of a slice from a DataFrame.\n",
      "Try using .loc[row_indexer,col_indexer] = value instead\n",
      "\n",
      "See the caveats in the documentation: https://pandas.pydata.org/pandas-docs/stable/user_guide/indexing.html#returning-a-view-versus-a-copy\n",
      "  chunk['articles_num'] = chunk['article_ids_inview'].apply(len)\n"
     ]
    },
    {
     "name": "stdout",
     "output_type": "stream",
     "text": [
      "Processed chunk 104 of 121\n"
     ]
    },
    {
     "name": "stderr",
     "output_type": "stream",
     "text": [
      "C:\\Users\\Lydia\\AppData\\Local\\Temp\\ipykernel_19764\\81006019.py:16: SettingWithCopyWarning: \n",
      "A value is trying to be set on a copy of a slice from a DataFrame.\n",
      "Try using .loc[row_indexer,col_indexer] = value instead\n",
      "\n",
      "See the caveats in the documentation: https://pandas.pydata.org/pandas-docs/stable/user_guide/indexing.html#returning-a-view-versus-a-copy\n",
      "  chunk['articles_num'] = chunk['article_ids_inview'].apply(len)\n"
     ]
    },
    {
     "name": "stdout",
     "output_type": "stream",
     "text": [
      "Processed chunk 105 of 121\n"
     ]
    },
    {
     "name": "stderr",
     "output_type": "stream",
     "text": [
      "C:\\Users\\Lydia\\AppData\\Local\\Temp\\ipykernel_19764\\81006019.py:16: SettingWithCopyWarning: \n",
      "A value is trying to be set on a copy of a slice from a DataFrame.\n",
      "Try using .loc[row_indexer,col_indexer] = value instead\n",
      "\n",
      "See the caveats in the documentation: https://pandas.pydata.org/pandas-docs/stable/user_guide/indexing.html#returning-a-view-versus-a-copy\n",
      "  chunk['articles_num'] = chunk['article_ids_inview'].apply(len)\n"
     ]
    },
    {
     "name": "stdout",
     "output_type": "stream",
     "text": [
      "Processed chunk 106 of 121\n"
     ]
    },
    {
     "name": "stderr",
     "output_type": "stream",
     "text": [
      "C:\\Users\\Lydia\\AppData\\Local\\Temp\\ipykernel_19764\\81006019.py:16: SettingWithCopyWarning: \n",
      "A value is trying to be set on a copy of a slice from a DataFrame.\n",
      "Try using .loc[row_indexer,col_indexer] = value instead\n",
      "\n",
      "See the caveats in the documentation: https://pandas.pydata.org/pandas-docs/stable/user_guide/indexing.html#returning-a-view-versus-a-copy\n",
      "  chunk['articles_num'] = chunk['article_ids_inview'].apply(len)\n"
     ]
    },
    {
     "name": "stdout",
     "output_type": "stream",
     "text": [
      "Processed chunk 107 of 121\n"
     ]
    },
    {
     "name": "stderr",
     "output_type": "stream",
     "text": [
      "C:\\Users\\Lydia\\AppData\\Local\\Temp\\ipykernel_19764\\81006019.py:16: SettingWithCopyWarning: \n",
      "A value is trying to be set on a copy of a slice from a DataFrame.\n",
      "Try using .loc[row_indexer,col_indexer] = value instead\n",
      "\n",
      "See the caveats in the documentation: https://pandas.pydata.org/pandas-docs/stable/user_guide/indexing.html#returning-a-view-versus-a-copy\n",
      "  chunk['articles_num'] = chunk['article_ids_inview'].apply(len)\n"
     ]
    },
    {
     "name": "stdout",
     "output_type": "stream",
     "text": [
      "Processed chunk 108 of 121\n"
     ]
    },
    {
     "name": "stderr",
     "output_type": "stream",
     "text": [
      "C:\\Users\\Lydia\\AppData\\Local\\Temp\\ipykernel_19764\\81006019.py:16: SettingWithCopyWarning: \n",
      "A value is trying to be set on a copy of a slice from a DataFrame.\n",
      "Try using .loc[row_indexer,col_indexer] = value instead\n",
      "\n",
      "See the caveats in the documentation: https://pandas.pydata.org/pandas-docs/stable/user_guide/indexing.html#returning-a-view-versus-a-copy\n",
      "  chunk['articles_num'] = chunk['article_ids_inview'].apply(len)\n"
     ]
    },
    {
     "name": "stdout",
     "output_type": "stream",
     "text": [
      "Processed chunk 109 of 121\n"
     ]
    },
    {
     "name": "stderr",
     "output_type": "stream",
     "text": [
      "C:\\Users\\Lydia\\AppData\\Local\\Temp\\ipykernel_19764\\81006019.py:16: SettingWithCopyWarning: \n",
      "A value is trying to be set on a copy of a slice from a DataFrame.\n",
      "Try using .loc[row_indexer,col_indexer] = value instead\n",
      "\n",
      "See the caveats in the documentation: https://pandas.pydata.org/pandas-docs/stable/user_guide/indexing.html#returning-a-view-versus-a-copy\n",
      "  chunk['articles_num'] = chunk['article_ids_inview'].apply(len)\n"
     ]
    },
    {
     "name": "stdout",
     "output_type": "stream",
     "text": [
      "Processed chunk 110 of 121\n"
     ]
    },
    {
     "name": "stderr",
     "output_type": "stream",
     "text": [
      "C:\\Users\\Lydia\\AppData\\Local\\Temp\\ipykernel_19764\\81006019.py:16: SettingWithCopyWarning: \n",
      "A value is trying to be set on a copy of a slice from a DataFrame.\n",
      "Try using .loc[row_indexer,col_indexer] = value instead\n",
      "\n",
      "See the caveats in the documentation: https://pandas.pydata.org/pandas-docs/stable/user_guide/indexing.html#returning-a-view-versus-a-copy\n",
      "  chunk['articles_num'] = chunk['article_ids_inview'].apply(len)\n"
     ]
    },
    {
     "name": "stdout",
     "output_type": "stream",
     "text": [
      "Processed chunk 111 of 121\n"
     ]
    },
    {
     "name": "stderr",
     "output_type": "stream",
     "text": [
      "C:\\Users\\Lydia\\AppData\\Local\\Temp\\ipykernel_19764\\81006019.py:16: SettingWithCopyWarning: \n",
      "A value is trying to be set on a copy of a slice from a DataFrame.\n",
      "Try using .loc[row_indexer,col_indexer] = value instead\n",
      "\n",
      "See the caveats in the documentation: https://pandas.pydata.org/pandas-docs/stable/user_guide/indexing.html#returning-a-view-versus-a-copy\n",
      "  chunk['articles_num'] = chunk['article_ids_inview'].apply(len)\n"
     ]
    },
    {
     "name": "stdout",
     "output_type": "stream",
     "text": [
      "Processed chunk 112 of 121\n"
     ]
    },
    {
     "name": "stderr",
     "output_type": "stream",
     "text": [
      "C:\\Users\\Lydia\\AppData\\Local\\Temp\\ipykernel_19764\\81006019.py:16: SettingWithCopyWarning: \n",
      "A value is trying to be set on a copy of a slice from a DataFrame.\n",
      "Try using .loc[row_indexer,col_indexer] = value instead\n",
      "\n",
      "See the caveats in the documentation: https://pandas.pydata.org/pandas-docs/stable/user_guide/indexing.html#returning-a-view-versus-a-copy\n",
      "  chunk['articles_num'] = chunk['article_ids_inview'].apply(len)\n"
     ]
    },
    {
     "name": "stdout",
     "output_type": "stream",
     "text": [
      "Processed chunk 113 of 121\n"
     ]
    },
    {
     "name": "stderr",
     "output_type": "stream",
     "text": [
      "C:\\Users\\Lydia\\AppData\\Local\\Temp\\ipykernel_19764\\81006019.py:16: SettingWithCopyWarning: \n",
      "A value is trying to be set on a copy of a slice from a DataFrame.\n",
      "Try using .loc[row_indexer,col_indexer] = value instead\n",
      "\n",
      "See the caveats in the documentation: https://pandas.pydata.org/pandas-docs/stable/user_guide/indexing.html#returning-a-view-versus-a-copy\n",
      "  chunk['articles_num'] = chunk['article_ids_inview'].apply(len)\n"
     ]
    },
    {
     "name": "stdout",
     "output_type": "stream",
     "text": [
      "Processed chunk 114 of 121\n"
     ]
    },
    {
     "name": "stderr",
     "output_type": "stream",
     "text": [
      "C:\\Users\\Lydia\\AppData\\Local\\Temp\\ipykernel_19764\\81006019.py:16: SettingWithCopyWarning: \n",
      "A value is trying to be set on a copy of a slice from a DataFrame.\n",
      "Try using .loc[row_indexer,col_indexer] = value instead\n",
      "\n",
      "See the caveats in the documentation: https://pandas.pydata.org/pandas-docs/stable/user_guide/indexing.html#returning-a-view-versus-a-copy\n",
      "  chunk['articles_num'] = chunk['article_ids_inview'].apply(len)\n"
     ]
    },
    {
     "name": "stdout",
     "output_type": "stream",
     "text": [
      "Processed chunk 115 of 121\n"
     ]
    },
    {
     "name": "stderr",
     "output_type": "stream",
     "text": [
      "C:\\Users\\Lydia\\AppData\\Local\\Temp\\ipykernel_19764\\81006019.py:16: SettingWithCopyWarning: \n",
      "A value is trying to be set on a copy of a slice from a DataFrame.\n",
      "Try using .loc[row_indexer,col_indexer] = value instead\n",
      "\n",
      "See the caveats in the documentation: https://pandas.pydata.org/pandas-docs/stable/user_guide/indexing.html#returning-a-view-versus-a-copy\n",
      "  chunk['articles_num'] = chunk['article_ids_inview'].apply(len)\n"
     ]
    },
    {
     "name": "stdout",
     "output_type": "stream",
     "text": [
      "Processed chunk 116 of 121\n"
     ]
    },
    {
     "name": "stderr",
     "output_type": "stream",
     "text": [
      "C:\\Users\\Lydia\\AppData\\Local\\Temp\\ipykernel_19764\\81006019.py:16: SettingWithCopyWarning: \n",
      "A value is trying to be set on a copy of a slice from a DataFrame.\n",
      "Try using .loc[row_indexer,col_indexer] = value instead\n",
      "\n",
      "See the caveats in the documentation: https://pandas.pydata.org/pandas-docs/stable/user_guide/indexing.html#returning-a-view-versus-a-copy\n",
      "  chunk['articles_num'] = chunk['article_ids_inview'].apply(len)\n"
     ]
    },
    {
     "name": "stdout",
     "output_type": "stream",
     "text": [
      "Processed chunk 117 of 121\n"
     ]
    },
    {
     "name": "stderr",
     "output_type": "stream",
     "text": [
      "C:\\Users\\Lydia\\AppData\\Local\\Temp\\ipykernel_19764\\81006019.py:16: SettingWithCopyWarning: \n",
      "A value is trying to be set on a copy of a slice from a DataFrame.\n",
      "Try using .loc[row_indexer,col_indexer] = value instead\n",
      "\n",
      "See the caveats in the documentation: https://pandas.pydata.org/pandas-docs/stable/user_guide/indexing.html#returning-a-view-versus-a-copy\n",
      "  chunk['articles_num'] = chunk['article_ids_inview'].apply(len)\n"
     ]
    },
    {
     "name": "stdout",
     "output_type": "stream",
     "text": [
      "Processed chunk 118 of 121\n"
     ]
    },
    {
     "name": "stderr",
     "output_type": "stream",
     "text": [
      "C:\\Users\\Lydia\\AppData\\Local\\Temp\\ipykernel_19764\\81006019.py:16: SettingWithCopyWarning: \n",
      "A value is trying to be set on a copy of a slice from a DataFrame.\n",
      "Try using .loc[row_indexer,col_indexer] = value instead\n",
      "\n",
      "See the caveats in the documentation: https://pandas.pydata.org/pandas-docs/stable/user_guide/indexing.html#returning-a-view-versus-a-copy\n",
      "  chunk['articles_num'] = chunk['article_ids_inview'].apply(len)\n"
     ]
    },
    {
     "name": "stdout",
     "output_type": "stream",
     "text": [
      "Processed chunk 119 of 121\n"
     ]
    },
    {
     "name": "stderr",
     "output_type": "stream",
     "text": [
      "C:\\Users\\Lydia\\AppData\\Local\\Temp\\ipykernel_19764\\81006019.py:16: SettingWithCopyWarning: \n",
      "A value is trying to be set on a copy of a slice from a DataFrame.\n",
      "Try using .loc[row_indexer,col_indexer] = value instead\n",
      "\n",
      "See the caveats in the documentation: https://pandas.pydata.org/pandas-docs/stable/user_guide/indexing.html#returning-a-view-versus-a-copy\n",
      "  chunk['articles_num'] = chunk['article_ids_inview'].apply(len)\n"
     ]
    },
    {
     "name": "stdout",
     "output_type": "stream",
     "text": [
      "Processed chunk 120 of 121\n"
     ]
    },
    {
     "name": "stderr",
     "output_type": "stream",
     "text": [
      "C:\\Users\\Lydia\\AppData\\Local\\Temp\\ipykernel_19764\\81006019.py:16: SettingWithCopyWarning: \n",
      "A value is trying to be set on a copy of a slice from a DataFrame.\n",
      "Try using .loc[row_indexer,col_indexer] = value instead\n",
      "\n",
      "See the caveats in the documentation: https://pandas.pydata.org/pandas-docs/stable/user_guide/indexing.html#returning-a-view-versus-a-copy\n",
      "  chunk['articles_num'] = chunk['article_ids_inview'].apply(len)\n"
     ]
    },
    {
     "name": "stdout",
     "output_type": "stream",
     "text": [
      "Processed chunk 121 of 121\n",
      "   impression_id     impression_time  user_id article_ids_inview  articles_num\n",
      "0          47727 2023-05-21 21:35:07    18293            9482380             6\n",
      "1          47727 2023-05-21 21:35:07    18293            9775183             6\n",
      "2          47727 2023-05-21 21:35:07    18293            9744403             6\n",
      "3          47727 2023-05-21 21:35:07    18293            9775297             6\n",
      "4          47727 2023-05-21 21:35:07    18293            9774020             6\n"
     ]
    }
   ],
   "source": [
    "import pandas as pd\n",
    "\n",
    "# Set up an empty DataFrame to store the results\n",
    "exploded_df = pd.DataFrame()\n",
    "\n",
    "# Define the chunk size (e.g., 100,000 rows at a time)\n",
    "chunk_size = 100000\n",
    "num_chunks = len(behavior_df) // chunk_size + 1  # Total number of chunks\n",
    "\n",
    "# Process each chunk and append to exploded_df\n",
    "for i, start in enumerate(range(0, len(behavior_df), chunk_size)):\n",
    "    # Select a chunk of the data\n",
    "    chunk = behavior_df.iloc[start:start + chunk_size]\n",
    "    \n",
    "    # Add articles_num feature\n",
    "    chunk['articles_num'] = chunk['article_ids_inview'].apply(len)\n",
    "    \n",
    "    # Explode the chunk\n",
    "    exploded_chunk = chunk.explode('article_ids_inview')\n",
    "    \n",
    "    # Append to the final exploded DataFrame\n",
    "    exploded_df = pd.concat([exploded_df, exploded_chunk], ignore_index=True)\n",
    "    \n",
    "    # Print progress\n",
    "    print(f\"Processed chunk {i+1} of {num_chunks}\")\n",
    "\n",
    "# Display a sample of the processed data\n",
    "print(exploded_df.head())\n",
    "\n"
   ]
  },
  {
   "cell_type": "code",
   "execution_count": 16,
   "metadata": {},
   "outputs": [],
   "source": [
    "# Save the exploded DataFrame to a parquet file\n",
    "exploded_df.to_parquet(\"exploded_behavior_data.parquet\", index=False)\n"
   ]
  },
  {
   "cell_type": "code",
   "execution_count": null,
   "metadata": {},
   "outputs": [],
   "source": [
    "# To load the parquet file\n",
    "exploded_df = pd.read_parquet(\"exploded_behavior_data.parquet\")\n",
    "\n",
    "# Or, to load the csv file\n",
    "exploded_df = pd.read_csv(\"exploded_behavior_data.csv\")\n"
   ]
  },
  {
   "cell_type": "code",
   "execution_count": 17,
   "metadata": {},
   "outputs": [],
   "source": [
    "behavior_df.to_parquet(\"behavior_data.parquet\", index=False)"
   ]
  },
  {
   "cell_type": "code",
   "execution_count": 18,
   "metadata": {},
   "outputs": [],
   "source": [
    "articles_df.to_parquet(\"articles_data.parquet\", index=False)"
   ]
  },
  {
   "cell_type": "code",
   "execution_count": 19,
   "metadata": {},
   "outputs": [],
   "source": [
    "history_df.to_parquet(\"history_data.parquet\", index=False)"
   ]
  },
  {
   "cell_type": "code",
   "execution_count": null,
   "metadata": {},
   "outputs": [],
   "source": [
    "# Load behavior data\n",
    "behavior_df = pd.read_parquet(\"behavior_data.parquet\")\n",
    "\n",
    "# Load articles data\n",
    "articles_df = pd.read_parquet(\"articles_data.parquet\")\n",
    "\n",
    "# Load history data (if applicable)\n",
    "history_df = pd.read_parquet(\"history_data.parquet\")\n"
   ]
  }
 ],
 "metadata": {
  "kernelspec": {
   "display_name": "Python 3",
   "language": "python",
   "name": "python3"
  },
  "language_info": {
   "codemirror_mode": {
    "name": "ipython",
    "version": 3
   },
   "file_extension": ".py",
   "mimetype": "text/x-python",
   "name": "python",
   "nbconvert_exporter": "python",
   "pygments_lexer": "ipython3",
   "version": "3.12.1"
  }
 },
 "nbformat": 4,
 "nbformat_minor": 2
}
