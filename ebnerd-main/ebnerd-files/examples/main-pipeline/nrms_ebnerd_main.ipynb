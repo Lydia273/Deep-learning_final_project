{
 "cells": [
  {
   "cell_type": "markdown",
   "metadata": {},
   "source": [
    "## Load functionality"
   ]
  },
  {
   "cell_type": "code",
   "execution_count": 126,
   "metadata": {},
   "outputs": [],
   "source": [
    "from transformers import AutoTokenizer, AutoModel\n",
    "from pathlib import Path\n",
    "import tensorflow as tf\n",
    "import polars as pl\n",
    "import datetime\n",
    "\n",
    "from ebrec.utils._constants import *\n",
    "\n",
    "from ebrec.utils._behaviors import (\n",
    "    create_binary_labels_column,\n",
    "    sampling_strategy_wu2019,\n",
    "    add_prediction_scores,\n",
    "    truncate_history,\n",
    "    ebnerd_from_path,\n",
    ")\n",
    "from ebrec.evaluation import MetricEvaluator, AucScore, NdcgScore, MrrScore\n",
    "from ebrec.utils._articles import convert_text2encoding_with_transformers\n",
    "from ebrec.utils._polars import concat_str_columns, slice_join_dataframes\n",
    "from ebrec.utils._articles import create_article_id_to_value_mapping\n",
    "from ebrec.utils._nlp import get_transformers_word_embeddings\n",
    "from ebrec.utils._python import write_submission_file, rank_predictions_by_score\n",
    "\n",
    "from ebrec.models.newsrec.dataloader import NRMSDataLoader\n",
    "from ebrec.models.newsrec.model_config import hparams_nrms\n",
    "from ebrec.models.newsrec import NRMSModel"
   ]
  },
  {
   "cell_type": "code",
   "execution_count": 127,
   "metadata": {},
   "outputs": [
    {
     "name": "stdout",
     "output_type": "stream",
     "text": [
      "Available devices: [PhysicalDevice(name='/physical_device:CPU:0', device_type='CPU')]\n"
     ]
    }
   ],
   "source": [
    "# List all physical devices\n",
    "gpus = tf.config.experimental.list_physical_devices(\"GPU\")\n",
    "for gpu in gpus:\n",
    "    tf.config.experimental.set_memory_growth(gpu, True)\n",
    "\n",
    "physical_devices = tf.config.list_physical_devices()\n",
    "print(\"Available devices:\", physical_devices)"
   ]
  },
  {
   "cell_type": "markdown",
   "metadata": {},
   "source": [
    "## Load dataset"
   ]
  },
  {
   "cell_type": "markdown",
   "metadata": {},
   "source": [
    "### Generate labels\n",
    "We sample a few just to get started. For testset we just make up a dummy column with 0 and 1 - this is not the true labels."
   ]
  },
  {
   "cell_type": "code",
   "execution_count": 128,
   "metadata": {},
   "outputs": [],
   "source": [
    "# PATH = Path(\"~/ebnerd_data\").expanduser()\n",
    "# #\n",
    "# DATASPLIT = \"ebnerd_small\"\n",
    "# DUMP_DIR = Path(\"ebnerd_predictions\")\n",
    "# DUMP_DIR.mkdir(exist_ok=True, parents=True)"
   ]
  },
  {
   "cell_type": "code",
   "execution_count": 129,
   "metadata": {},
   "outputs": [],
   "source": [
    "from pathlib import Path\n",
    "\n",
    "# Use raw string to avoid issues with backslashes\n",
    "PATH = Path(r\"C:\\Users\\antot\\Downloads\\ebnerd-benchmark\\examples\\ebnerd_data\").expanduser()\n",
    "TRAIN = f\"ebnerd_small\"  # [ebnerd_demo, ebnerd_small, ebnerd_large]\n",
    "VAL = f\"ebnerd_small\"\n",
    "TEST = f\"ebnerd_testset\"#, \"ebnerd_testset_gt\"\n",
    "\n",
    "\n",
    "# Create a directory for dumping predictions\n",
    "#DUMP_DIR = Path(\"ebnerd_predictions\")\n",
    "#DUMP_DIR.mkdir(exist_ok=True, parents=True)"
   ]
  },
  {
   "cell_type": "code",
   "execution_count": 130,
   "metadata": {},
   "outputs": [],
   "source": [
    "DUMP_DIR = Path(r\"C:\\Users\\antot\\Downloads\\ebnerd-benchmark\\examples\").expanduser()\n",
    "DUMP_DIR.mkdir(exist_ok=True, parents=True)"
   ]
  },
  {
   "cell_type": "markdown",
   "metadata": {},
   "source": [
    "History size can often be a memory bottleneck; if adjusted, the NRMS hyperparameter ```history_size``` must be updated to ensure compatibility and efficient memory usage"
   ]
  },
  {
   "cell_type": "code",
   "execution_count": 131,
   "metadata": {},
   "outputs": [],
   "source": [
    "HISTORY_SIZE = 20\n",
    "hparams_nrms.history_size = HISTORY_SIZE"
   ]
  },
  {
   "cell_type": "code",
   "execution_count": 132,
   "metadata": {},
   "outputs": [],
   "source": [
    "# We just want to load the necessary columns\n",
    "COLUMNS = [\n",
    "    DEFAULT_USER_COL,\n",
    "    DEFAULT_IMPRESSION_ID_COL,\n",
    "    DEFAULT_IMPRESSION_TIMESTAMP_COL,\n",
    "    DEFAULT_HISTORY_ARTICLE_ID_COL,\n",
    "    DEFAULT_CLICKED_ARTICLES_COL,\n",
    "    DEFAULT_INVIEW_ARTICLES_COL,\n",
    "]\n",
    "# This notebook is just a simple 'get-started'; we down sample the number of samples to just run quickly through it.\n",
    "FRACTION = 0.01"
   ]
  },
  {
   "cell_type": "markdown",
   "metadata": {},
   "source": [
    "In this example we sample the dataset, just to keep it smaller. We'll split the training data into training and validation "
   ]
  },
  {
   "cell_type": "code",
   "execution_count": 133,
   "metadata": {},
   "outputs": [
    {
     "name": "stdout",
     "output_type": "stream",
     "text": [
      "Train samples: 234277\n",
      "Validation samples: 246289\n",
      "Train Data Sample:\n",
      "shape: (2, 7)\n",
      "┌─────────┬──────────────┬──────────────┬──────────────┬──────────────┬──────────────┬─────────────┐\n",
      "│ user_id ┆ impression_i ┆ impression_t ┆ article_id_f ┆ article_ids_ ┆ article_ids_ ┆ labels      │\n",
      "│ ---     ┆ d            ┆ ime          ┆ ixed         ┆ clicked      ┆ inview       ┆ ---         │\n",
      "│ u32     ┆ ---          ┆ ---          ┆ ---          ┆ ---          ┆ ---          ┆ list[i8]    │\n",
      "│         ┆ u32          ┆ datetime[μs] ┆ list[i32]    ┆ list[i64]    ┆ list[i64]    ┆             │\n",
      "╞═════════╪══════════════╪══════════════╪══════════════╪══════════════╪══════════════╪═════════════╡\n",
      "│ 139836  ┆ 149474       ┆ 2023-05-24   ┆ [0, 9745590, ┆ [9778657]    ┆ [9778728,    ┆ [0, 0, … 1] │\n",
      "│         ┆              ┆ 07:47:53     ┆ … 9765156]   ┆              ┆ 9778669, …   ┆             │\n",
      "│         ┆              ┆              ┆              ┆              ┆ 9778657]     ┆             │\n",
      "│ 143471  ┆ 150528       ┆ 2023-05-24   ┆ [9767637,    ┆ [9778623]    ┆ [9778669,    ┆ [0, 0, … 1] │\n",
      "│         ┆              ┆ 07:33:25     ┆ 9769414, …   ┆              ┆ 9778682, …   ┆             │\n",
      "│         ┆              ┆              ┆ 9770989]     ┆              ┆ 9778623]     ┆             │\n",
      "└─────────┴──────────────┴──────────────┴──────────────┴──────────────┴──────────────┴─────────────┘\n",
      "Validation Data Sample:\n",
      "shape: (2, 7)\n",
      "┌─────────┬──────────────┬──────────────┬──────────────┬──────────────┬──────────────┬─────────────┐\n",
      "│ user_id ┆ impression_i ┆ impression_t ┆ article_id_f ┆ article_ids_ ┆ article_ids_ ┆ labels      │\n",
      "│ ---     ┆ d            ┆ ime          ┆ ixed         ┆ clicked      ┆ inview       ┆ ---         │\n",
      "│ u32     ┆ ---          ┆ ---          ┆ ---          ┆ ---          ┆ ---          ┆ list[i8]    │\n",
      "│         ┆ u32          ┆ datetime[μs] ┆ list[i32]    ┆ list[i64]    ┆ list[i64]    ┆             │\n",
      "╞═════════╪══════════════╪══════════════╪══════════════╪══════════════╪══════════════╪═════════════╡\n",
      "│ 22548   ┆ 96791        ┆ 2023-05-28   ┆ [9773295,    ┆ [9784696]    ┆ [9784710,    ┆ [0, 0, … 1] │\n",
      "│         ┆              ┆ 04:21:24     ┆ 9769504, …   ┆              ┆ 9784591, …   ┆             │\n",
      "│         ┆              ┆              ┆ 9776929]     ┆              ┆ 9784696]     ┆             │\n",
      "│ 22548   ┆ 96798        ┆ 2023-05-28   ┆ [9773295,    ┆ [9784281]    ┆ [9782656,    ┆ [0, 0, … 1] │\n",
      "│         ┆              ┆ 04:31:48     ┆ 9769504, …   ┆              ┆ 9783405, …   ┆             │\n",
      "│         ┆              ┆              ┆ 9776929]     ┆              ┆ 9784281]     ┆             │\n",
      "└─────────┴──────────────┴──────────────┴──────────────┴──────────────┴──────────────┴─────────────┘\n"
     ]
    }
   ],
   "source": [
    "# Load your train and validation datasets directly\n",
    "df_train = ebnerd_from_path(\n",
    "    PATH.joinpath(\"ebnerd_small/train\"),\n",
    "    history_size=HISTORY_SIZE,\n",
    "    \n",
    ").select(COLUMNS).pipe(\n",
    "    sampling_strategy_wu2019,\n",
    "    npratio=4,\n",
    "    shuffle=True,\n",
    "    with_replacement=True,\n",
    "    seed=123,\n",
    ").pipe(create_binary_labels_column)\n",
    "\n",
    "df_validation = ebnerd_from_path(\n",
    "    PATH.joinpath(\"ebnerd_small/validation\"),\n",
    "    history_size=HISTORY_SIZE\n",
    "    \n",
    ").select(COLUMNS).pipe(\n",
    "    sampling_strategy_wu2019,\n",
    "    npratio=4,\n",
    "    shuffle=True,\n",
    "    with_replacement=True,\n",
    "    seed=123,\n",
    ").pipe(create_binary_labels_column)\n",
    "\n",
    "print(f\"Train samples: {df_train.height}\\nValidation samples: {df_validation.height}\")\n",
    "\n",
    "# Preview the datasets\n",
    "print(\"Train Data Sample:\")\n",
    "print(df_train.head(2))\n",
    "\n",
    "print(\"Validation Data Sample:\")\n",
    "print(df_validation.head(2))\n"
   ]
  },
  {
   "cell_type": "code",
   "execution_count": 134,
   "metadata": {},
   "outputs": [],
   "source": [
    "\n",
    "#print(f\"Model Directory: {MODEL_NAME}\")\n",
    "\n",
    "# Data preprocessing parameters\n",
    "MAX_TITLE_LENGTH = 30\n",
    "HISTORY_SIZE = 20\n",
    "FRACTION = 1.0\n",
    "EPOCHS = 5\n",
    "FRACTION_TEST = 1.0\n",
    "hparams_nrms.history_size = HISTORY_SIZE\n",
    "\n",
    "# Batch sizes\n",
    "BATCH_SIZE_TRAIN = 64\n",
    "BATCH_SIZE_VAL = 64\n",
    "BATCH_SIZE_TEST_WO_B = 64\n",
    "BATCH_SIZE_TEST_W_B = 64\n",
    "N_CHUNKS_TEST = 10\n",
    "CHUNKS_DONE = 0\n",
    "\n",
    "# We just want to load the necessary columns\n",
    "COLUMNS = [\n",
    "    DEFAULT_USER_COL,\n",
    "    DEFAULT_IMPRESSION_ID_COL,\n",
    "    DEFAULT_IMPRESSION_TIMESTAMP_COL,\n",
    "    DEFAULT_HISTORY_ARTICLE_ID_COL,\n",
    "    DEFAULT_CLICKED_ARTICLES_COL,\n",
    "    DEFAULT_INVIEW_ARTICLES_COL,\n",
    "]\n",
    "# This notebook is just a simple 'get-started'; we down sample the number of samples to just run quickly through it.\n",
    "FRACTION = 0.01\n"
   ]
  },
  {
   "cell_type": "markdown",
   "metadata": {},
   "source": [
    "### Test set\n",
    "We'll use the validation set, as the test set."
   ]
  },
  {
   "cell_type": "code",
   "execution_count": 135,
   "metadata": {},
   "outputs": [
    {
     "name": "stdout",
     "output_type": "stream",
     "text": [
      "Test samples: 135367\n",
      "Test Data Sample:\n",
      "shape: (2, 15)\n",
      "┌───────────┬───────────┬───────────┬───────────┬───┬───────────┬───────────┬───────────┬──────────┐\n",
      "│ impressio ┆ impressio ┆ read_time ┆ scroll_pe ┆ … ┆ is_subscr ┆ session_i ┆ is_beyond ┆ article_ │\n",
      "│ n_id      ┆ n_time    ┆ ---       ┆ rcentage  ┆   ┆ iber      ┆ d         ┆ _accuracy ┆ id_fixed │\n",
      "│ ---       ┆ ---       ┆ f32       ┆ ---       ┆   ┆ ---       ┆ ---       ┆ ---       ┆ ---      │\n",
      "│ u32       ┆ datetime[ ┆           ┆ f32       ┆   ┆ bool      ┆ u32       ┆ bool      ┆ list[i32 │\n",
      "│           ┆ μs]       ┆           ┆           ┆   ┆           ┆           ┆           ┆ ]        │\n",
      "╞═══════════╪═══════════╪═══════════╪═══════════╪═══╪═══════════╪═══════════╪═══════════╪══════════╡\n",
      "│ 49308622  ┆ 2023-06-0 ┆ 207.0     ┆ null      ┆ … ┆ true      ┆ 6165783   ┆ false     ┆ [9788125 │\n",
      "│           ┆ 7         ┆           ┆           ┆   ┆           ┆           ┆           ┆ ,        │\n",
      "│           ┆ 18:45:35  ┆           ┆           ┆   ┆           ┆           ┆           ┆ 9780702, │\n",
      "│           ┆           ┆           ┆           ┆   ┆           ┆           ┆           ┆ …        │\n",
      "│           ┆           ┆           ┆           ┆   ┆           ┆           ┆           ┆ 9790574] │\n",
      "│ 176615196 ┆ 2023-06-0 ┆ 25.0      ┆ null      ┆ … ┆ false     ┆ 28778957  ┆ false     ┆ [9785437 │\n",
      "│           ┆ 3         ┆           ┆           ┆   ┆           ┆           ┆           ┆ ,        │\n",
      "│           ┆ 10:45:45  ┆           ┆           ┆   ┆           ┆           ┆           ┆ 9786230, │\n",
      "│           ┆           ┆           ┆           ┆   ┆           ┆           ┆           ┆ …        │\n",
      "│           ┆           ┆           ┆           ┆   ┆           ┆           ┆           ┆ 9788547] │\n",
      "└───────────┴───────────┴───────────┴───────────┴───┴───────────┴───────────┴───────────┴──────────┘\n"
     ]
    }
   ],
   "source": [
    "df_test = (\n",
    "    ebnerd_from_path(\n",
    "        PATH.joinpath(PATH, \"ebnerd_testset/test\")\n",
    "    )\n",
    "    .sample(fraction=FRACTION)\n",
    ")\n",
    "\n",
    "print(f\"Test samples: {df_test.height}\")\n",
    "print(\"Test Data Sample:\")\n",
    "print(df_test.head(2))\n"
   ]
  },
  {
   "cell_type": "code",
   "execution_count": 136,
   "metadata": {},
   "outputs": [],
   "source": [
    "COLUMNSTEST = [\n",
    "    DEFAULT_USER_COL,\n",
    "    DEFAULT_IMPRESSION_ID_COL,\n",
    "    DEFAULT_IMPRESSION_TIMESTAMP_COL,\n",
    "    DEFAULT_INVIEW_ARTICLES_COL,\n",
    "    DEFAULT_LABELS_COL\n",
    "\n",
    "]"
   ]
  },
  {
   "cell_type": "markdown",
   "metadata": {},
   "source": [
    "## Load articles"
   ]
  },
  {
   "cell_type": "code",
   "execution_count": 137,
   "metadata": {},
   "outputs": [
    {
     "data": {
      "text/html": [
       "<div><style>\n",
       ".dataframe > thead > tr,\n",
       ".dataframe > tbody > tr {\n",
       "  text-align: right;\n",
       "  white-space: pre-wrap;\n",
       "}\n",
       "</style>\n",
       "<small>shape: (5, 21)</small><table border=\"1\" class=\"dataframe\"><thead><tr><th>article_id</th><th>title</th><th>subtitle</th><th>last_modified_time</th><th>premium</th><th>body</th><th>published_time</th><th>image_ids</th><th>article_type</th><th>url</th><th>ner_clusters</th><th>entity_groups</th><th>topics</th><th>category</th><th>subcategory</th><th>category_str</th><th>total_inviews</th><th>total_pageviews</th><th>total_read_time</th><th>sentiment_score</th><th>sentiment_label</th></tr><tr><td>i32</td><td>str</td><td>str</td><td>datetime[μs]</td><td>bool</td><td>str</td><td>datetime[μs]</td><td>list[i64]</td><td>str</td><td>str</td><td>list[str]</td><td>list[str]</td><td>list[str]</td><td>i16</td><td>list[i16]</td><td>str</td><td>i32</td><td>i32</td><td>f32</td><td>f32</td><td>str</td></tr></thead><tbody><tr><td>3001353</td><td>&quot;Natascha var i…</td><td>&quot;Politiet frygt…</td><td>2023-06-29 06:20:33</td><td>false</td><td>&quot;Sagen om den ø…</td><td>2006-08-31 08:06:45</td><td>[3150850]</td><td>&quot;article_defaul…</td><td>&quot;https://ekstra…</td><td>[]</td><td>[]</td><td>[&quot;Kriminalitet&quot;, &quot;Personfarlig kriminalitet&quot;]</td><td>140</td><td>[]</td><td>&quot;krimi&quot;</td><td>null</td><td>null</td><td>null</td><td>0.9955</td><td>&quot;Negative&quot;</td></tr><tr><td>3003065</td><td>&quot;Kun Star Wars …</td><td>&quot;Biografgængern…</td><td>2023-06-29 06:20:35</td><td>false</td><td>&quot;Vatikanet har …</td><td>2006-05-21 16:57:00</td><td>[3006712]</td><td>&quot;article_defaul…</td><td>&quot;https://ekstra…</td><td>[]</td><td>[]</td><td>[&quot;Underholdning&quot;, &quot;Film og tv&quot;, &quot;Økonomi&quot;]</td><td>414</td><td>[433, 434]</td><td>&quot;underholdning&quot;</td><td>null</td><td>null</td><td>null</td><td>0.846</td><td>&quot;Positive&quot;</td></tr><tr><td>3012771</td><td>&quot;Morten Bruun f…</td><td>&quot;FODBOLD: Morte…</td><td>2023-06-29 06:20:39</td><td>false</td><td>&quot;Kemien mellem …</td><td>2006-05-01 14:28:40</td><td>[3177953]</td><td>&quot;article_defaul…</td><td>&quot;https://ekstra…</td><td>[]</td><td>[]</td><td>[&quot;Erhverv&quot;, &quot;Kendt&quot;, … &quot;Ansættelsesforhold&quot;]</td><td>142</td><td>[196, 199]</td><td>&quot;sport&quot;</td><td>null</td><td>null</td><td>null</td><td>0.8241</td><td>&quot;Negative&quot;</td></tr><tr><td>3023463</td><td>&quot;Luderne flytte…</td><td>&quot;I landets tynd…</td><td>2023-06-29 06:20:43</td><td>false</td><td>&quot;Det frække erh…</td><td>2007-03-24 08:27:59</td><td>[3184029]</td><td>&quot;article_defaul…</td><td>&quot;https://ekstra…</td><td>[]</td><td>[]</td><td>[&quot;Livsstil&quot;, &quot;Erotik&quot;]</td><td>118</td><td>[133]</td><td>&quot;nyheder&quot;</td><td>null</td><td>null</td><td>null</td><td>0.7053</td><td>&quot;Neutral&quot;</td></tr><tr><td>3032577</td><td>&quot;Cybersex: Hvor…</td><td>&quot;En flirtende s…</td><td>2023-06-29 06:20:46</td><td>false</td><td>&quot;De fleste af o…</td><td>2007-01-18 10:30:37</td><td>[3030463]</td><td>&quot;article_defaul…</td><td>&quot;https://ekstra…</td><td>[]</td><td>[]</td><td>[&quot;Livsstil&quot;, &quot;Partnerskab&quot;]</td><td>565</td><td>[]</td><td>&quot;sex_og_samliv&quot;</td><td>null</td><td>null</td><td>null</td><td>0.9307</td><td>&quot;Neutral&quot;</td></tr></tbody></table></div>"
      ],
      "text/plain": [
       "shape: (5, 21)\n",
       "┌───────────┬───────────┬───────────┬───────────┬───┬───────────┬───────────┬───────────┬──────────┐\n",
       "│ article_i ┆ title     ┆ subtitle  ┆ last_modi ┆ … ┆ total_pag ┆ total_rea ┆ sentiment ┆ sentimen │\n",
       "│ d         ┆ ---       ┆ ---       ┆ fied_time ┆   ┆ eviews    ┆ d_time    ┆ _score    ┆ t_label  │\n",
       "│ ---       ┆ str       ┆ str       ┆ ---       ┆   ┆ ---       ┆ ---       ┆ ---       ┆ ---      │\n",
       "│ i32       ┆           ┆           ┆ datetime[ ┆   ┆ i32       ┆ f32       ┆ f32       ┆ str      │\n",
       "│           ┆           ┆           ┆ μs]       ┆   ┆           ┆           ┆           ┆          │\n",
       "╞═══════════╪═══════════╪═══════════╪═══════════╪═══╪═══════════╪═══════════╪═══════════╪══════════╡\n",
       "│ 3001353   ┆ Natascha  ┆ Politiet  ┆ 2023-06-2 ┆ … ┆ null      ┆ null      ┆ 0.9955    ┆ Negative │\n",
       "│           ┆ var ikke  ┆ frygter   ┆ 9         ┆   ┆           ┆           ┆           ┆          │\n",
       "│           ┆ den       ┆ nu, at    ┆ 06:20:33  ┆   ┆           ┆           ┆           ┆          │\n",
       "│           ┆ første    ┆ Natascha… ┆           ┆   ┆           ┆           ┆           ┆          │\n",
       "│ 3003065   ┆ Kun Star  ┆ Biografgæ ┆ 2023-06-2 ┆ … ┆ null      ┆ null      ┆ 0.846     ┆ Positive │\n",
       "│           ┆ Wars      ┆ ngerne    ┆ 9         ┆   ┆           ┆           ┆           ┆          │\n",
       "│           ┆ tjente    ┆ strømmer  ┆ 06:20:35  ┆   ┆           ┆           ┆           ┆          │\n",
       "│           ┆ mere      ┆ ind for…  ┆           ┆   ┆           ┆           ┆           ┆          │\n",
       "│ 3012771   ┆ Morten    ┆ FODBOLD:  ┆ 2023-06-2 ┆ … ┆ null      ┆ null      ┆ 0.8241    ┆ Negative │\n",
       "│           ┆ Bruun     ┆ Morten    ┆ 9         ┆   ┆           ┆           ┆           ┆          │\n",
       "│           ┆ fyret i   ┆ Bruun     ┆ 06:20:39  ┆   ┆           ┆           ┆           ┆          │\n",
       "│           ┆ Sønderjys ┆ fyret med ┆           ┆   ┆           ┆           ┆           ┆          │\n",
       "│           ┆ kE        ┆ …         ┆           ┆   ┆           ┆           ┆           ┆          │\n",
       "│ 3023463   ┆ Luderne   ┆ I landets ┆ 2023-06-2 ┆ … ┆ null      ┆ null      ┆ 0.7053    ┆ Neutral  │\n",
       "│           ┆ flytter   ┆ tyndest   ┆ 9         ┆   ┆           ┆           ┆           ┆          │\n",
       "│           ┆ på landet ┆ befolkede ┆ 06:20:43  ┆   ┆           ┆           ┆           ┆          │\n",
       "│           ┆           ┆ områ…     ┆           ┆   ┆           ┆           ┆           ┆          │\n",
       "│ 3032577   ┆ Cybersex: ┆ En        ┆ 2023-06-2 ┆ … ┆ null      ┆ null      ┆ 0.9307    ┆ Neutral  │\n",
       "│           ┆ Hvornår   ┆ flirtende ┆ 9         ┆   ┆           ┆           ┆           ┆          │\n",
       "│           ┆ er man    ┆ sms til   ┆ 06:20:46  ┆   ┆           ┆           ┆           ┆          │\n",
       "│           ┆ utro?     ┆ den       ┆           ┆   ┆           ┆           ┆           ┆          │\n",
       "│           ┆           ┆ flotte …  ┆           ┆   ┆           ┆           ┆           ┆          │\n",
       "└───────────┴───────────┴───────────┴───────────┴───┴───────────┴───────────┴───────────┴──────────┘"
      ]
     },
     "execution_count": 137,
     "metadata": {},
     "output_type": "execute_result"
    }
   ],
   "source": [
    "\n",
    "df_articles_train = pl.read_parquet(PATH.joinpath(\"ebnerd_small/articles.parquet\"))\n",
    "df_articles_train.head()\n",
    "#df_articles_test = pl.read_parquet(TEST_MAIN_PATH.joinpath(\"articles.parquet\"))"
   ]
  },
  {
   "cell_type": "code",
   "execution_count": 138,
   "metadata": {},
   "outputs": [
    {
     "data": {
      "text/html": [
       "<div><style>\n",
       ".dataframe > thead > tr,\n",
       ".dataframe > tbody > tr {\n",
       "  text-align: right;\n",
       "  white-space: pre-wrap;\n",
       "}\n",
       "</style>\n",
       "<small>shape: (5, 21)</small><table border=\"1\" class=\"dataframe\"><thead><tr><th>article_id</th><th>title</th><th>subtitle</th><th>last_modified_time</th><th>premium</th><th>body</th><th>published_time</th><th>image_ids</th><th>article_type</th><th>url</th><th>ner_clusters</th><th>entity_groups</th><th>topics</th><th>category</th><th>subcategory</th><th>category_str</th><th>total_inviews</th><th>total_pageviews</th><th>total_read_time</th><th>sentiment_score</th><th>sentiment_label</th></tr><tr><td>i32</td><td>str</td><td>str</td><td>datetime[μs]</td><td>bool</td><td>str</td><td>datetime[μs]</td><td>list[i64]</td><td>str</td><td>str</td><td>list[str]</td><td>list[str]</td><td>list[str]</td><td>i16</td><td>list[i16]</td><td>str</td><td>i32</td><td>i32</td><td>f32</td><td>f32</td><td>str</td></tr></thead><tbody><tr><td>3000022</td><td>&quot;Hanks beskyldt…</td><td>&quot;Tom Hanks har …</td><td>2023-06-29 06:20:32</td><td>false</td><td>&quot;Tom Hanks skul…</td><td>2006-09-20 09:24:18</td><td>[3518381]</td><td>&quot;article_defaul…</td><td>&quot;https://ekstra…</td><td>[&quot;David Gardner&quot;]</td><td>[&quot;PER&quot;]</td><td>[&quot;Kriminalitet&quot;, &quot;Kendt&quot;, … &quot;Litteratur&quot;]</td><td>414</td><td>[432]</td><td>&quot;underholdning&quot;</td><td>null</td><td>null</td><td>null</td><td>0.9911</td><td>&quot;Negative&quot;</td></tr><tr><td>3000063</td><td>&quot;Bostrups aske …</td><td>&quot;Studieværten b…</td><td>2023-06-29 06:20:32</td><td>false</td><td>&quot;Strålende sens…</td><td>2006-09-24 07:45:30</td><td>[3170935, 3170939]</td><td>&quot;article_defaul…</td><td>&quot;https://ekstra…</td><td>[]</td><td>[]</td><td>[&quot;Kendt&quot;, &quot;Underholdning&quot;, … &quot;Personlig begivenhed&quot;]</td><td>118</td><td>[133]</td><td>&quot;nyheder&quot;</td><td>null</td><td>null</td><td>null</td><td>0.5155</td><td>&quot;Neutral&quot;</td></tr><tr><td>3000613</td><td>&quot;Jesper Olsen r…</td><td>&quot;Den tidligere …</td><td>2023-06-29 06:20:33</td><td>false</td><td>&quot;Jesper Olsen, …</td><td>2006-05-09 11:29:00</td><td>[3164998]</td><td>&quot;article_defaul…</td><td>&quot;https://ekstra…</td><td>[&quot;Frankrig&quot;, &quot;Jesper Olsen&quot;, … &quot;Jesper Olsen&quot;]</td><td>[&quot;LOC&quot;, &quot;PER&quot;, … &quot;PER&quot;]</td><td>[&quot;Kendt&quot;, &quot;Sport&quot;, … &quot;Sygdom og behandling&quot;]</td><td>142</td><td>[196, 271]</td><td>&quot;sport&quot;</td><td>null</td><td>null</td><td>null</td><td>0.9876</td><td>&quot;Negative&quot;</td></tr><tr><td>3000700</td><td>&quot;Madonna topløs…</td><td>&quot;47-årige Madon…</td><td>2023-06-29 06:20:33</td><td>false</td><td>&quot;Skal du have s…</td><td>2006-05-04 11:03:12</td><td>[3172046]</td><td>&quot;article_defaul…</td><td>&quot;https://ekstra…</td><td>[]</td><td>[]</td><td>[&quot;Kendt&quot;, &quot;Livsstil&quot;, &quot;Underholdning&quot;]</td><td>414</td><td>[432]</td><td>&quot;underholdning&quot;</td><td>null</td><td>null</td><td>null</td><td>0.8786</td><td>&quot;Neutral&quot;</td></tr><tr><td>3000840</td><td>&quot;Otto Brandenbu…</td><td>&quot;Sangeren og sk…</td><td>2023-06-29 06:20:33</td><td>false</td><td>&quot;&#x27;Og lidt for S…</td><td>2007-03-01 18:34:00</td><td>[3914446]</td><td>&quot;article_defaul…</td><td>&quot;https://ekstra…</td><td>[]</td><td>[]</td><td>[&quot;Kendt&quot;, &quot;Underholdning&quot;, … &quot;Musik og lyd&quot;]</td><td>118</td><td>[133]</td><td>&quot;nyheder&quot;</td><td>null</td><td>null</td><td>null</td><td>0.9468</td><td>&quot;Negative&quot;</td></tr></tbody></table></div>"
      ],
      "text/plain": [
       "shape: (5, 21)\n",
       "┌───────────┬───────────┬───────────┬───────────┬───┬───────────┬───────────┬───────────┬──────────┐\n",
       "│ article_i ┆ title     ┆ subtitle  ┆ last_modi ┆ … ┆ total_pag ┆ total_rea ┆ sentiment ┆ sentimen │\n",
       "│ d         ┆ ---       ┆ ---       ┆ fied_time ┆   ┆ eviews    ┆ d_time    ┆ _score    ┆ t_label  │\n",
       "│ ---       ┆ str       ┆ str       ┆ ---       ┆   ┆ ---       ┆ ---       ┆ ---       ┆ ---      │\n",
       "│ i32       ┆           ┆           ┆ datetime[ ┆   ┆ i32       ┆ f32       ┆ f32       ┆ str      │\n",
       "│           ┆           ┆           ┆ μs]       ┆   ┆           ┆           ┆           ┆          │\n",
       "╞═══════════╪═══════════╪═══════════╪═══════════╪═══╪═══════════╪═══════════╪═══════════╪══════════╡\n",
       "│ 3000022   ┆ Hanks     ┆ Tom Hanks ┆ 2023-06-2 ┆ … ┆ null      ┆ null      ┆ 0.9911    ┆ Negative │\n",
       "│           ┆ beskyldt  ┆ har angiv ┆ 9         ┆   ┆           ┆           ┆           ┆          │\n",
       "│           ┆ for misha ┆ eligt     ┆ 06:20:32  ┆   ┆           ┆           ┆           ┆          │\n",
       "│           ┆ ndling    ┆ mishand…  ┆           ┆   ┆           ┆           ┆           ┆          │\n",
       "│ 3000063   ┆ Bostrups  ┆ Studievær ┆ 2023-06-2 ┆ … ┆ null      ┆ null      ┆ 0.5155    ┆ Neutral  │\n",
       "│           ┆ aske      ┆ ten blev  ┆ 9         ┆   ┆           ┆           ┆           ┆          │\n",
       "│           ┆ spredt i  ┆ mindet    ┆ 06:20:32  ┆   ┆           ┆           ┆           ┆          │\n",
       "│           ┆ Furesøen  ┆ med gla…  ┆           ┆   ┆           ┆           ┆           ┆          │\n",
       "│ 3000613   ┆ Jesper    ┆ Den       ┆ 2023-06-2 ┆ … ┆ null      ┆ null      ┆ 0.9876    ┆ Negative │\n",
       "│           ┆ Olsen     ┆ tidligere ┆ 9         ┆   ┆           ┆           ┆           ┆          │\n",
       "│           ┆ ramt af   ┆ danske    ┆ 06:20:33  ┆   ┆           ┆           ┆           ┆          │\n",
       "│           ┆ hjerneblø ┆ landshold ┆           ┆   ┆           ┆           ┆           ┆          │\n",
       "│           ┆ dn…       ┆ ss…       ┆           ┆   ┆           ┆           ┆           ┆          │\n",
       "│ 3000700   ┆ Madonna   ┆ 47-årige  ┆ 2023-06-2 ┆ … ┆ null      ┆ null      ┆ 0.8786    ┆ Neutral  │\n",
       "│           ┆ topløs    ┆ Madonna   ┆ 9         ┆   ┆           ┆           ┆           ┆          │\n",
       "│           ┆ med heste ┆ poserer   ┆ 06:20:33  ┆   ┆           ┆           ┆           ┆          │\n",
       "│           ┆           ┆ både to…  ┆           ┆   ┆           ┆           ┆           ┆          │\n",
       "│ 3000840   ┆ Otto Bran ┆ Sangeren  ┆ 2023-06-2 ┆ … ┆ null      ┆ null      ┆ 0.9468    ┆ Negative │\n",
       "│           ┆ denburg   ┆ og skuesp ┆ 9         ┆   ┆           ┆           ┆           ┆          │\n",
       "│           ┆ er død    ┆ illeren   ┆ 06:20:33  ┆   ┆           ┆           ┆           ┆          │\n",
       "│           ┆           ┆ Otto B…   ┆           ┆   ┆           ┆           ┆           ┆          │\n",
       "└───────────┴───────────┴───────────┴───────────┴───┴───────────┴───────────┴───────────┴──────────┘"
      ]
     },
     "execution_count": 138,
     "metadata": {},
     "output_type": "execute_result"
    }
   ],
   "source": [
    "df_articles_test = pl.read_parquet(PATH.joinpath(PATH, \"ebnerd_testset/articles.parquet\"))\n",
    "df_articles_test.head()\n"
   ]
  },
  {
   "cell_type": "code",
   "execution_count": 139,
   "metadata": {},
   "outputs": [],
   "source": [
    "BATCH_SIZE = 8 # try with 64\n",
    "df_train_subset = df_train[:1000] \n",
    "df_val_subset = df_validation[:1000]  "
   ]
  },
  {
   "cell_type": "code",
   "execution_count": 140,
   "metadata": {},
   "outputs": [],
   "source": [
    "from transformers import AutoModel, AutoTokenizer\n",
    "TEXT_COLUMNS_TO_USE = [DEFAULT_SUBTITLE_COL, DEFAULT_TITLE_COL]\n",
    "MAX_TITLE_LENGTH = 30\n",
    "\n",
    "from transformers import AutoModel, AutoTokenizer\n",
    "import pandas as pd\n",
    "\n",
    "# Define Available Models\n",
    "MODEL_CLASSES = {\n",
    "    \"xlm-roberta\": \"FacebookAI/xlm-roberta-base\",\n",
    "    \"bert\": \"bert-base-uncased\",\n",
    "    \"roberta\": \"roberta-base\",\n",
    "}\n",
    "\n",
    "# Select Model\n",
    "SELECTED_MODEL = \"bert\"  # Change this to \"bert\" or \"roberta\" as needed\n",
    "TRANSFORMER_MODEL_NAME = MODEL_CLASSES[SELECTED_MODEL]\n",
    "\n",
    "TEXT_COLUMNS_TO_USE = [DEFAULT_SUBTITLE_COL, DEFAULT_TITLE_COL]\n",
    "MAX_TITLE_LENGTH = 30\n",
    "\n",
    "# Load Transformer Model and Tokenizer\n",
    "transformer_model = AutoModel.from_pretrained(TRANSFORMER_MODEL_NAME)\n",
    "transformer_tokenizer = AutoTokenizer.from_pretrained(TRANSFORMER_MODEL_NAME)\n",
    "\n",
    "# Initialize Word Embeddings\n",
    "word2vec_embedding = get_transformers_word_embeddings(transformer_model)\n",
    "\n",
    "# Process Training Data\n",
    "df_articles_train, cat_cal = concat_str_columns(df_articles_train, columns=TEXT_COLUMNS_TO_USE)\n",
    "df_articles_train, token_col_title = convert_text2encoding_with_transformers(\n",
    "    df_articles_train, transformer_tokenizer, cat_cal, max_length=MAX_TITLE_LENGTH\n",
    ")\n",
    "article_mapping_train = create_article_id_to_value_mapping(\n",
    "    df=df_articles_train, value_col=token_col_title\n",
    ")\n",
    "\n",
    "# Process Test Data\n",
    "df_articles_test, cat_cal = concat_str_columns(df_articles_test, columns=TEXT_COLUMNS_TO_USE)\n",
    "df_articles_test, token_col_title = convert_text2encoding_with_transformers(\n",
    "    df_articles_test, transformer_tokenizer, cat_cal, max_length=MAX_TITLE_LENGTH\n",
    ")\n",
    "article_mapping_test = create_article_id_to_value_mapping(\n",
    "    df=df_articles_test, value_col=token_col_title\n",
    ")"
   ]
  },
  {
   "cell_type": "code",
   "execution_count": 141,
   "metadata": {},
   "outputs": [
    {
     "data": {
      "text/html": [
       "<div><style>\n",
       ".dataframe > thead > tr,\n",
       ".dataframe > tbody > tr {\n",
       "  text-align: right;\n",
       "  white-space: pre-wrap;\n",
       "}\n",
       "</style>\n",
       "<small>shape: (1_000, 7)</small><table border=\"1\" class=\"dataframe\"><thead><tr><th>user_id</th><th>impression_id</th><th>impression_time</th><th>article_id_fixed</th><th>article_ids_clicked</th><th>article_ids_inview</th><th>labels</th></tr><tr><td>u32</td><td>u32</td><td>datetime[μs]</td><td>list[i32]</td><td>list[i64]</td><td>list[i64]</td><td>list[i8]</td></tr></thead><tbody><tr><td>22548</td><td>96791</td><td>2023-05-28 04:21:24</td><td>[9773295, 9769504, … 9776929]</td><td>[9784696]</td><td>[9784710, 9784591, … 9784696]</td><td>[0, 0, … 1]</td></tr><tr><td>22548</td><td>96798</td><td>2023-05-28 04:31:48</td><td>[9773295, 9769504, … 9776929]</td><td>[9784281]</td><td>[9782656, 9783405, … 9784281]</td><td>[0, 0, … 1]</td></tr><tr><td>22548</td><td>96801</td><td>2023-05-28 04:30:17</td><td>[9773295, 9769504, … 9776929]</td><td>[9784444]</td><td>[9784444, 9783405, … 9782108]</td><td>[1, 0, … 0]</td></tr><tr><td>22548</td><td>96808</td><td>2023-05-28 04:27:19</td><td>[9773295, 9769504, … 9776929]</td><td>[9781983]</td><td>[9784406, 9781983, … 9695098]</td><td>[0, 1, … 0]</td></tr><tr><td>22548</td><td>96810</td><td>2023-05-28 04:29:47</td><td>[9773295, 9769504, … 9776929]</td><td>[9784642]</td><td>[9782108, 9784642, … 9782108]</td><td>[0, 1, … 0]</td></tr><tr><td>22548</td><td>96818</td><td>2023-05-28 04:18:42</td><td>[9773295, 9769504, … 9776929]</td><td>[9782884]</td><td>[9784710, 9784710, … 9784710]</td><td>[0, 0, … 0]</td></tr><tr><td>22548</td><td>96821</td><td>2023-05-28 04:30:58</td><td>[9773295, 9769504, … 9776929]</td><td>[9784160]</td><td>[9784642, 9784662, … 9784702]</td><td>[0, 0, … 0]</td></tr><tr><td>22548</td><td>96824</td><td>2023-05-28 04:20:28</td><td>[9773295, 9769504, … 9776929]</td><td>[9784679]</td><td>[9784591, 9784696, … 9784679]</td><td>[0, 0, … 1]</td></tr><tr><td>25554</td><td>97411</td><td>2023-05-28 04:10:48</td><td>[9779489, 9779541, … 9780019]</td><td>[9784591]</td><td>[9784679, 9784710, … 9784679]</td><td>[0, 0, … 0]</td></tr><tr><td>25554</td><td>97413</td><td>2023-05-28 04:14:01</td><td>[9779489, 9779541, … 9780019]</td><td>[9784559]</td><td>[9784044, 9784662, … 9784696]</td><td>[0, 0, … 0]</td></tr><tr><td>25554</td><td>97415</td><td>2023-05-28 04:14:32</td><td>[9779489, 9779541, … 9780019]</td><td>[9784662]</td><td>[9784662, 9784575, … 9783852]</td><td>[1, 0, … 0]</td></tr><tr><td>32455</td><td>99431</td><td>2023-05-28 04:56:13</td><td>[9778028, 9777296, … 9779860]</td><td>[9784702]</td><td>[9784702, 9784803, … 9782884]</td><td>[1, 0, … 0]</td></tr><tr><td>&hellip;</td><td>&hellip;</td><td>&hellip;</td><td>&hellip;</td><td>&hellip;</td><td>&hellip;</td><td>&hellip;</td></tr><tr><td>2480789</td><td>2609038</td><td>2023-05-26 10:41:11</td><td>[9778843, 9779227, … 9779777]</td><td>[9780348]</td><td>[9465878, 9781913, … 9780348]</td><td>[0, 0, … 1]</td></tr><tr><td>2480789</td><td>2609045</td><td>2023-05-26 10:38:15</td><td>[9778843, 9779227, … 9779777]</td><td>[9782133]</td><td>[9465878, 9782361, … 9782133]</td><td>[0, 0, … 1]</td></tr><tr><td>2480789</td><td>2609048</td><td>2023-05-26 10:38:34</td><td>[9778843, 9779227, … 9779777]</td><td>[9782108]</td><td>[9782290, 9695098, … 9695098]</td><td>[0, 0, … 0]</td></tr><tr><td>2480789</td><td>2609049</td><td>2023-05-26 10:41:29</td><td>[9778843, 9779227, … 9779777]</td><td>[9781913]</td><td>[9782021, 9782027, … 9782321]</td><td>[0, 0, … 0]</td></tr><tr><td>2484489</td><td>2610134</td><td>2023-05-26 10:48:53</td><td>[9769605, 9776322, … 9779511]</td><td>[9779411]</td><td>[9781913, 9779092, … 9781856]</td><td>[0, 0, … 0]</td></tr><tr><td>2485990</td><td>2610538</td><td>2023-05-26 10:00:27</td><td>[9779185, 9779184, … 9779423]</td><td>[9782131]</td><td>[9782290, 9781998, … 9782108]</td><td>[0, 0, … 0]</td></tr><tr><td>2487054</td><td>2610840</td><td>2023-05-26 11:41:38</td><td>[9776566, 9776566, … 9778226]</td><td>[9782248]</td><td>[9782467, 9781987, … 9782467]</td><td>[0, 0, … 0]</td></tr><tr><td>2487054</td><td>2610841</td><td>2023-05-26 11:57:23</td><td>[9776566, 9776566, … 9778226]</td><td>[9781389]</td><td>[9775697, 9052390, … 9775894]</td><td>[0, 0, … 0]</td></tr><tr><td>2487054</td><td>2610845</td><td>2023-05-26 11:42:09</td><td>[9776566, 9776566, … 9778226]</td><td>[9782103]</td><td>[9782074, 9782319, … 9142564]</td><td>[0, 0, … 0]</td></tr><tr><td>2487054</td><td>2610850</td><td>2023-05-26 11:52:07</td><td>[9776566, 9776566, … 9778226]</td><td>[9780498]</td><td>[9775894, 9782391, … 9782074]</td><td>[0, 0, … 0]</td></tr><tr><td>2487054</td><td>2610857</td><td>2023-05-26 11:51:54</td><td>[9776566, 9776566, … 9778226]</td><td>[9780348]</td><td>[9780348, 9775894, … 9718081]</td><td>[1, 0, … 0]</td></tr><tr><td>2487054</td><td>2610858</td><td>2023-05-26 11:53:56</td><td>[9776566, 9776566, … 9778226]</td><td>[9779092]</td><td>[9779092, 9268227, … 9718081]</td><td>[1, 0, … 0]</td></tr></tbody></table></div>"
      ],
      "text/plain": [
       "shape: (1_000, 7)\n",
       "┌─────────┬──────────────┬──────────────┬──────────────┬──────────────┬──────────────┬─────────────┐\n",
       "│ user_id ┆ impression_i ┆ impression_t ┆ article_id_f ┆ article_ids_ ┆ article_ids_ ┆ labels      │\n",
       "│ ---     ┆ d            ┆ ime          ┆ ixed         ┆ clicked      ┆ inview       ┆ ---         │\n",
       "│ u32     ┆ ---          ┆ ---          ┆ ---          ┆ ---          ┆ ---          ┆ list[i8]    │\n",
       "│         ┆ u32          ┆ datetime[μs] ┆ list[i32]    ┆ list[i64]    ┆ list[i64]    ┆             │\n",
       "╞═════════╪══════════════╪══════════════╪══════════════╪══════════════╪══════════════╪═════════════╡\n",
       "│ 22548   ┆ 96791        ┆ 2023-05-28   ┆ [9773295,    ┆ [9784696]    ┆ [9784710,    ┆ [0, 0, … 1] │\n",
       "│         ┆              ┆ 04:21:24     ┆ 9769504, …   ┆              ┆ 9784591, …   ┆             │\n",
       "│         ┆              ┆              ┆ 9776929]     ┆              ┆ 9784696]     ┆             │\n",
       "│ 22548   ┆ 96798        ┆ 2023-05-28   ┆ [9773295,    ┆ [9784281]    ┆ [9782656,    ┆ [0, 0, … 1] │\n",
       "│         ┆              ┆ 04:31:48     ┆ 9769504, …   ┆              ┆ 9783405, …   ┆             │\n",
       "│         ┆              ┆              ┆ 9776929]     ┆              ┆ 9784281]     ┆             │\n",
       "│ 22548   ┆ 96801        ┆ 2023-05-28   ┆ [9773295,    ┆ [9784444]    ┆ [9784444,    ┆ [1, 0, … 0] │\n",
       "│         ┆              ┆ 04:30:17     ┆ 9769504, …   ┆              ┆ 9783405, …   ┆             │\n",
       "│         ┆              ┆              ┆ 9776929]     ┆              ┆ 9782108]     ┆             │\n",
       "│ 22548   ┆ 96808        ┆ 2023-05-28   ┆ [9773295,    ┆ [9781983]    ┆ [9784406,    ┆ [0, 1, … 0] │\n",
       "│         ┆              ┆ 04:27:19     ┆ 9769504, …   ┆              ┆ 9781983, …   ┆             │\n",
       "│         ┆              ┆              ┆ 9776929]     ┆              ┆ 9695098]     ┆             │\n",
       "│ 22548   ┆ 96810        ┆ 2023-05-28   ┆ [9773295,    ┆ [9784642]    ┆ [9782108,    ┆ [0, 1, … 0] │\n",
       "│         ┆              ┆ 04:29:47     ┆ 9769504, …   ┆              ┆ 9784642, …   ┆             │\n",
       "│         ┆              ┆              ┆ 9776929]     ┆              ┆ 9782108]     ┆             │\n",
       "│ …       ┆ …            ┆ …            ┆ …            ┆ …            ┆ …            ┆ …           │\n",
       "│ 2487054 ┆ 2610841      ┆ 2023-05-26   ┆ [9776566,    ┆ [9781389]    ┆ [9775697,    ┆ [0, 0, … 0] │\n",
       "│         ┆              ┆ 11:57:23     ┆ 9776566, …   ┆              ┆ 9052390, …   ┆             │\n",
       "│         ┆              ┆              ┆ 9778226]     ┆              ┆ 9775894]     ┆             │\n",
       "│ 2487054 ┆ 2610845      ┆ 2023-05-26   ┆ [9776566,    ┆ [9782103]    ┆ [9782074,    ┆ [0, 0, … 0] │\n",
       "│         ┆              ┆ 11:42:09     ┆ 9776566, …   ┆              ┆ 9782319, …   ┆             │\n",
       "│         ┆              ┆              ┆ 9778226]     ┆              ┆ 9142564]     ┆             │\n",
       "│ 2487054 ┆ 2610850      ┆ 2023-05-26   ┆ [9776566,    ┆ [9780498]    ┆ [9775894,    ┆ [0, 0, … 0] │\n",
       "│         ┆              ┆ 11:52:07     ┆ 9776566, …   ┆              ┆ 9782391, …   ┆             │\n",
       "│         ┆              ┆              ┆ 9778226]     ┆              ┆ 9782074]     ┆             │\n",
       "│ 2487054 ┆ 2610857      ┆ 2023-05-26   ┆ [9776566,    ┆ [9780348]    ┆ [9780348,    ┆ [1, 0, … 0] │\n",
       "│         ┆              ┆ 11:51:54     ┆ 9776566, …   ┆              ┆ 9775894, …   ┆             │\n",
       "│         ┆              ┆              ┆ 9778226]     ┆              ┆ 9718081]     ┆             │\n",
       "│ 2487054 ┆ 2610858      ┆ 2023-05-26   ┆ [9776566,    ┆ [9779092]    ┆ [9779092,    ┆ [1, 0, … 0] │\n",
       "│         ┆              ┆ 11:53:56     ┆ 9776566, …   ┆              ┆ 9268227, …   ┆             │\n",
       "│         ┆              ┆              ┆ 9778226]     ┆              ┆ 9718081]     ┆             │\n",
       "└─────────┴──────────────┴──────────────┴──────────────┴──────────────┴──────────────┴─────────────┘"
      ]
     },
     "execution_count": 141,
     "metadata": {},
     "output_type": "execute_result"
    }
   ],
   "source": [
    "df_val_subset"
   ]
  },
  {
   "cell_type": "code",
   "execution_count": 142,
   "metadata": {},
   "outputs": [],
   "source": [
    "from transformers import AutoModel, AutoTokenizer\n",
    "TEXT_COLUMNS_TO_USE = [DEFAULT_SUBTITLE_COL, DEFAULT_TITLE_COL]\n",
    "MAX_TITLE_LENGTH = 30\n",
    "\n",
    "from transformers import AutoModel, AutoTokenizer\n",
    "import pandas as pd\n",
    "\n",
    "# Define Available Models\n",
    "MODEL_CLASSES = {\n",
    "    \"xlm-roberta\": \"FacebookAI/xlm-roberta-base\",\n",
    "    \"bert\": \"bert-base-uncased\",\n",
    "    \"roberta\": \"roberta-base\",\n",
    "}\n",
    "\n",
    "# Select Model\n",
    "SELECTED_MODEL = \"bert\"  # Change this to \"bert\" or \"roberta\" as needed\n",
    "TRANSFORMER_MODEL_NAME = MODEL_CLASSES[SELECTED_MODEL]\n",
    "\n",
    "TEXT_COLUMNS_TO_USE = [DEFAULT_SUBTITLE_COL, DEFAULT_TITLE_COL]\n",
    "MAX_TITLE_LENGTH = 30\n",
    "\n",
    "# Load Transformer Model and Tokenizer\n",
    "transformer_model = AutoModel.from_pretrained(TRANSFORMER_MODEL_NAME)\n",
    "transformer_tokenizer = AutoTokenizer.from_pretrained(TRANSFORMER_MODEL_NAME)\n",
    "\n",
    "# Initialize Word Embeddings\n",
    "word2vec_embedding = get_transformers_word_embeddings(transformer_model)\n",
    "\n",
    "# Process Training Data\n",
    "df_articles_train, cat_cal = concat_str_columns(df_articles_train, columns=TEXT_COLUMNS_TO_USE)\n",
    "df_articles_train, token_col_title = convert_text2encoding_with_transformers(\n",
    "    df_articles_train, transformer_tokenizer, cat_cal, max_length=MAX_TITLE_LENGTH\n",
    ")\n",
    "article_mapping_train = create_article_id_to_value_mapping(\n",
    "    df=df_articles_train, value_col=token_col_title\n",
    ")\n",
    "\n",
    "# Process Test Data\n",
    "df_articles_test, cat_cal = concat_str_columns(df_articles_test, columns=TEXT_COLUMNS_TO_USE)\n",
    "df_articles_test, token_col_title = convert_text2encoding_with_transformers(\n",
    "    df_articles_test, transformer_tokenizer, cat_cal, max_length=MAX_TITLE_LENGTH\n",
    ")\n",
    "article_mapping_test = create_article_id_to_value_mapping(\n",
    "    df=df_articles_test, value_col=token_col_title\n",
    ")"
   ]
  },
  {
   "cell_type": "markdown",
   "metadata": {},
   "source": [
    "Glove intergration"
   ]
  },
  {
   "cell_type": "markdown",
   "metadata": {},
   "source": [
    "# Initiate the dataloaders\n",
    "In the implementations we have disconnected the models and data. Hence, you should built a dataloader that fits your needs.\n",
    "\n",
    "Note, with this ```NRMSDataLoader``` the ```eval_mode=False``` is meant for ```model.model.fit()``` whereas ```eval_mode=True``` is meant for ```model.scorer.predict()```. "
   ]
  },
  {
   "cell_type": "code",
   "execution_count": 143,
   "metadata": {},
   "outputs": [
    {
     "name": "stdout",
     "output_type": "stream",
     "text": [
      "Initializing train and validation dataloaders...\n"
     ]
    }
   ],
   "source": [
    "# Initialize DataLoaders for train and validation\n",
    "print(\"Initializing train and validation dataloaders...\")"
   ]
  },
  {
   "cell_type": "code",
   "execution_count": null,
   "metadata": {},
   "outputs": [],
   "source": []
  },
  {
   "cell_type": "code",
   "execution_count": 144,
   "metadata": {},
   "outputs": [],
   "source": [
    "BATCH_SIZE = 8 # try with 64\n",
    "df_train_subset = df_train[:1000] \n",
    "df_val_subset = df_validation[:1000]  \n",
    "train_dataloader = NRMSDataLoader(\n",
    "    behaviors=df_train_subset,\n",
    "    article_dict=article_mapping_train,\n",
    "    unknown_representation=\"zeros\",\n",
    "    history_column=DEFAULT_HISTORY_ARTICLE_ID_COL,\n",
    "    eval_mode=False,\n",
    "    batch_size=BATCH_SIZE,\n",
    ")\n",
    "val_dataloader = NRMSDataLoader(\n",
    "    behaviors=df_val_subset,\n",
    "    article_dict=article_mapping_train,\n",
    "    unknown_representation=\"zeros\",\n",
    "    history_column=DEFAULT_HISTORY_ARTICLE_ID_COL,\n",
    "    eval_mode=False,\n",
    "    batch_size=BATCH_SIZE,\n",
    ")"
   ]
  },
  {
   "cell_type": "markdown",
   "metadata": {},
   "source": [
    "## Train the model\n"
   ]
  },
  {
   "cell_type": "code",
   "execution_count": 145,
   "metadata": {},
   "outputs": [
    {
     "name": "stdout",
     "output_type": "stream",
     "text": [
      "Available devices: [PhysicalDevice(name='/physical_device:CPU:0', device_type='CPU')]\n"
     ]
    }
   ],
   "source": [
    "# List all physical devices\n",
    "physical_devices = tf.config.list_physical_devices()\n",
    "print(\"Available devices:\", physical_devices)"
   ]
  },
  {
   "cell_type": "markdown",
   "metadata": {},
   "source": [
    "Initiate the NRMS-model:"
   ]
  },
  {
   "cell_type": "code",
   "execution_count": 146,
   "metadata": {},
   "outputs": [],
   "source": [
    "model = NRMSModel(\n",
    "    hparams=hparams_nrms,\n",
    "    word2vec_embedding=word2vec_embedding,\n",
    "    seed=42,\n",
    ")\n",
    "model.model.compile(\n",
    "    optimizer=model.model.optimizer,\n",
    "    loss=model.model.loss,\n",
    "    metrics=[\"AUC\"],\n",
    ")\n",
    "\n",
    "MODEL_NAME = model.__class__.__name__\n",
    "MODEL_WEIGHTS = DUMP_DIR.joinpath(f\"state_dict/{MODEL_NAME}/weights\")\n",
    "LOG_DIR = DUMP_DIR.joinpath(f\"runs/{MODEL_NAME}\")"
   ]
  },
  {
   "cell_type": "code",
   "execution_count": 147,
   "metadata": {},
   "outputs": [],
   "source": [
    "from pathlib import Path\n",
    "from tensorflow.keras.callbacks import ModelCheckpoint\n",
    "\n",
    "# Define paths\n",
    "DUMP_DIR = Path(r\"C:\\Users\\antot\\Downloads\\ebnerd-benchmark\\examples\").expanduser()\n",
    "DUMP_DIR.mkdir(exist_ok=True, parents=True)\n",
    "\n",
    "MODEL_NAME = model.__class__.__name__\n",
    "MODEL_WEIGHTS = DUMP_DIR.joinpath(f\"state_dict/{MODEL_NAME}/weights\")\n",
    "LOG_DIR = DUMP_DIR.joinpath(f\"runs/{MODEL_NAME}\")\n",
    "\n",
    "# Ensure directory for weights exists\n",
    "MODEL_WEIGHTS.parent.mkdir(parents=True, exist_ok=True)\n",
    "\n",
    "# Compile the model\n",
    "# model = NRMSModel(\n",
    "#     hparams=hparams_nrms,\n",
    "#     word2vec_embedding=word2vec_embedding,\n",
    "#     seed=42,\n",
    "# )\n",
    "# model.model.compile(\n",
    "#     optimizer=model.model.optimizer,\n",
    "#     loss=model.model.loss,\n",
    "#     metrics=[\"AUC\"],\n",
    "# )\n",
    "\n",
    "# Define checkpoint callback\n",
    "checkpoint_callback = ModelCheckpoint(\n",
    "    filepath=str(MODEL_WEIGHTS),\n",
    "    save_weights_only=True,\n",
    "    monitor='val_auc',\n",
    "    mode='max',\n",
    "    save_best_only=True,\n",
    "    verbose=1\n",
    ")"
   ]
  },
  {
   "cell_type": "code",
   "execution_count": 21,
   "metadata": {},
   "outputs": [],
   "source": [
    "# model = NRMSModel\n",
    "# MODEL_NAME = model.__class__.__name__\n"
   ]
  },
  {
   "cell_type": "markdown",
   "metadata": {},
   "source": [
    "## Train and store the weights"
   ]
  },
  {
   "cell_type": "code",
   "execution_count": 22,
   "metadata": {},
   "outputs": [
    {
     "name": "stdout",
     "output_type": "stream",
     "text": [
      "Starting Epoch 1/5\n",
      "WARNING:tensorflow:From c:\\Users\\antot\\miniconda3\\Lib\\site-packages\\keras\\src\\utils\\tf_utils.py:492: The name tf.ragged.RaggedTensorValue is deprecated. Please use tf.compat.v1.ragged.RaggedTensorValue instead.\n",
      "\n",
      "WARNING:tensorflow:From c:\\Users\\antot\\miniconda3\\Lib\\site-packages\\keras\\src\\engine\\base_layer_utils.py:384: The name tf.executing_eagerly_outside_functions is deprecated. Please use tf.compat.v1.executing_eagerly_outside_functions instead.\n",
      "\n",
      "125/125 [==============================] - 64s 454ms/step - loss: 1.6074 - auc: 0.5484 - val_loss: 1.6088 - val_auc: 0.5039 - lr: 1.0000e-04\n",
      "Epoch 1 completed in 64.85 seconds\n",
      "Starting Epoch 2/5\n",
      "125/125 [==============================] - 60s 480ms/step - loss: 1.5582 - auc: 0.6628 - val_loss: 1.6195 - val_auc: 0.5089 - lr: 1.0000e-04\n",
      "Epoch 2 completed in 60.54 seconds\n",
      "Starting Epoch 3/5\n",
      "125/125 [==============================] - 53s 427ms/step - loss: 1.3822 - auc: 0.7393 - val_loss: 1.6880 - val_auc: 0.5118 - lr: 1.0000e-04\n",
      "Epoch 3 completed in 53.54 seconds\n",
      "Starting Epoch 4/5\n",
      "125/125 [==============================] - 54s 432ms/step - loss: 1.2657 - auc: 0.7879 - val_loss: 1.7387 - val_auc: 0.5122 - lr: 1.0000e-04\n",
      "Epoch 4 completed in 54.14 seconds\n",
      "Starting Epoch 5/5\n",
      "125/125 [==============================] - 53s 425ms/step - loss: 1.1818 - auc: 0.8176 - val_loss: 1.8392 - val_auc: 0.5147 - lr: 1.0000e-04\n",
      "Epoch 5 completed in 53.32 seconds\n",
      "Model weights saved at: C:\\Users\\antot\\Downloads\\ebnerd-benchmark\\examples\\state_dict\\NRMSModel\\weights\n"
     ]
    }
   ],
   "source": [
    "import time\n",
    "import tensorflow as tf\n",
    "early_stopping = tf.keras.callbacks.EarlyStopping(\n",
    "    monitor=\"val_auc\",\n",
    "    mode=\"max\",\n",
    "    patience=3,\n",
    "    restore_best_weights=True,\n",
    ")\n",
    "\n",
    "# Learning rate scheduler\n",
    "lr_scheduler = tf.keras.callbacks.ReduceLROnPlateau(\n",
    "    monitor=\"val_auc\",  # Monitor validation AUC\n",
    "    mode=\"max\",         # Maximize AUC\n",
    "    factor=0.2,         # Reduce learning rate by 80%\n",
    "    patience=2,         # Wait for 2 epochs with no improvement\n",
    "    min_lr=1e-6         # Set a minimum learning rate\n",
    ")\n",
    "\n",
    "# Use callbacks if enabled\n",
    "USE_CALLBACKS = True\n",
    "callbacks = [lr_scheduler, early_stopping] if USE_CALLBACKS else []\n",
    "\n",
    "# Training loop\n",
    "EPOCHS = 5  # Adjust to desired number of epochs\n",
    "for epoch in range(EPOCHS):\n",
    "    start_time = time.time()\n",
    "    print(f\"Starting Epoch {epoch + 1}/{EPOCHS}\")\n",
    "\n",
    "    # Train the model for one epoch\n",
    "    model.model.fit(\n",
    "        train_dataloader,              # Training data\n",
    "        validation_data=val_dataloader,  # Validation data\n",
    "        epochs=1,                       # One epoch at a time\n",
    "        callbacks=callbacks,            # Use callbacks if enabled\n",
    "        verbose=1                       # Display progress\n",
    "    )\n",
    "    # Measure epoch duration\n",
    "    epoch_time = time.time() - start_time\n",
    "    print(f\"Epoch {epoch + 1} completed in {epoch_time:.2f} seconds\")\n",
    "\n",
    "# Save weights after training\n",
    "MODEL_WEIGHTS.parent.mkdir(parents=True, exist_ok=True)  # Ensure directory exists\n",
    "model.model.save_weights(MODEL_WEIGHTS)\n",
    "print(f\"Model weights saved at: {MODEL_WEIGHTS}\")\n"
   ]
  },
  {
   "cell_type": "code",
   "execution_count": null,
   "metadata": {},
   "outputs": [],
   "source": []
  },
  {
   "cell_type": "code",
   "execution_count": 23,
   "metadata": {},
   "outputs": [
    {
     "name": "stdout",
     "output_type": "stream",
     "text": [
      "WARNING:tensorflow:From c:\\Users\\antot\\miniconda3\\Lib\\site-packages\\keras\\src\\saving\\legacy\\save.py:538: The name tf.train.NewCheckpointReader is deprecated. Please use tf.compat.v1.train.NewCheckpointReader instead.\n",
      "\n"
     ]
    }
   ],
   "source": [
    "if USE_CALLBACKS:\n",
    "    _ = model.model.load_weights(filepath=MODEL_WEIGHTS)"
   ]
  },
  {
   "cell_type": "code",
   "execution_count": 24,
   "metadata": {},
   "outputs": [
    {
     "name": "stdout",
     "output_type": "stream",
     "text": [
      "Processing validation chunk: 1/32\n",
      "1/1 [==============================] - 2s 2s/step\n",
      "Processing validation chunk: 2/32\n",
      "1/1 [==============================] - 1s 1s/step\n",
      "Processing validation chunk: 3/32\n",
      "1/1 [==============================] - 1s 1s/step\n",
      "Processing validation chunk: 4/32\n",
      "1/1 [==============================] - 2s 2s/step\n",
      "Processing validation chunk: 5/32\n",
      "1/1 [==============================] - 1s 1s/step\n",
      "Processing validation chunk: 6/32\n",
      "1/1 [==============================] - 1s 1s/step\n",
      "Processing validation chunk: 7/32\n",
      "1/1 [==============================] - 1s 1s/step\n",
      "Processing validation chunk: 8/32\n",
      "1/1 [==============================] - 1s 1s/step\n",
      "Processing validation chunk: 9/32\n",
      "1/1 [==============================] - 1s 1s/step\n",
      "Processing validation chunk: 10/32\n",
      "1/1 [==============================] - 1s 1s/step\n",
      "Processing validation chunk: 11/32\n",
      "1/1 [==============================] - 1s 1s/step\n",
      "Processing validation chunk: 12/32\n",
      "1/1 [==============================] - 1s 1s/step\n",
      "Processing validation chunk: 13/32\n",
      "1/1 [==============================] - 1s 1s/step\n",
      "Processing validation chunk: 14/32\n",
      "1/1 [==============================] - 1s 1s/step\n",
      "Processing validation chunk: 15/32\n",
      "1/1 [==============================] - 1s 1s/step\n",
      "Processing validation chunk: 16/32\n",
      "1/1 [==============================] - 1s 1s/step\n",
      "Processing validation chunk: 17/32\n",
      "1/1 [==============================] - 1s 1s/step\n",
      "Processing validation chunk: 18/32\n",
      "1/1 [==============================] - 1s 1s/step\n",
      "Processing validation chunk: 19/32\n",
      "1/1 [==============================] - 1s 1s/step\n",
      "Processing validation chunk: 20/32\n",
      "1/1 [==============================] - 1s 1s/step\n",
      "Processing validation chunk: 21/32\n",
      "1/1 [==============================] - 1s 1s/step\n",
      "Processing validation chunk: 22/32\n",
      "1/1 [==============================] - 1s 1s/step\n",
      "Processing validation chunk: 23/32\n",
      "1/1 [==============================] - 1s 1s/step\n",
      "Processing validation chunk: 24/32\n",
      "1/1 [==============================] - 1s 1s/step\n",
      "Processing validation chunk: 25/32\n",
      "1/1 [==============================] - 1s 1s/step\n",
      "Processing validation chunk: 26/32\n",
      "1/1 [==============================] - 1s 1s/step\n",
      "Processing validation chunk: 27/32\n",
      "1/1 [==============================] - 1s 1s/step\n",
      "Processing validation chunk: 28/32\n",
      "1/1 [==============================] - 1s 1s/step\n",
      "Processing validation chunk: 29/32\n",
      "1/1 [==============================] - 1s 1s/step\n",
      "Processing validation chunk: 30/32\n",
      "1/1 [==============================] - 1s 1s/step\n",
      "Processing validation chunk: 31/32\n",
      "1/1 [==============================] - 1s 1s/step\n",
      "Processing validation chunk: 32/32\n",
      "1/1 [==============================] - 2s 2s/step\n",
      "Validation Predictions:\n",
      "shape: (5, 9)\n",
      "┌─────────┬────────────┬───────────┬───────────┬───┬───────────┬───────────┬───────────┬───────────┐\n",
      "│ user_id ┆ impression ┆ impressio ┆ article_i ┆ … ┆ article_i ┆ labels    ┆ scores    ┆ ranked_sc │\n",
      "│ ---     ┆ _id        ┆ n_time    ┆ d_fixed   ┆   ┆ ds_inview ┆ ---       ┆ ---       ┆ ores      │\n",
      "│ u32     ┆ ---        ┆ ---       ┆ ---       ┆   ┆ ---       ┆ list[i8]  ┆ list[f64] ┆ ---       │\n",
      "│         ┆ u32        ┆ datetime[ ┆ list[i32] ┆   ┆ list[i64] ┆           ┆           ┆ list[i64] │\n",
      "│         ┆            ┆ μs]       ┆           ┆   ┆           ┆           ┆           ┆           │\n",
      "╞═════════╪════════════╪═══════════╪═══════════╪═══╪═══════════╪═══════════╪═══════════╪═══════════╡\n",
      "│ 22548   ┆ 96791      ┆ 2023-05-2 ┆ [9773295, ┆ … ┆ [9784710, ┆ [0, 0, …  ┆ [0.033189 ┆ [5, 3, …  │\n",
      "│         ┆            ┆ 8         ┆ 9769504,  ┆   ┆ 9784591,  ┆ 1]        ┆ ,         ┆ 1]        │\n",
      "│         ┆            ┆ 04:21:24  ┆ …         ┆   ┆ …         ┆           ┆ 0.036362, ┆           │\n",
      "│         ┆            ┆           ┆ 9776929]  ┆   ┆ 9784696]  ┆           ┆ …         ┆           │\n",
      "│         ┆            ┆           ┆           ┆   ┆           ┆           ┆ 0.093128] ┆           │\n",
      "│ 22548   ┆ 96798      ┆ 2023-05-2 ┆ [9773295, ┆ … ┆ [9782656, ┆ [0, 0, …  ┆ [0.121207 ┆ [2, 1, …  │\n",
      "│         ┆            ┆ 8         ┆ 9769504,  ┆   ┆ 9783405,  ┆ 1]        ┆ ,         ┆ 4]        │\n",
      "│         ┆            ┆ 04:31:48  ┆ …         ┆   ┆ …         ┆           ┆ 0.137964, ┆           │\n",
      "│         ┆            ┆           ┆ 9776929]  ┆   ┆ 9784281]  ┆           ┆ …         ┆           │\n",
      "│         ┆            ┆           ┆           ┆   ┆           ┆           ┆ 0.065143] ┆           │\n",
      "│ 22548   ┆ 96801      ┆ 2023-05-2 ┆ [9773295, ┆ … ┆ [9784444, ┆ [1, 0, …  ┆ [0.063209 ┆ [4, 2, …  │\n",
      "│         ┆            ┆ 8         ┆ 9769504,  ┆   ┆ 9783405,  ┆ 0]        ┆ ,         ┆ 3]        │\n",
      "│         ┆            ┆ 04:30:17  ┆ …         ┆   ┆ …         ┆           ┆ 0.137964, ┆           │\n",
      "│         ┆            ┆           ┆ 9776929]  ┆   ┆ 9782108]  ┆           ┆ …         ┆           │\n",
      "│         ┆            ┆           ┆           ┆   ┆           ┆           ┆ 0.086373] ┆           │\n",
      "│ 22548   ┆ 96808      ┆ 2023-05-2 ┆ [9773295, ┆ … ┆ [9784406, ┆ [0, 1, …  ┆ [0.041228 ┆ [2, 3, …  │\n",
      "│         ┆            ┆ 8         ┆ 9769504,  ┆   ┆ 9781983,  ┆ 0]        ┆ ,         ┆ 4]        │\n",
      "│         ┆            ┆ 04:27:19  ┆ …         ┆   ┆ …         ┆           ┆ 0.013518, ┆           │\n",
      "│         ┆            ┆           ┆ 9776929]  ┆   ┆ 9695098]  ┆           ┆ …         ┆           │\n",
      "│         ┆            ┆           ┆           ┆   ┆           ┆           ┆ 0.001678] ┆           │\n",
      "│ 22548   ┆ 96810      ┆ 2023-05-2 ┆ [9773295, ┆ … ┆ [9782108, ┆ [0, 1, …  ┆ [0.086373 ┆ [4, 1, …  │\n",
      "│         ┆            ┆ 8         ┆ 9769504,  ┆   ┆ 9784642,  ┆ 0]        ┆ ,         ┆ 2]        │\n",
      "│         ┆            ┆ 04:29:47  ┆ …         ┆   ┆ …         ┆           ┆ 0.122394, ┆           │\n",
      "│         ┆            ┆           ┆ 9776929]  ┆   ┆ 9782108]  ┆           ┆ …         ┆           │\n",
      "│         ┆            ┆           ┆           ┆   ┆           ┆           ┆ 0.086373] ┆           │\n",
      "└─────────┴────────────┴───────────┴───────────┴───┴───────────┴───────────┴───────────┴───────────┘\n"
     ]
    }
   ],
   "source": [
    "import gc\n",
    "from tensorflow.keras.backend import clear_session\n",
    "from ebrec.utils._polars import split_df_chunks\n",
    "\n",
    "# Set up validation directories\n",
    "VAL_DF_DUMP = DUMP_DIR.joinpath(\"val_predictions\", MODEL_NAME)\n",
    "VAL_DF_DUMP.mkdir(parents=True, exist_ok=True)\n",
    "\n",
    "# Split validation dataset into manageable chunks\n",
    "df_val_chunks = split_df_chunks(df_val_subset, n_chunks=32)\n",
    "df_pred_val = []\n",
    "\n",
    "# Loop through each chunk\n",
    "for i, df_val_chunk in enumerate(df_val_chunks):\n",
    "    print(f\"Processing validation chunk: {i + 1}/{len(df_val_chunks)}\")\n",
    "\n",
    "    # Initialize DataLoader for validation set\n",
    "    val_dataloader = NRMSDataLoader(\n",
    "        behaviors=df_val_chunk,\n",
    "        article_dict=article_mapping_train,\n",
    "        unknown_representation=\"zeros\",\n",
    "        history_column=DEFAULT_HISTORY_ARTICLE_ID_COL,\n",
    "        eval_mode=True,\n",
    "        batch_size=64,  # Batch size for validation\n",
    "    )\n",
    "\n",
    "    # Predict scores for validation chunk\n",
    "    scores = model.scorer.predict(val_dataloader)\n",
    "    clear_session()\n",
    "\n",
    "    # Add predictions to the DataFrame\n",
    "    df_val_chunk = add_prediction_scores(df_val_chunk, scores.tolist()).with_columns(\n",
    "        pl.col(\"scores\")\n",
    "        .map_elements(lambda x: list(rank_predictions_by_score(x)))  # Rank predictions\n",
    "        .alias(\"ranked_scores\")\n",
    "    )\n",
    "\n",
    "    # Save predictions for this chunk\n",
    "    df_val_chunk.select(DEFAULT_IMPRESSION_ID_COL, \"ranked_scores\").write_parquet(\n",
    "        VAL_DF_DUMP.joinpath(f\"val_pred_chunk_{i + 1}.parquet\")\n",
    "    )\n",
    "\n",
    "    # Append processed chunk\n",
    "    df_pred_val.append(df_val_chunk)\n",
    "\n",
    "    # Cleanup to release memory\n",
    "    del df_val_chunk, val_dataloader, scores\n",
    "    gc.collect()\n",
    "\n",
    "# Combine all validation chunks into a single DataFrame\n",
    "df_pred_val_combined = pl.concat(df_pred_val)\n",
    "\n",
    "# Save the full validation predictions\n",
    "df_pred_val_combined.select(DEFAULT_IMPRESSION_ID_COL, \"ranked_scores\").write_parquet(\n",
    "    VAL_DF_DUMP.joinpath(\"val_predictions_combined.parquet\")\n",
    ")\n",
    "\n",
    "# Print the first few rows for inspection\n",
    "print(\"Validation Predictions:\")\n",
    "print(df_pred_val_combined.head())\n"
   ]
  },
  {
   "cell_type": "code",
   "execution_count": 25,
   "metadata": {},
   "outputs": [
    {
     "name": "stderr",
     "output_type": "stream",
     "text": [
      "AUC: 100%|█████████████████████████████████| 1000/1000 [00:02<00:00, 386.23it/s]\n",
      "AUC: 100%|███████████████████████████████| 1000/1000 [00:00<00:00, 15057.15it/s]\n",
      "AUC: 100%|████████████████████████████████| 1000/1000 [00:00<00:00, 8489.53it/s]\n",
      "AUC: 100%|████████████████████████████████| 1000/1000 [00:00<00:00, 7415.88it/s]"
     ]
    },
    {
     "name": "stdout",
     "output_type": "stream",
     "text": [
      "<MetricEvaluator class>: \n",
      " {\n",
      "    \"auc\": 0.5105,\n",
      "    \"mrr\": 0.4893333333333333,\n",
      "    \"ndcg@5\": 0.6136776776746045,\n",
      "    \"ndcg@10\": 0.6136776776746045\n",
      "}\n"
     ]
    },
    {
     "name": "stderr",
     "output_type": "stream",
     "text": [
      "\n"
     ]
    }
   ],
   "source": [
    "from ebrec.evaluation.metrics import (\n",
    "    mean_squared_error,\n",
    "    accuracy_score,\n",
    "    roc_auc_score,\n",
    "    ndcg_score,\n",
    "    mrr_score,\n",
    "    log_loss,\n",
    "    f1_score,\n",
    ")\n",
    "\n",
    "evaluator = MetricEvaluator(\n",
    "    labels=df_pred_val_combined[\"labels\"].to_list(),\n",
    "    predictions=df_pred_val_combined[\"scores\"].to_list(),\n",
    "    metric_functions=[\n",
    "        AucScore(),\n",
    "        MrrScore(),\n",
    "        NdcgScore(k=5),\n",
    "        NdcgScore(k=10),\n",
    "    ],\n",
    ")\n",
    "results = evaluator.evaluate()\n",
    "print(results)\n"
   ]
  },
  {
   "cell_type": "markdown",
   "metadata": {},
   "source": [
    "Implimentation on the Test set"
   ]
  },
  {
   "cell_type": "code",
   "execution_count": 26,
   "metadata": {},
   "outputs": [
    {
     "name": "stdout",
     "output_type": "stream",
     "text": [
      "Test samples: 135367\n",
      "Test Data Sample:\n",
      "shape: (2, 15)\n",
      "┌───────────┬───────────┬───────────┬───────────┬───┬───────────┬───────────┬───────────┬──────────┐\n",
      "│ impressio ┆ impressio ┆ read_time ┆ scroll_pe ┆ … ┆ is_subscr ┆ session_i ┆ is_beyond ┆ article_ │\n",
      "│ n_id      ┆ n_time    ┆ ---       ┆ rcentage  ┆   ┆ iber      ┆ d         ┆ _accuracy ┆ id_fixed │\n",
      "│ ---       ┆ ---       ┆ f32       ┆ ---       ┆   ┆ ---       ┆ ---       ┆ ---       ┆ ---      │\n",
      "│ u32       ┆ datetime[ ┆           ┆ f32       ┆   ┆ bool      ┆ u32       ┆ bool      ┆ list[i32 │\n",
      "│           ┆ μs]       ┆           ┆           ┆   ┆           ┆           ┆           ┆ ]        │\n",
      "╞═══════════╪═══════════╪═══════════╪═══════════╪═══╪═══════════╪═══════════╪═══════════╪══════════╡\n",
      "│ 385779184 ┆ 2023-06-0 ┆ 9.0       ┆ null      ┆ … ┆ false     ┆ 84563669  ┆ false     ┆ [9785076 │\n",
      "│           ┆ 3         ┆           ┆           ┆   ┆           ┆           ┆           ┆ ,        │\n",
      "│           ┆ 23:52:49  ┆           ┆           ┆   ┆           ┆           ┆           ┆ 9785076, │\n",
      "│           ┆           ┆           ┆           ┆   ┆           ┆           ┆           ┆ …        │\n",
      "│           ┆           ┆           ┆           ┆   ┆           ┆           ┆           ┆ 9789718] │\n",
      "│ 454471082 ┆ 2023-06-0 ┆ 21.0      ┆ null      ┆ … ┆ false     ┆ 15869837  ┆ false     ┆ [9787261 │\n",
      "│           ┆ 3         ┆           ┆           ┆   ┆           ┆           ┆           ┆ ,        │\n",
      "│           ┆ 10:46:41  ┆           ┆           ┆   ┆           ┆           ┆           ┆ 9785076, │\n",
      "│           ┆           ┆           ┆           ┆   ┆           ┆           ┆           ┆ …        │\n",
      "│           ┆           ┆           ┆           ┆   ┆           ┆           ┆           ┆ 9776147] │\n",
      "└───────────┴───────────┴───────────┴───────────┴───┴───────────┴───────────┴───────────┴──────────┘\n"
     ]
    }
   ],
   "source": [
    "df_test = (\n",
    "    ebnerd_from_path(\n",
    "        PATH.joinpath(PATH, \"ebnerd_testset/test\")\n",
    "    )\n",
    "    .sample(fraction=FRACTION)\n",
    ")\n",
    "\n",
    "print(f\"Test samples: {df_test.height}\")\n",
    "print(\"Test Data Sample:\")\n",
    "print(df_test.head(2))\n"
   ]
  },
  {
   "cell_type": "code",
   "execution_count": 27,
   "metadata": {},
   "outputs": [
    {
     "data": {
      "text/html": [
       "<div><style>\n",
       ".dataframe > thead > tr,\n",
       ".dataframe > tbody > tr {\n",
       "  text-align: right;\n",
       "  white-space: pre-wrap;\n",
       "}\n",
       "</style>\n",
       "<small>shape: (5, 8)</small><table border=\"1\" class=\"dataframe\"><thead><tr><th>user_id</th><th>impression_id</th><th>impression_time</th><th>article_id_fixed</th><th>article_ids_clicked</th><th>article_ids_inview</th><th>is_beyond_accuracy</th><th>labels</th></tr><tr><td>u32</td><td>u32</td><td>datetime[μs]</td><td>list[i32]</td><td>i32</td><td>list[i32]</td><td>bool</td><td>list[i32]</td></tr></thead><tbody><tr><td>35982</td><td>6451339</td><td>2023-06-05 15:02:49</td><td>[9786268, 9782806, … 9789494]</td><td>9796527</td><td>[9796527, 7851321, … 9492777]</td><td>false</td><td>[0, 0, … 0]</td></tr><tr><td>36012</td><td>6451363</td><td>2023-06-05 15:03:56</td><td>[9788323, 9788362, … 9790885]</td><td>9798532</td><td>[9798532, 9791602, … 9798958]</td><td>false</td><td>[0, 0, … 0]</td></tr><tr><td>36162</td><td>6451382</td><td>2023-06-05 15:25:53</td><td>[9788524, 9788106, … 9790700]</td><td>9798498</td><td>[9798498, 9793856, … 9798724]</td><td>false</td><td>[0, 0, … 0]</td></tr><tr><td>36162</td><td>6451383</td><td>2023-06-05 15:26:35</td><td>[9788524, 9788106, … 9790700]</td><td>9797419</td><td>[9797419, 9798829, … 9798805]</td><td>false</td><td>[0, 0, … 0]</td></tr><tr><td>36162</td><td>6451385</td><td>2023-06-05 15:26:14</td><td>[9788524, 9788106, … 9790700]</td><td>9785014</td><td>[9785014, 9798958, … 9486080]</td><td>false</td><td>[0, 0, … 0]</td></tr></tbody></table></div>"
      ],
      "text/plain": [
       "shape: (5, 8)\n",
       "┌─────────┬────────────┬────────────┬────────────┬────────────┬────────────┬───────────┬───────────┐\n",
       "│ user_id ┆ impression ┆ impression ┆ article_id ┆ article_id ┆ article_id ┆ is_beyond ┆ labels    │\n",
       "│ ---     ┆ _id        ┆ _time      ┆ _fixed     ┆ s_clicked  ┆ s_inview   ┆ _accuracy ┆ ---       │\n",
       "│ u32     ┆ ---        ┆ ---        ┆ ---        ┆ ---        ┆ ---        ┆ ---       ┆ list[i32] │\n",
       "│         ┆ u32        ┆ datetime[μ ┆ list[i32]  ┆ i32        ┆ list[i32]  ┆ bool      ┆           │\n",
       "│         ┆            ┆ s]         ┆            ┆            ┆            ┆           ┆           │\n",
       "╞═════════╪════════════╪════════════╪════════════╪════════════╪════════════╪═══════════╪═══════════╡\n",
       "│ 35982   ┆ 6451339    ┆ 2023-06-05 ┆ [9786268,  ┆ 9796527    ┆ [9796527,  ┆ false     ┆ [0, 0, …  │\n",
       "│         ┆            ┆ 15:02:49   ┆ 9782806, … ┆            ┆ 7851321, … ┆           ┆ 0]        │\n",
       "│         ┆            ┆            ┆ 9789494]   ┆            ┆ 9492777]   ┆           ┆           │\n",
       "│ 36012   ┆ 6451363    ┆ 2023-06-05 ┆ [9788323,  ┆ 9798532    ┆ [9798532,  ┆ false     ┆ [0, 0, …  │\n",
       "│         ┆            ┆ 15:03:56   ┆ 9788362, … ┆            ┆ 9791602, … ┆           ┆ 0]        │\n",
       "│         ┆            ┆            ┆ 9790885]   ┆            ┆ 9798958]   ┆           ┆           │\n",
       "│ 36162   ┆ 6451382    ┆ 2023-06-05 ┆ [9788524,  ┆ 9798498    ┆ [9798498,  ┆ false     ┆ [0, 0, …  │\n",
       "│         ┆            ┆ 15:25:53   ┆ 9788106, … ┆            ┆ 9793856, … ┆           ┆ 0]        │\n",
       "│         ┆            ┆            ┆ 9790700]   ┆            ┆ 9798724]   ┆           ┆           │\n",
       "│ 36162   ┆ 6451383    ┆ 2023-06-05 ┆ [9788524,  ┆ 9797419    ┆ [9797419,  ┆ false     ┆ [0, 0, …  │\n",
       "│         ┆            ┆ 15:26:35   ┆ 9788106, … ┆            ┆ 9798829, … ┆           ┆ 0]        │\n",
       "│         ┆            ┆            ┆ 9790700]   ┆            ┆ 9798805]   ┆           ┆           │\n",
       "│ 36162   ┆ 6451385    ┆ 2023-06-05 ┆ [9788524,  ┆ 9785014    ┆ [9785014,  ┆ false     ┆ [0, 0, …  │\n",
       "│         ┆            ┆ 15:26:14   ┆ 9788106, … ┆            ┆ 9798958, … ┆           ┆ 0]        │\n",
       "│         ┆            ┆            ┆ 9790700]   ┆            ┆ 9486080]   ┆           ┆           │\n",
       "└─────────┴────────────┴────────────┴────────────┴────────────┴────────────┴───────────┴───────────┘"
      ]
     },
     "execution_count": 27,
     "metadata": {},
     "output_type": "execute_result"
    }
   ],
   "source": [
    "df_test = (\n",
    "    ebnerd_from_path(PATH.joinpath(\"ebnerd_testset\", \"test\"), history_size=HISTORY_SIZE)\n",
    "    .sample(fraction=FRACTION_TEST)\n",
    "    .with_columns(\n",
    "        pl.col(DEFAULT_INVIEW_ARTICLES_COL)\n",
    "        .list.first()\n",
    "        .alias(DEFAULT_CLICKED_ARTICLES_COL)\n",
    "    )\n",
    "    .select(COLUMNS + [DEFAULT_IS_BEYOND_ACCURACY_COL])\n",
    "    .with_columns(\n",
    "        pl.col(DEFAULT_INVIEW_ARTICLES_COL)\n",
    "        .list.eval(pl.element() * 0)\n",
    "        .alias(DEFAULT_LABELS_COL)\n",
    "    )\n",
    ")\n",
    "df_test.head()"
   ]
  },
  {
   "cell_type": "markdown",
   "metadata": {},
   "source": [
    "# Take a subset of the test set for implementation"
   ]
  },
  {
   "cell_type": "markdown",
   "metadata": {},
   "source": [
    "I break it so that I can eun the test"
   ]
  },
  {
   "cell_type": "code",
   "execution_count": 29,
   "metadata": {},
   "outputs": [
    {
     "name": "stdout",
     "output_type": "stream",
     "text": [
      "shape: (2, 2)\n",
      "┌────────────────────┬───────┐\n",
      "│ is_beyond_accuracy ┆ count │\n",
      "│ ---                ┆ ---   │\n",
      "│ bool               ┆ u32   │\n",
      "╞════════════════════╪═══════╡\n",
      "│ true               ┆ 500   │\n",
      "│ false              ┆ 500   │\n",
      "└────────────────────┴───────┘\n"
     ]
    },
    {
     "name": "stderr",
     "output_type": "stream",
     "text": [
      "C:\\Users\\antot\\AppData\\Local\\Temp\\ipykernel_18860\\4152766399.py:20: DeprecationWarning: `groupby` is deprecated. It has been renamed to `group_by`.\n",
      "  df_test.groupby(\"is_beyond_accuracy\")\n",
      "C:\\Users\\antot\\AppData\\Local\\Temp\\ipykernel_18860\\4152766399.py:21: DeprecationWarning: `pl.count()` is deprecated. Please use `pl.len()` instead.\n",
      "  .agg(pl.count().alias(\"count\"))\n"
     ]
    }
   ],
   "source": [
    "import polars as pl\n",
    "\n",
    "# Assume df_test is already defined\n",
    "df_test = df_test[:1000]  # Restrict to first 10,000 rows\n",
    "\n",
    "# Split 500 rows for each case\n",
    "df_false = df_test[:500].with_columns(\n",
    "    pl.lit(False).alias(\"is_beyond_accuracy\")\n",
    ")\n",
    "\n",
    "df_true = df_test[500:1000].with_columns(\n",
    "    pl.lit(True).alias(\"is_beyond_accuracy\")\n",
    ")\n",
    "\n",
    "# Combine into a single DataFrame\n",
    "df_test = pl.concat([df_false, df_true])\n",
    "\n",
    "# Verify the distribution\n",
    "print(\n",
    "    df_test.groupby(\"is_beyond_accuracy\")\n",
    "    .agg(pl.count().alias(\"count\"))\n",
    ")\n"
   ]
  },
  {
   "cell_type": "code",
   "execution_count": 30,
   "metadata": {},
   "outputs": [
    {
     "name": "stdout",
     "output_type": "stream",
     "text": [
      "Rows without beyond accuracy (False): 500\n",
      "Rows with beyond accuracy (True): 500\n"
     ]
    }
   ],
   "source": [
    "# Filter rows into two subsets\n",
    "df_test_wo_beyond = df_test.filter(~pl.col(\"is_beyond_accuracy\"))\n",
    "df_test_w_beyond = df_test.filter(pl.col(\"is_beyond_accuracy\"))\n",
    "\n",
    "# Verify the split\n",
    "print(\"Rows without beyond accuracy (False):\", df_test_wo_beyond.shape[0])\n",
    "print(\"Rows with beyond accuracy (True):\", df_test_w_beyond.shape[0])\n"
   ]
  },
  {
   "cell_type": "code",
   "execution_count": 31,
   "metadata": {},
   "outputs": [],
   "source": [
    "from ebrec.utils._polars import split_df_chunks\n",
    "\n",
    "\n",
    "\n",
    "df_test_chunks = split_df_chunks(df_test_wo_beyond, n_chunks=N_CHUNKS_TEST)\n",
    "df_pred_test_wo_beyond = []"
   ]
  },
  {
   "cell_type": "code",
   "execution_count": 32,
   "metadata": {},
   "outputs": [],
   "source": [
    "BATCH_SIZE_TRAIN = 32\n",
    "BATCH_SIZE_VAL = 32\n",
    "BATCH_SIZE_TEST_WO_B = 32\n",
    "BATCH_SIZE_TEST_W_B = 4\n",
    "N_CHUNKS_TEST = 10\n",
    "CHUNKS_DONE = 0"
   ]
  },
  {
   "cell_type": "code",
   "execution_count": 33,
   "metadata": {},
   "outputs": [
    {
     "name": "stdout",
     "output_type": "stream",
     "text": [
      "Init test-dataloader: 1/10\n",
      "2/2 [==============================] - 5s 2s/step\n",
      "Init test-dataloader: 2/10\n",
      "2/2 [==============================] - 4s 1s/step\n",
      "Init test-dataloader: 3/10\n",
      "2/2 [==============================] - 5s 961ms/step\n",
      "Init test-dataloader: 4/10\n",
      "2/2 [==============================] - 4s 1s/step\n",
      "Init test-dataloader: 5/10\n",
      "2/2 [==============================] - 4s 1s/step\n",
      "Init test-dataloader: 6/10\n",
      "2/2 [==============================] - 4s 1s/step\n",
      "Init test-dataloader: 7/10\n",
      "2/2 [==============================] - 4s 1s/step\n",
      "Init test-dataloader: 8/10\n",
      "2/2 [==============================] - 4s 1s/step\n",
      "Init test-dataloader: 9/10\n",
      "2/2 [==============================] - 4s 1s/step\n",
      "Init test-dataloader: 10/10\n",
      "2/2 [==============================] - 4s 1s/step\n"
     ]
    }
   ],
   "source": [
    "import gc\n",
    "from tensorflow.keras.backend import clear_session\n",
    "TEST_DF_DUMP = DUMP_DIR.joinpath(\"test_predictions\", MODEL_NAME)\n",
    "TEST_DF_DUMP.mkdir(parents=True, exist_ok=True)\n",
    "\n",
    "df_test_chunks = split_df_chunks(df_test_wo_beyond, n_chunks=N_CHUNKS_TEST)\n",
    "df_pred_test_wo_beyond = []\n",
    "\n",
    "for i, df_test_chunk in enumerate(df_test_chunks[CHUNKS_DONE:], start=1 + CHUNKS_DONE):\n",
    "    print(f\"Init test-dataloader: {i}/{len(df_test_chunks)}\")\n",
    "    # Initialize DataLoader\n",
    "    test_dataloader_wo_b = NRMSDataLoader(\n",
    "        behaviors=df_test_chunk,\n",
    "        article_dict=article_mapping_test,\n",
    "        unknown_representation=\"zeros\",\n",
    "        history_column=DEFAULT_HISTORY_ARTICLE_ID_COL,\n",
    "        eval_mode=True,\n",
    "        batch_size=BATCH_SIZE_TEST_WO_B,\n",
    "    )\n",
    "    # Predict and clear session\n",
    "    scores = model.scorer.predict(test_dataloader_wo_b)\n",
    "    clear_session()\n",
    "\n",
    "    # Process the predictions\n",
    "    df_test_chunk = add_prediction_scores(df_test_chunk, scores.tolist()).with_columns(\n",
    "        pl.col(\"scores\")\n",
    "        .map_elements(lambda x: list(rank_predictions_by_score(x)))\n",
    "        .alias(\"ranked_scores\")\n",
    "    )\n",
    "\n",
    "    # Save the processed chunk\n",
    "    df_test_chunk.select(DEFAULT_IMPRESSION_ID_COL, \"ranked_scores\").write_parquet(\n",
    "        TEST_DF_DUMP.joinpath(f\"pred_wo_ba_{i}.parquet\")\n",
    "    )\n",
    "\n",
    "    # Append and clean up\n",
    "    df_pred_test_wo_beyond.append(df_test_chunk)\n",
    "\n",
    "    # Cleanup\n",
    "    del df_test_chunk, test_dataloader_wo_b, scores\n",
    "    gc.collect()"
   ]
  },
  {
   "cell_type": "code",
   "execution_count": 34,
   "metadata": {},
   "outputs": [
    {
     "name": "stdout",
     "output_type": "stream",
     "text": [
      "shape: (30, 10)\n",
      "┌─────────┬────────────┬───────────┬───────────┬───┬───────────┬───────────┬───────────┬───────────┐\n",
      "│ user_id ┆ impression ┆ impressio ┆ article_i ┆ … ┆ is_beyond ┆ labels    ┆ scores    ┆ ranked_sc │\n",
      "│ ---     ┆ _id        ┆ n_time    ┆ d_fixed   ┆   ┆ _accuracy ┆ ---       ┆ ---       ┆ ores      │\n",
      "│ u32     ┆ ---        ┆ ---       ┆ ---       ┆   ┆ ---       ┆ list[i32] ┆ list[f64] ┆ ---       │\n",
      "│         ┆ u32        ┆ datetime[ ┆ list[i32] ┆   ┆ bool      ┆           ┆           ┆ list[i64] │\n",
      "│         ┆            ┆ μs]       ┆           ┆   ┆           ┆           ┆           ┆           │\n",
      "╞═════════╪════════════╪═══════════╪═══════════╪═══╪═══════════╪═══════════╪═══════════╪═══════════╡\n",
      "│ 35982   ┆ 6451339    ┆ 2023-06-0 ┆ [9786268, ┆ … ┆ false     ┆ [0, 0, …  ┆ [0.01932, ┆ [8, 2, …  │\n",
      "│         ┆            ┆ 5         ┆ 9782806,  ┆   ┆           ┆ 0]        ┆ 0.132936, ┆ 7]        │\n",
      "│         ┆            ┆ 15:02:49  ┆ …         ┆   ┆           ┆           ┆ …         ┆           │\n",
      "│         ┆            ┆           ┆ 9789494]  ┆   ┆           ┆           ┆ 0.027194] ┆           │\n",
      "│ 36012   ┆ 6451363    ┆ 2023-06-0 ┆ [9788323, ┆ … ┆ false     ┆ [0, 0, …  ┆ [0.049806 ┆ [6, 2, …  │\n",
      "│         ┆            ┆ 5         ┆ 9788362,  ┆   ┆           ┆ 0]        ┆ ,         ┆ 3]        │\n",
      "│         ┆            ┆ 15:03:56  ┆ …         ┆   ┆           ┆           ┆ 0.15429,  ┆           │\n",
      "│         ┆            ┆           ┆ 9790885]  ┆   ┆           ┆           ┆ …         ┆           │\n",
      "│         ┆            ┆           ┆           ┆   ┆           ┆           ┆ 0.147735] ┆           │\n",
      "│ 36162   ┆ 6451382    ┆ 2023-06-0 ┆ [9788524, ┆ … ┆ false     ┆ [0, 0, …  ┆ [0.036762 ┆ [5, 4, …  │\n",
      "│         ┆            ┆ 5         ┆ 9788106,  ┆   ┆           ┆ 0]        ┆ ,         ┆ 3]        │\n",
      "│         ┆            ┆ 15:25:53  ┆ …         ┆   ┆           ┆           ┆ 0.04355,  ┆           │\n",
      "│         ┆            ┆           ┆ 9790700]  ┆   ┆           ┆           ┆ …         ┆           │\n",
      "│         ┆            ┆           ┆           ┆   ┆           ┆           ┆ 0.047237] ┆           │\n",
      "│ 36162   ┆ 6451383    ┆ 2023-06-0 ┆ [9788524, ┆ … ┆ false     ┆ [0, 0, …  ┆ [0.017575 ┆ [11, 7, … │\n",
      "│         ┆            ┆ 5         ┆ 9788106,  ┆   ┆           ┆ 0]        ┆ ,         ┆ 6]        │\n",
      "│         ┆            ┆ 15:26:35  ┆ …         ┆   ┆           ┆           ┆ 0.045059, ┆           │\n",
      "│         ┆            ┆           ┆ 9790700]  ┆   ┆           ┆           ┆ …         ┆           │\n",
      "│         ┆            ┆           ┆           ┆   ┆           ┆           ┆ 0.047913] ┆           │\n",
      "│ 36162   ┆ 6451385    ┆ 2023-06-0 ┆ [9788524, ┆ … ┆ false     ┆ [0, 0, …  ┆ [0.153397 ┆ [2, 1, …  │\n",
      "│         ┆            ┆ 5         ┆ 9788106,  ┆   ┆           ┆ 0]        ┆ ,         ┆ 7]        │\n",
      "│         ┆            ┆ 15:26:14  ┆ …         ┆   ┆           ┆           ┆ 0.158653, ┆           │\n",
      "│         ┆            ┆           ┆ 9790700]  ┆   ┆           ┆           ┆ …         ┆           │\n",
      "│         ┆            ┆           ┆           ┆   ┆           ┆           ┆ 0.028739] ┆           │\n",
      "│ …       ┆ …          ┆ …         ┆ …         ┆ … ┆ …         ┆ …         ┆ …         ┆ …         │\n",
      "│ 36744   ┆ 6451546    ┆ 2023-06-0 ┆ [9756287, ┆ … ┆ false     ┆ [0, 0, …  ┆ [0.02492, ┆ [8, 2, …  │\n",
      "│         ┆            ┆ 5         ┆ 9787185,  ┆   ┆           ┆ 0]        ┆ 0.122296, ┆ 7]        │\n",
      "│         ┆            ┆ 15:16:22  ┆ …         ┆   ┆           ┆           ┆ …         ┆           │\n",
      "│         ┆            ┆           ┆ 9789832]  ┆   ┆           ┆           ┆ 0.028056] ┆           │\n",
      "│ 36744   ┆ 6451547    ┆ 2023-06-0 ┆ [9756287, ┆ … ┆ false     ┆ [0, 0, …  ┆ [0.041927 ┆ [4, 3, …  │\n",
      "│         ┆            ┆ 5         ┆ 9787185,  ┆   ┆           ┆ 0]        ┆ ,         ┆ 2]        │\n",
      "│         ┆            ┆ 15:16:04  ┆ …         ┆   ┆           ┆           ┆ 0.051977, ┆           │\n",
      "│         ┆            ┆           ┆ 9789832]  ┆   ┆           ┆           ┆ … 0.0824] ┆           │\n",
      "│ 36744   ┆ 6451548    ┆ 2023-06-0 ┆ [9756287, ┆ … ┆ false     ┆ [0, 0, …  ┆ [0.053364 ┆ [3, 6, …  │\n",
      "│         ┆            ┆ 5         ┆ 9787185,  ┆   ┆           ┆ 0]        ┆ ,         ┆ 4]        │\n",
      "│         ┆            ┆ 15:17:38  ┆ …         ┆   ┆           ┆           ┆ 0.021224, ┆           │\n",
      "│         ┆            ┆           ┆ 9789832]  ┆   ┆           ┆           ┆ …         ┆           │\n",
      "│         ┆            ┆           ┆           ┆   ┆           ┆           ┆ 0.039971] ┆           │\n",
      "│ 36768   ┆ 6451559    ┆ 2023-06-0 ┆ [9789461, ┆ … ┆ false     ┆ [0, 0, …  ┆ [0.065264 ┆ [3, 6, …  │\n",
      "│         ┆            ┆ 5         ┆ 9789404,  ┆   ┆           ┆ 0]        ┆ ,         ┆ 2]        │\n",
      "│         ┆            ┆ 15:45:47  ┆ …         ┆   ┆           ┆           ┆ 0.016814, ┆           │\n",
      "│         ┆            ┆           ┆ 9789810]  ┆   ┆           ┆           ┆ …         ┆           │\n",
      "│         ┆            ┆           ┆           ┆   ┆           ┆           ┆ 0.074369] ┆           │\n",
      "│ 36819   ┆ 6451578    ┆ 2023-06-0 ┆ [9778943, ┆ … ┆ false     ┆ [0, 0, …  ┆ [0.050783 ┆ [9, 15, … │\n",
      "│         ┆            ┆ 5         ┆ 9780604,  ┆   ┆           ┆ 0]        ┆ ,         ┆ 8]        │\n",
      "│         ┆            ┆ 15:43:03  ┆ …         ┆   ┆           ┆           ┆ 0.018328, ┆           │\n",
      "│         ┆            ┆           ┆ 9789417]  ┆   ┆           ┆           ┆ …         ┆           │\n",
      "│         ┆            ┆           ┆           ┆   ┆           ┆           ┆ 0.056683] ┆           │\n",
      "└─────────┴────────────┴───────────┴───────────┴───┴───────────┴───────────┴───────────┴───────────┘\n"
     ]
    }
   ],
   "source": [
    "import polars as pl\n",
    "\n",
    "# Concatenate all DataFrame chunks into a single DataFrame\n",
    "df_pred_test_wo_beyond = pl.concat(df_pred_test_wo_beyond)\n",
    "\n",
    "# Now you can use the .select() method\n",
    "df_pred_test_wo_beyond.select(DEFAULT_IMPRESSION_ID_COL, \"scores\").write_parquet(\n",
    "    TEST_DF_DUMP.joinpath(\"pred_wo_ba.parquet\")\n",
    ")\n",
    "\n",
    "# View the head of the DataFrame\n",
    "print(df_pred_test_wo_beyond.head(30))\n"
   ]
  },
  {
   "cell_type": "code",
   "execution_count": null,
   "metadata": {},
   "outputs": [
    {
     "name": "stdout",
     "output_type": "stream",
     "text": [
      "<class 'list'>\n"
     ]
    }
   ],
   "source": [
    "print(type(df_pred_test_wo_beyond))\n"
   ]
  },
  {
   "cell_type": "code",
   "execution_count": null,
   "metadata": {},
   "outputs": [],
   "source": [
    "# from ebrec.utils._constants import (\n",
    "#     DEFAULT_HISTORY_ARTICLE_ID_COL,\n",
    "#     DEFAULT_IS_BEYOND_ACCURACY_COL,\n",
    "#     DEFAULT_CLICKED_ARTICLES_COL,\n",
    "#     DEFAULT_INVIEW_ARTICLES_COL,\n",
    "#     DEFAULT_IMPRESSION_ID_COL,\n",
    "#     DEFAULT_SUBTITLE_COL,\n",
    "#     DEFAULT_LABELS_COL,\n",
    "#     DEFAULT_TITLE_COL,\n",
    "#     DEFAULT_USER_COL,\n",
    "# )\n",
    "\n",
    "# # Prepare test data (without beyond-accuracy data)\n",
    "# # df_pred_test_wo_beyond = pl.concat(df_pred_test_wo_beyond)\n",
    "\n"
   ]
  },
  {
   "cell_type": "code",
   "execution_count": null,
   "metadata": {},
   "outputs": [],
   "source": [
    "# df_pred_test_wo_beyond.select(DEFAULT_IMPRESSION_ID_COL, \"ranked_scores\").write_parquet(\n",
    "#     TEST_DF_DUMP.joinpath(\"pred_wo_ba.parquet\")\n",
    "# )"
   ]
  },
  {
   "cell_type": "code",
   "execution_count": 35,
   "metadata": {},
   "outputs": [
    {
     "name": "stdout",
     "output_type": "stream",
     "text": [
      "Init test-dataloader: beyond-accuracy\n"
     ]
    }
   ],
   "source": [
    "print(\"Init test-dataloader: beyond-accuracy\")\n",
    "test_dataloader_w_b = NRMSDataLoader(\n",
    "    behaviors=df_test_w_beyond,\n",
    "    article_dict=article_mapping_test,\n",
    "    unknown_representation=\"zeros\",\n",
    "    history_column=DEFAULT_HISTORY_ARTICLE_ID_COL,\n",
    "    eval_mode=True,\n",
    "    batch_size=BATCH_SIZE_TEST_W_B,\n",
    ")"
   ]
  },
  {
   "cell_type": "code",
   "execution_count": 36,
   "metadata": {},
   "outputs": [
    {
     "name": "stdout",
     "output_type": "stream",
     "text": [
      "125/125 [==============================] - 43s 340ms/step\n"
     ]
    }
   ],
   "source": [
    "scores = model.scorer.predict(test_dataloader_w_b)\n",
    "df_pred_test_w_beyond = add_prediction_scores(\n",
    "    df_test_w_beyond, scores.tolist()\n",
    ").with_columns(\n",
    "    pl.col(\"scores\")\n",
    "    .map_elements(lambda x: list(rank_predictions_by_score(x)))\n",
    "    .alias(\"ranked_scores\")\n",
    ")\n",
    "df_pred_test_w_beyond.select(DEFAULT_IMPRESSION_ID_COL, \"ranked_scores\").write_parquet(\n",
    "    TEST_DF_DUMP.joinpath(\"pred_w_ba.parquet\")\n",
    ")"
   ]
  },
  {
   "cell_type": "code",
   "execution_count": 37,
   "metadata": {},
   "outputs": [
    {
     "name": "stdout",
     "output_type": "stream",
     "text": [
      "Schema of df_pred_test_wo_beyond:\n",
      "OrderedDict([('user_id', UInt32), ('impression_id', UInt32), ('impression_time', Datetime(time_unit='us', time_zone=None)), ('article_id_fixed', List(Int32)), ('article_ids_clicked', Int32), ('article_ids_inview', List(Int32)), ('is_beyond_accuracy', Boolean), ('labels', List(Int32)), ('scores', List(Float64)), ('ranked_scores', List(Int64))])\n",
      "Schema of df_pred_test_w_beyond:\n",
      "OrderedDict([('user_id', UInt32), ('impression_id', UInt32), ('impression_time', Datetime(time_unit='us', time_zone=None)), ('article_id_fixed', List(Int32)), ('article_ids_clicked', Int32), ('article_ids_inview', List(Int32)), ('is_beyond_accuracy', Boolean), ('labels', List(Int32)), ('scores', List(Float64)), ('ranked_scores', List(Int64))])\n"
     ]
    }
   ],
   "source": [
    "# Check the schemas of both DataFrames\n",
    "print(\"Schema of df_pred_test_wo_beyond:\")\n",
    "print(df_pred_test_wo_beyond.schema)\n",
    "\n",
    "print(\"Schema of df_pred_test_w_beyond:\")\n",
    "print(df_pred_test_w_beyond.schema)"
   ]
  },
  {
   "cell_type": "code",
   "execution_count": 38,
   "metadata": {},
   "outputs": [
    {
     "name": "stdout",
     "output_type": "stream",
     "text": [
      "Schema of df_pred_test_wo_beyond:\n",
      "OrderedDict([('user_id', UInt32), ('impression_id', UInt32), ('impression_time', Datetime(time_unit='us', time_zone=None)), ('article_id_fixed', List(Int32)), ('article_ids_clicked', Int32), ('article_ids_inview', List(Int32)), ('is_beyond_accuracy', Boolean), ('labels', List(Int32)), ('scores', List(Float64)), ('ranked_scores', List(Int64))])\n",
      "Schema of df_pred_test_w_beyond:\n",
      "OrderedDict([('user_id', UInt32), ('impression_id', UInt32), ('impression_time', Datetime(time_unit='us', time_zone=None)), ('article_id_fixed', List(Int32)), ('article_ids_clicked', Int32), ('article_ids_inview', List(Int32)), ('is_beyond_accuracy', Boolean), ('labels', List(Int32)), ('scores', List(Float64)), ('ranked_scores', List(Int64))])\n"
     ]
    }
   ],
   "source": [
    "# Check the schemas of both DataFrames\n",
    "print(\"Schema of df_pred_test_wo_beyond:\")\n",
    "print(df_pred_test_wo_beyond.schema)\n",
    "\n",
    "print(\"Schema of df_pred_test_w_beyond:\")\n",
    "print(df_pred_test_w_beyond.schema)\n",
    "\n",
    "# Align column types\n",
    "df_pred_test_wo_beyond = df_pred_test_wo_beyond.with_columns(\n",
    "    [pl.col(column).cast(df_pred_test_w_beyond.schema[column]) for column in df_pred_test_w_beyond.schema]\n",
    ")\n",
    "\n",
    "# Combine both DataFrames\n",
    "df_test = pl.concat([df_pred_test_wo_beyond, df_pred_test_w_beyond])\n",
    "\n",
    "# Write to Parquet\n",
    "df_test.select(DEFAULT_IMPRESSION_ID_COL, \"ranked_scores\").write_parquet(\n",
    "    TEST_DF_DUMP.joinpath(\"pred_concat.parquet\")\n",
    ")\n"
   ]
  },
  {
   "cell_type": "code",
   "execution_count": 39,
   "metadata": {},
   "outputs": [
    {
     "name": "stdout",
     "output_type": "stream",
     "text": [
      "<class 'polars.dataframe.frame.DataFrame'>\n",
      "<class 'polars.dataframe.frame.DataFrame'>\n"
     ]
    }
   ],
   "source": [
    "print(type(df_pred_test_wo_beyond))\n",
    "print(type(df_pred_test_w_beyond))\n"
   ]
  },
  {
   "cell_type": "code",
   "execution_count": 40,
   "metadata": {},
   "outputs": [
    {
     "data": {
      "text/plain": [
       "<bound method DataFrame.head of shape: (1_000, 10)\n",
       "┌─────────┬────────────┬───────────┬───────────┬───┬───────────┬───────────┬───────────┬───────────┐\n",
       "│ user_id ┆ impression ┆ impressio ┆ article_i ┆ … ┆ is_beyond ┆ labels    ┆ scores    ┆ ranked_sc │\n",
       "│ ---     ┆ _id        ┆ n_time    ┆ d_fixed   ┆   ┆ _accuracy ┆ ---       ┆ ---       ┆ ores      │\n",
       "│ u32     ┆ ---        ┆ ---       ┆ ---       ┆   ┆ ---       ┆ list[i32] ┆ list[f64] ┆ ---       │\n",
       "│         ┆ u32        ┆ datetime[ ┆ list[i32] ┆   ┆ bool      ┆           ┆           ┆ list[i64] │\n",
       "│         ┆            ┆ μs]       ┆           ┆   ┆           ┆           ┆           ┆           │\n",
       "╞═════════╪════════════╪═══════════╪═══════════╪═══╪═══════════╪═══════════╪═══════════╪═══════════╡\n",
       "│ 35982   ┆ 6451339    ┆ 2023-06-0 ┆ [9786268, ┆ … ┆ false     ┆ [0, 0, …  ┆ [0.01932, ┆ [8, 2, …  │\n",
       "│         ┆            ┆ 5         ┆ 9782806,  ┆   ┆           ┆ 0]        ┆ 0.132936, ┆ 7]        │\n",
       "│         ┆            ┆ 15:02:49  ┆ …         ┆   ┆           ┆           ┆ …         ┆           │\n",
       "│         ┆            ┆           ┆ 9789494]  ┆   ┆           ┆           ┆ 0.027194] ┆           │\n",
       "│ 36012   ┆ 6451363    ┆ 2023-06-0 ┆ [9788323, ┆ … ┆ false     ┆ [0, 0, …  ┆ [0.049806 ┆ [6, 2, …  │\n",
       "│         ┆            ┆ 5         ┆ 9788362,  ┆   ┆           ┆ 0]        ┆ ,         ┆ 3]        │\n",
       "│         ┆            ┆ 15:03:56  ┆ …         ┆   ┆           ┆           ┆ 0.15429,  ┆           │\n",
       "│         ┆            ┆           ┆ 9790885]  ┆   ┆           ┆           ┆ …         ┆           │\n",
       "│         ┆            ┆           ┆           ┆   ┆           ┆           ┆ 0.147735] ┆           │\n",
       "│ 36162   ┆ 6451382    ┆ 2023-06-0 ┆ [9788524, ┆ … ┆ false     ┆ [0, 0, …  ┆ [0.036762 ┆ [5, 4, …  │\n",
       "│         ┆            ┆ 5         ┆ 9788106,  ┆   ┆           ┆ 0]        ┆ ,         ┆ 3]        │\n",
       "│         ┆            ┆ 15:25:53  ┆ …         ┆   ┆           ┆           ┆ 0.04355,  ┆           │\n",
       "│         ┆            ┆           ┆ 9790700]  ┆   ┆           ┆           ┆ …         ┆           │\n",
       "│         ┆            ┆           ┆           ┆   ┆           ┆           ┆ 0.047237] ┆           │\n",
       "│ 36162   ┆ 6451383    ┆ 2023-06-0 ┆ [9788524, ┆ … ┆ false     ┆ [0, 0, …  ┆ [0.017575 ┆ [11, 7, … │\n",
       "│         ┆            ┆ 5         ┆ 9788106,  ┆   ┆           ┆ 0]        ┆ ,         ┆ 6]        │\n",
       "│         ┆            ┆ 15:26:35  ┆ …         ┆   ┆           ┆           ┆ 0.045059, ┆           │\n",
       "│         ┆            ┆           ┆ 9790700]  ┆   ┆           ┆           ┆ …         ┆           │\n",
       "│         ┆            ┆           ┆           ┆   ┆           ┆           ┆ 0.047913] ┆           │\n",
       "│ 36162   ┆ 6451385    ┆ 2023-06-0 ┆ [9788524, ┆ … ┆ false     ┆ [0, 0, …  ┆ [0.153397 ┆ [2, 1, …  │\n",
       "│         ┆            ┆ 5         ┆ 9788106,  ┆   ┆           ┆ 0]        ┆ ,         ┆ 7]        │\n",
       "│         ┆            ┆ 15:26:14  ┆ …         ┆   ┆           ┆           ┆ 0.158653, ┆           │\n",
       "│         ┆            ┆           ┆ 9790700]  ┆   ┆           ┆           ┆ …         ┆           │\n",
       "│         ┆            ┆           ┆           ┆   ┆           ┆           ┆ 0.028739] ┆           │\n",
       "│ …       ┆ …          ┆ …         ┆ …         ┆ … ┆ …         ┆ …         ┆ …         ┆ …         │\n",
       "│ 160299  ┆ 6460236    ┆ 2023-06-0 ┆ [9770792, ┆ … ┆ true      ┆ [0, 0, …  ┆ [0.327109 ┆ [3, 28, … │\n",
       "│         ┆            ┆ 6         ┆ 9779541,  ┆   ┆           ┆ 0]        ┆ ,         ┆ 14]       │\n",
       "│         ┆            ┆ 23:34:11  ┆ …         ┆   ┆           ┆           ┆ 0.044095, ┆           │\n",
       "│         ┆            ┆           ┆ 9786176]  ┆   ┆           ┆           ┆ …         ┆           │\n",
       "│         ┆            ┆           ┆           ┆   ┆           ┆           ┆ 0.088586] ┆           │\n",
       "│ 160486  ┆ 6460241    ┆ 2023-06-0 ┆ [9785019, ┆ … ┆ true      ┆ [0, 0, …  ┆ [0.050643 ┆ [20, 19,  │\n",
       "│         ┆            ┆ 6         ┆ 9783057,  ┆   ┆           ┆ 0]        ┆ ,         ┆ … 28]     │\n",
       "│         ┆            ┆ 23:04:57  ┆ …         ┆   ┆           ┆           ┆ 0.06021,  ┆           │\n",
       "│         ┆            ┆           ┆ 9790713]  ┆   ┆           ┆           ┆ …         ┆           │\n",
       "│         ┆            ┆           ┆           ┆   ┆           ┆           ┆ 0.03359]  ┆           │\n",
       "│ 160969  ┆ 6460253    ┆ 2023-06-0 ┆ [9789676, ┆ … ┆ true      ┆ [0, 0, …  ┆ [0.081573 ┆ [2, 4, …  │\n",
       "│         ┆            ┆ 6         ┆ 9788576,  ┆   ┆           ┆ 0]        ┆ ,         ┆ 1]        │\n",
       "│         ┆            ┆ 23:26:47  ┆ …         ┆   ┆           ┆           ┆ 0.040792, ┆           │\n",
       "│         ┆            ┆           ┆ 9789674]  ┆   ┆           ┆           ┆ …         ┆           │\n",
       "│         ┆            ┆           ┆           ┆   ┆           ┆           ┆ 0.091579] ┆           │\n",
       "│ 161198  ┆ 6460259    ┆ 2023-06-0 ┆ [9780295, ┆ … ┆ true      ┆ [0, 0, …  ┆ [0.081151 ┆ [1, 4, …  │\n",
       "│         ┆            ┆ 6         ┆ 9767342,  ┆   ┆           ┆ 0]        ┆ ,         ┆ 5]        │\n",
       "│         ┆            ┆ 23:02:35  ┆ …         ┆   ┆           ┆           ┆ 0.027206, ┆           │\n",
       "│         ┆            ┆           ┆ 9790942]  ┆   ┆           ┆           ┆ …         ┆           │\n",
       "│         ┆            ┆           ┆           ┆   ┆           ┆           ┆ 0.016511] ┆           │\n",
       "│ 161774  ┆ 6460276    ┆ 2023-06-0 ┆ [9776560, ┆ … ┆ true      ┆ [0, 0, …  ┆ [0.036688 ┆ [30, 31,  │\n",
       "│         ┆            ┆ 6         ┆ 9776544,  ┆   ┆           ┆ 0]        ┆ ,         ┆ … 13]     │\n",
       "│         ┆            ┆ 23:42:42  ┆ …         ┆   ┆           ┆           ┆ 0.029648, ┆           │\n",
       "│         ┆            ┆           ┆ 9789911]  ┆   ┆           ┆           ┆ …         ┆           │\n",
       "│         ┆            ┆           ┆           ┆   ┆           ┆           ┆ 0.088033] ┆           │\n",
       "└─────────┴────────────┴───────────┴───────────┴───┴───────────┴───────────┴───────────┴───────────┘>"
      ]
     },
     "execution_count": 40,
     "metadata": {},
     "output_type": "execute_result"
    }
   ],
   "source": [
    "df_test.head"
   ]
  },
  {
   "cell_type": "code",
   "execution_count": 41,
   "metadata": {},
   "outputs": [
    {
     "name": "stdout",
     "output_type": "stream",
     "text": [
      "shape: (1_000, 2)\n",
      "┌────────────────┬─────────────┐\n",
      "│ ranked_scores  ┆ labels      │\n",
      "│ ---            ┆ ---         │\n",
      "│ list[i64]      ┆ list[i64]   │\n",
      "╞════════════════╪═════════════╡\n",
      "│ [8, 2, … 7]    ┆ [0, 0, … 0] │\n",
      "│ [6, 2, … 3]    ┆ [0, 0, … 0] │\n",
      "│ [5, 4, … 3]    ┆ [0, 0, … 0] │\n",
      "│ [11, 7, … 6]   ┆ [0, 0, … 0] │\n",
      "│ [2, 1, … 7]    ┆ [0, 1, … 0] │\n",
      "│ …              ┆ …           │\n",
      "│ [3, 28, … 14]  ┆ [0, 0, … 0] │\n",
      "│ [20, 19, … 28] ┆ [0, 0, … 0] │\n",
      "│ [2, 4, … 1]    ┆ [0, 0, … 1] │\n",
      "│ [1, 4, … 5]    ┆ [1, 0, … 0] │\n",
      "│ [30, 31, … 13] ┆ [0, 0, … 0] │\n",
      "└────────────────┴─────────────┘\n"
     ]
    },
    {
     "name": "stderr",
     "output_type": "stream",
     "text": [
      "C:\\Users\\antot\\AppData\\Local\\Temp\\ipykernel_18860\\247236528.py:7: DeprecationWarning: `apply` is deprecated. It has been renamed to `map_elements`.\n",
      "  .apply(lambda row: [1 if rank == 1 else 0 for rank in row[\"ranked_scores\"]]\n"
     ]
    }
   ],
   "source": [
    "import polars as pl\n",
    "import numpy as np\n",
    "\n",
    "# Update the 'labels' column to match the length of 'ranked_scores' and assign 1 to the highest rank\n",
    "df_test = df_test.with_columns(\n",
    "    pl.struct([\"ranked_scores\", \"scores\"])\n",
    "    .apply(lambda row: [1 if rank == 1 else 0 for rank in row[\"ranked_scores\"]]\n",
    "           if len(row[\"ranked_scores\"]) == len(row[\"scores\"]) else None)\n",
    "    .alias(\"labels\")\n",
    ")\n",
    "\n",
    "# Check for rows where labels are None (mismatched lengths)\n",
    "invalid_rows = df_test.filter(pl.col(\"labels\").is_null())\n",
    "\n",
    "if invalid_rows.height > 0:\n",
    "    print(\"Found rows with mismatched 'ranked_scores' and 'scores':\")\n",
    "    print(invalid_rows)\n",
    "\n",
    "# Verify the updated 'labels' column\n",
    "print(df_test.select([\"ranked_scores\", \"labels\"]))\n"
   ]
  },
  {
   "cell_type": "code",
   "execution_count": 60,
   "metadata": {},
   "outputs": [
    {
     "data": {
      "text/html": [
       "<div><style>\n",
       ".dataframe > thead > tr,\n",
       ".dataframe > tbody > tr {\n",
       "  text-align: right;\n",
       "  white-space: pre-wrap;\n",
       "}\n",
       "</style>\n",
       "<small>shape: (5, 10)</small><table border=\"1\" class=\"dataframe\"><thead><tr><th>user_id</th><th>impression_id</th><th>impression_time</th><th>article_id_fixed</th><th>article_ids_clicked</th><th>article_ids_inview</th><th>is_beyond_accuracy</th><th>labels</th><th>scores</th><th>ranked_scores</th></tr><tr><td>u32</td><td>u32</td><td>datetime[μs]</td><td>list[i32]</td><td>i32</td><td>list[i32]</td><td>bool</td><td>list[i64]</td><td>list[f64]</td><td>list[i64]</td></tr></thead><tbody><tr><td>35982</td><td>6451339</td><td>2023-06-05 15:02:49</td><td>[9786268, 9782806, … 9789494]</td><td>9796527</td><td>[9796527, 7851321, … 9492777]</td><td>false</td><td>[0, 0, … 0]</td><td>[0.630941, 0.950646, … 0.008185]</td><td>[3, 2, … 9]</td></tr><tr><td>36012</td><td>6451363</td><td>2023-06-05 15:03:56</td><td>[9788323, 9788362, … 9790885]</td><td>9798532</td><td>[9798532, 9791602, … 9798958]</td><td>false</td><td>[0, 0, … 0]</td><td>[0.104358, 0.001216, … 0.179523]</td><td>[4, 7, … 3]</td></tr><tr><td>36162</td><td>6451382</td><td>2023-06-05 15:25:53</td><td>[9788524, 9788106, … 9790700]</td><td>9798498</td><td>[9798498, 9793856, … 9798724]</td><td>false</td><td>[0, 0, … 0]</td><td>[0.097785, 0.000392, … 0.015833]</td><td>[2, 5, … 3]</td></tr><tr><td>36162</td><td>6451383</td><td>2023-06-05 15:26:35</td><td>[9788524, 9788106, … 9790700]</td><td>9797419</td><td>[9797419, 9798829, … 9798805]</td><td>false</td><td>[0, 0, … 0]</td><td>[0.024571, 0.001634, … 0.580246]</td><td>[9, 11, … 3]</td></tr><tr><td>36162</td><td>6451385</td><td>2023-06-05 15:26:14</td><td>[9788524, 9788106, … 9790700]</td><td>9785014</td><td>[9785014, 9798958, … 9486080]</td><td>false</td><td>[0, 0, … 1]</td><td>[0.918962, 0.120063, … 0.9671]</td><td>[2, 6, … 1]</td></tr></tbody></table></div>"
      ],
      "text/plain": [
       "shape: (5, 10)\n",
       "┌─────────┬────────────┬───────────┬───────────┬───┬───────────┬───────────┬───────────┬───────────┐\n",
       "│ user_id ┆ impression ┆ impressio ┆ article_i ┆ … ┆ is_beyond ┆ labels    ┆ scores    ┆ ranked_sc │\n",
       "│ ---     ┆ _id        ┆ n_time    ┆ d_fixed   ┆   ┆ _accuracy ┆ ---       ┆ ---       ┆ ores      │\n",
       "│ u32     ┆ ---        ┆ ---       ┆ ---       ┆   ┆ ---       ┆ list[i64] ┆ list[f64] ┆ ---       │\n",
       "│         ┆ u32        ┆ datetime[ ┆ list[i32] ┆   ┆ bool      ┆           ┆           ┆ list[i64] │\n",
       "│         ┆            ┆ μs]       ┆           ┆   ┆           ┆           ┆           ┆           │\n",
       "╞═════════╪════════════╪═══════════╪═══════════╪═══╪═══════════╪═══════════╪═══════════╪═══════════╡\n",
       "│ 35982   ┆ 6451339    ┆ 2023-06-0 ┆ [9786268, ┆ … ┆ false     ┆ [0, 0, …  ┆ [0.630941 ┆ [3, 2, …  │\n",
       "│         ┆            ┆ 5         ┆ 9782806,  ┆   ┆           ┆ 0]        ┆ ,         ┆ 9]        │\n",
       "│         ┆            ┆ 15:02:49  ┆ …         ┆   ┆           ┆           ┆ 0.950646, ┆           │\n",
       "│         ┆            ┆           ┆ 9789494]  ┆   ┆           ┆           ┆ …         ┆           │\n",
       "│         ┆            ┆           ┆           ┆   ┆           ┆           ┆ 0.008185] ┆           │\n",
       "│ 36012   ┆ 6451363    ┆ 2023-06-0 ┆ [9788323, ┆ … ┆ false     ┆ [0, 0, …  ┆ [0.104358 ┆ [4, 7, …  │\n",
       "│         ┆            ┆ 5         ┆ 9788362,  ┆   ┆           ┆ 0]        ┆ ,         ┆ 3]        │\n",
       "│         ┆            ┆ 15:03:56  ┆ …         ┆   ┆           ┆           ┆ 0.001216, ┆           │\n",
       "│         ┆            ┆           ┆ 9790885]  ┆   ┆           ┆           ┆ …         ┆           │\n",
       "│         ┆            ┆           ┆           ┆   ┆           ┆           ┆ 0.179523] ┆           │\n",
       "│ 36162   ┆ 6451382    ┆ 2023-06-0 ┆ [9788524, ┆ … ┆ false     ┆ [0, 0, …  ┆ [0.097785 ┆ [2, 5, …  │\n",
       "│         ┆            ┆ 5         ┆ 9788106,  ┆   ┆           ┆ 0]        ┆ ,         ┆ 3]        │\n",
       "│         ┆            ┆ 15:25:53  ┆ …         ┆   ┆           ┆           ┆ 0.000392, ┆           │\n",
       "│         ┆            ┆           ┆ 9790700]  ┆   ┆           ┆           ┆ …         ┆           │\n",
       "│         ┆            ┆           ┆           ┆   ┆           ┆           ┆ 0.015833] ┆           │\n",
       "│ 36162   ┆ 6451383    ┆ 2023-06-0 ┆ [9788524, ┆ … ┆ false     ┆ [0, 0, …  ┆ [0.024571 ┆ [9, 11, … │\n",
       "│         ┆            ┆ 5         ┆ 9788106,  ┆   ┆           ┆ 0]        ┆ ,         ┆ 3]        │\n",
       "│         ┆            ┆ 15:26:35  ┆ …         ┆   ┆           ┆           ┆ 0.001634, ┆           │\n",
       "│         ┆            ┆           ┆ 9790700]  ┆   ┆           ┆           ┆ …         ┆           │\n",
       "│         ┆            ┆           ┆           ┆   ┆           ┆           ┆ 0.580246] ┆           │\n",
       "│ 36162   ┆ 6451385    ┆ 2023-06-0 ┆ [9788524, ┆ … ┆ false     ┆ [0, 0, …  ┆ [0.918962 ┆ [2, 6, …  │\n",
       "│         ┆            ┆ 5         ┆ 9788106,  ┆   ┆           ┆ 1]        ┆ ,         ┆ 1]        │\n",
       "│         ┆            ┆ 15:26:14  ┆ …         ┆   ┆           ┆           ┆ 0.120063, ┆           │\n",
       "│         ┆            ┆           ┆ 9790700]  ┆   ┆           ┆           ┆ … 0.9671] ┆           │\n",
       "└─────────┴────────────┴───────────┴───────────┴───┴───────────┴───────────┴───────────┴───────────┘"
      ]
     },
     "execution_count": 60,
     "metadata": {},
     "output_type": "execute_result"
    }
   ],
   "source": [
    "df_test.head()"
   ]
  },
  {
   "cell_type": "markdown",
   "metadata": {},
   "source": [
    "-----------------------------------------------------------------------------"
   ]
  },
  {
   "cell_type": "markdown",
   "metadata": {},
   "source": [
    "This is using the validation, simply add the testset to your flow."
   ]
  },
  {
   "cell_type": "code",
   "execution_count": null,
   "metadata": {},
   "outputs": [
    {
     "name": "stderr",
     "output_type": "stream",
     "text": [
      "0it [00:00, ?it/s]"
     ]
    },
    {
     "name": "stderr",
     "output_type": "stream",
     "text": [
      "2446it [00:00, 27609.70it/s]"
     ]
    },
    {
     "name": "stdout",
     "output_type": "stream",
     "text": [
      "Zipping ebnerd_predictions/predictions.txt to ebnerd_predictions/ebnerd_small_predictions-NRMSModel.zip\n"
     ]
    },
    {
     "name": "stderr",
     "output_type": "stream",
     "text": [
      "\n"
     ]
    }
   ],
   "source": [
    "DATASPLIT = \"ebnerd_large_test\"\n",
    "\n",
    "write_submission_file(\n",
    "    impression_ids=df_test[DEFAULT_IMPRESSION_ID_COL],\n",
    "    prediction_scores=df_test[\"ranked_scores\"],\n",
    "    path=DUMP_DIR.joinpath(\"predictions.txt\"),\n",
    "    filename_zip=f\"{DATASPLIT}_predictions-{MODEL_NAME}.zip\",\n",
    ")"
   ]
  }
 ],
 "metadata": {
  "kernelspec": {
   "display_name": "Python 3",
   "language": "python",
   "name": "python3"
  },
  "language_info": {
   "codemirror_mode": {
    "name": "ipython",
    "version": 3
   },
   "file_extension": ".py",
   "mimetype": "text/x-python",
   "name": "python",
   "nbconvert_exporter": "python",
   "pygments_lexer": "ipython3",
   "version": "3.11.5"
  }
 },
 "nbformat": 4,
 "nbformat_minor": 2
}
