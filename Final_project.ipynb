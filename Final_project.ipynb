{
 "cells": [
  {
   "cell_type": "markdown",
   "metadata": {},
   "source": [
    "Th EB-NeRD is designed to support research in news recommendation systems by offering a rich dataset with detailed user behavior logs and article content from Ekstra Bladet, a danish newspaper. \n",
    "\n",
    "### Dataset Overview:\n",
    "    - Users: Data is derived from over 1 million unique users, with more than 37 million impression logs and over 252 million interactions. \n",
    "    - Articles: Over 125000 new articles with detailed features such as titles, abstracts, bodies , and erriched with additional content features. \n",
    "    - Textual Features: Supports text features in Danish, aiding recommendation systems for low resource languages. \n",
    "\n",
    "### Data Collection Period:\n",
    "    - Timeframe: Six weeks from April 27 to June 8, 2023.\n",
    "    - User criteria: Active users with 5 to 1000 news click records within a three week span to balance engagement levels \n",
    "    - Textual features: Supports text features in Danish, aiding recommendation systems for lowresource languages. \n",
    "### Dataset Contents: \n",
    "Each bundle (demo, small, and large) contains a training set and validation set, with the following files:\n",
    "    - behaviors.parquet: Contains 7-day impression logs for the dataset split period.\n",
    "    - history.parquet: Contains 21 days of users' clicked news articles prior to the behavior logs.\n",
    "    - articles.parquet: Provides metadata on news articles, including title, abstract, body, and categories.\n",
    "    - artifacts.parquet: Contains article embeddings and image embeddings, facilitating deeper content understanding.\n",
    "\n",
    "This dataset structure enables comprehensive training for models on user behavior, historical preferences, and content features, helping advance personalization techniques in news recommendation research.\n",
    "\n",
    "\n",
    "### Impression logs\n",
    "Impression logs in a news recommendation dataset capture "
   ]
  }
 ],
 "metadata": {
  "language_info": {
   "name": "python"
  }
 },
 "nbformat": 4,
 "nbformat_minor": 2
}
