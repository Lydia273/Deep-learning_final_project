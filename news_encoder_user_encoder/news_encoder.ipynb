{
 "cells": [
  {
   "cell_type": "markdown",
   "metadata": {},
   "source": [
    "Step 1: Preprocess the Text Data (Title Column)\n",
    "\n",
    "Tokenization: Split each article title into individual words.\n",
    "Vocabulary Creation: Create a vocabulary from all unique words in the titles and assign each word a unique ID.\n",
    "Padding: Ensure each title has the same length by padding shorter titles or truncating longer ones."
   ]
  },
  {
   "cell_type": "code",
   "execution_count": 1,
   "metadata": {},
   "outputs": [],
   "source": [
    "import pandas as pd\n",
    "import sentencepiece as spm\n",
    "from sklearn.model_selection import train_test_split\n",
    "import numpy as np\n",
    "import torch"
   ]
  },
  {
   "cell_type": "markdown",
   "metadata": {},
   "source": [
    "Preparing the GloVe embeddings and tokenizer "
   ]
  },
  {
   "cell_type": "code",
   "execution_count": 4,
   "metadata": {},
   "outputs": [],
   "source": [
    "import zipfile\n",
    "from huggingface_hub import hf_hub_download\n",
    "from pathlib import Path\n",
    "from tqdm import tqdm\n",
    "from typing import Tuple, List\n",
    "import torch\n",
    "import tokenizers\n",
    "import rich\n",
    "\n",
    "# Load GloVe embeddings\n",
    "def load_glove_vectors(filename=\"glove.6B.300d.txt\") -> Tuple[List[str], torch.Tensor]:\n",
    "    \"\"\"\n",
    "    Load the GloVe vectors and parse vocabulary and vectors.\n",
    "\n",
    "    Args:\n",
    "        filename (str): Name of the GloVe file to load.\n",
    "\n",
    "    Returns:\n",
    "        vocabulary (List[str]): List of words in the GloVe vocabulary.\n",
    "        vectors (torch.Tensor): Tensor of embedding vectors.\n",
    "    \"\"\"\n",
    "    # Download GloVe file from Hugging Face hub\n",
    "    path = Path(hf_hub_download(repo_id=\"stanfordnlp/glove\", filename=\"glove.6B.zip\"))\n",
    "    target_file = path.parent / filename\n",
    "\n",
    "    # Extract GloVe file if not already extracted\n",
    "    if not target_file.exists():\n",
    "        with zipfile.ZipFile(path, \"r\") as zip_ref:\n",
    "            zip_ref.extractall(path.parent)\n",
    "\n",
    "        # Ensure target file exists after extraction\n",
    "        if not target_file.exists():\n",
    "            print(\"Available files:\")\n",
    "            for p in path.parent.iterdir():\n",
    "                print(p)\n",
    "            raise ValueError(\n",
    "                f\"Target file `{target_file.name}` can't be found. Check if `{filename}` was properly downloaded.\"\n",
    "            )\n",
    "\n",
    "    # Parse vocabulary and vectors\n",
    "    vocabulary = []\n",
    "    vectors = []\n",
    "    with open(target_file, \"r\", encoding=\"utf8\") as f:\n",
    "        for line in tqdm(f.readlines(), desc=f\"Parsing {target_file.name}...\"):\n",
    "            word, *vector = line.split()\n",
    "            vocabulary.append(word)\n",
    "            vectors.append(torch.tensor([float(v) for v in vector], dtype=torch.float32))\n",
    "    vectors = torch.stack(vectors)\n",
    "    return vocabulary, vectors\n",
    "\n"
   ]
  },
  {
   "cell_type": "code",
   "execution_count": null,
   "metadata": {},
   "outputs": [
    {
     "name": "stderr",
     "output_type": "stream",
     "text": [
      "Parsing glove.6B.300d.txt...: 100%|██████████| 400001/400001 [00:42<00:00, 9495.53it/s]\n"
     ]
    },
    {
     "data": {
      "text/html": [
       "<pre style=\"white-space:pre;overflow-x:auto;line-height:normal;font-family:Menlo,'DejaVu Sans Mono',consolas,'Courier New',monospace\">glove_vocabulary: <span style=\"color: #808000; text-decoration-color: #808000\">type</span>=<span style=\"font-weight: bold\">&lt;</span><span style=\"color: #ff00ff; text-decoration-color: #ff00ff; font-weight: bold\">class</span><span style=\"color: #000000; text-decoration-color: #000000\"> </span><span style=\"color: #008000; text-decoration-color: #008000\">'list'</span><span style=\"font-weight: bold\">&gt;</span>, <span style=\"color: #808000; text-decoration-color: #808000\">length</span>=<span style=\"color: #008080; text-decoration-color: #008080; font-weight: bold\">400001</span>\n",
       "</pre>\n"
      ],
      "text/plain": [
       "glove_vocabulary: \u001b[33mtype\u001b[0m=\u001b[1m<\u001b[0m\u001b[1;95mclass\u001b[0m\u001b[39m \u001b[0m\u001b[32m'list'\u001b[0m\u001b[1m>\u001b[0m, \u001b[33mlength\u001b[0m=\u001b[1;36m400001\u001b[0m\n"
      ]
     },
     "metadata": {},
     "output_type": "display_data"
    },
    {
     "data": {
      "text/html": [
       "<pre style=\"white-space:pre;overflow-x:auto;line-height:normal;font-family:Menlo,'DejaVu Sans Mono',consolas,'Courier New',monospace\">glove_vectors: <span style=\"color: #808000; text-decoration-color: #808000\">type</span>=<span style=\"font-weight: bold\">&lt;</span><span style=\"color: #ff00ff; text-decoration-color: #ff00ff; font-weight: bold\">class</span><span style=\"color: #000000; text-decoration-color: #000000\"> </span><span style=\"color: #008000; text-decoration-color: #008000\">'torch.Tensor'</span><span style=\"font-weight: bold\">&gt;</span>, <span style=\"color: #808000; text-decoration-color: #808000\">shape</span>=<span style=\"color: #800080; text-decoration-color: #800080; font-weight: bold\">torch</span><span style=\"color: #800080; text-decoration-color: #800080; font-weight: bold\">.Size</span><span style=\"font-weight: bold\">([</span><span style=\"color: #008080; text-decoration-color: #008080; font-weight: bold\">400001</span>, <span style=\"color: #008080; text-decoration-color: #008080; font-weight: bold\">300</span><span style=\"font-weight: bold\">])</span>, <span style=\"color: #808000; text-decoration-color: #808000\">dtype</span>=<span style=\"color: #800080; text-decoration-color: #800080\">torch</span>.float32\n",
       "</pre>\n"
      ],
      "text/plain": [
       "glove_vectors: \u001b[33mtype\u001b[0m=\u001b[1m<\u001b[0m\u001b[1;95mclass\u001b[0m\u001b[39m \u001b[0m\u001b[32m'torch.Tensor'\u001b[0m\u001b[1m>\u001b[0m, \u001b[33mshape\u001b[0m=\u001b[1;35mtorch\u001b[0m\u001b[1;35m.Size\u001b[0m\u001b[1m(\u001b[0m\u001b[1m[\u001b[0m\u001b[1;36m400001\u001b[0m, \u001b[1;36m300\u001b[0m\u001b[1m]\u001b[0m\u001b[1m)\u001b[0m, \u001b[33mdtype\u001b[0m=\u001b[35mtorch\u001b[0m.float32\n"
      ]
     },
     "metadata": {},
     "output_type": "display_data"
    }
   ],
   "source": [
    "# Prepare data\n",
    "glove_vocabulary, glove_vectors = load_glove_vectors() #glove voc is a list of words from the glove embeddings , glove vec is a tensor where each row represents the embedding of a word in glove voc \n",
    "rich.print(f\"glove_vocabulary: type={type(glove_vocabulary)}, length={len(glove_vocabulary)}\")\n",
    "rich.print(f\"glove_vectors: type={type(glove_vectors)}, shape={glove_vectors.shape}, dtype={glove_vectors.dtype}\")\n",
    "\n",
    "# Add special tokens\n",
    "special_tokens = ['<|start|>', '<|unknown|>', '<|pad|>']  # add special toeksn , useful for seq processing\n",
    "glove_vocabulary = special_tokens + glove_vocabulary # creates random embeddings for these tokens with the same dim as other glove embeddings\n",
    "glove_vectors = torch.cat([torch.randn(len(special_tokens), glove_vectors.shape[1]), glove_vectors]) # concatenates these new embeddings to the glove vectors\n",
    "\n",
    "# Tokenizer for GloVe\n",
    "glove_tokenizer = tokenizers.Tokenizer( # A WordLevel tokenizer maps each word in the vocabulary to a unique integer (token ID).\n",
    "    tokenizers.models.WordLevel(vocab={v: i for i, v in enumerate(glove_vocabulary)}, unk_token=\"<|unknown|>\") # The tokenizer uses <|unknown|> as a fallback for words not found in the vocabulary.\n",
    ")\n",
    "glove_tokenizer.normalizer = tokenizers.normalizers.BertNormalizer(strip_accents=False)\n",
    "glove_tokenizer.pre_tokenizer = tokenizers.pre_tokenizers.Whitespace()"
   ]
  },
  {
   "cell_type": "code",
   "execution_count": 10,
   "metadata": {},
   "outputs": [],
   "source": [
    "import pandas as pd\n",
    "import torch\n",
    "from sklearn.model_selection import train_test_split\n",
    "\n",
    "# Step 1: Load train and validation datasets\n",
    "dataset_train_parquet = \"/dtu/blackhole/1e/203774/output for training data /small output read file/final_df_new.parquet\"\n",
    "df_train = pd.read_parquet(dataset_train_parquet, engine=\"pyarrow\")\n",
    "\n",
    "dataset_validation_parquet = \"/dtu/blackhole/1e/203774/output for validation data /small output read final/final_df_new.parquet\"\n",
    "df_validation = pd.read_parquet(dataset_validation_parquet, engine=\"pyarrow\")\n",
    "\n",
    "# Combine train and validation titles into a single process for tokenization and padding\n",
    "all_titles = pd.concat(\n",
    "    [df_train[\"title\"].fillna(\"\"), df_validation[\"title\"].fillna(\"\")], ignore_index=True\n",
    ").tolist()"
   ]
  },
  {
   "cell_type": "markdown",
   "metadata": {},
   "source": [
    "# News Encoder"
   ]
  },
  {
   "cell_type": "code",
   "execution_count": 23,
   "metadata": {},
   "outputs": [],
   "source": [
    "import torch\n",
    "import torch.nn as nn\n",
    "import torch.nn.functional as F\n",
    "\n",
    "# Word Embedding Layer\n",
    "class WordEmbeddings(nn.Module):\n",
    "    def __init__(self, embedding_matrix):\n",
    "        super(WordEmbeddings, self).__init__()\n",
    "        self.embedding = nn.Embedding.from_pretrained(\n",
    "            embeddings=torch.tensor(embedding_matrix, dtype=torch.float32),\n",
    "            freeze=True  # Set to False to fine-tune embeddings\n",
    "        )\n",
    "\n",
    "    def forward(self, inputs):\n",
    "        embeddings = self.embedding(inputs)\n",
    "        return embeddings\n",
    "\n",
    "\n",
    "# Multi-Head Self-Attention Layer (Vectorized)\n",
    "class MultiHeadSelfAttention(nn.Module):\n",
    "    def __init__(self, embed_dim, num_heads):\n",
    "        super(MultiHeadSelfAttention, self).__init__()\n",
    "        assert embed_dim % num_heads == 0, \"embed_dim must be divisible by num_heads\"\n",
    "\n",
    "        self.num_heads = num_heads\n",
    "        self.head_dim = embed_dim // num_heads\n",
    "\n",
    "        # Linear projections for Q, K, and V\n",
    "        self.query_projection = nn.Linear(embed_dim, embed_dim)\n",
    "        self.key_projection = nn.Linear(embed_dim, embed_dim)\n",
    "        self.value_projection = nn.Linear(embed_dim, embed_dim)\n",
    "\n",
    "        # Output projection\n",
    "        self.out_projection = nn.Linear(embed_dim, embed_dim)\n",
    "\n",
    "    def forward(self, inputs):\n",
    "        \"\"\"\n",
    "        Args:\n",
    "            inputs (torch.Tensor): Input tensor of shape (batch_size, seq_len, embed_dim)\n",
    "\n",
    "        Returns:\n",
    "            output (torch.Tensor): Output tensor of shape (batch_size, seq_len, embed_dim)\n",
    "            attention_weights (torch.Tensor): Attention weights of shape (batch_size, num_heads, seq_len, seq_len)\n",
    "        \"\"\"\n",
    "        batch_size, seq_len, embed_dim = inputs.size()\n",
    "\n",
    "        # Project inputs to queries, keys, and values\n",
    "        Q = self.query_projection(inputs)  # (batch_size, seq_len, embed_dim)\n",
    "        K = self.key_projection(inputs)  # (batch_size, seq_len, embed_dim)\n",
    "        V = self.value_projection(inputs)  # (batch_size, seq_len, embed_dim)\n",
    "\n",
    "        # Reshape to separate heads\n",
    "        Q = Q.view(batch_size, seq_len, self.num_heads, self.head_dim).transpose(1, 2)  # (batch_size, num_heads, seq_len, head_dim)\n",
    "        K = K.view(batch_size, seq_len, self.num_heads, self.head_dim).transpose(1, 2)  # (batch_size, num_heads, seq_len, head_dim)\n",
    "        V = V.view(batch_size, seq_len, self.num_heads, self.head_dim).transpose(1, 2)  # (batch_size, num_heads, seq_len, head_dim)\n",
    "\n",
    "        # Compute scaled dot-product attention\n",
    "        attention_scores = torch.matmul(Q, K.transpose(-2, -1)) / torch.sqrt(torch.tensor(self.head_dim, dtype=torch.float32))  # (batch_size, num_heads, seq_len, seq_len)\n",
    "        attention_weights = F.softmax(attention_scores, dim=-1)  # Normalize over seq_len\n",
    "\n",
    "        # Compute context\n",
    "        context = torch.matmul(attention_weights, V)  # (batch_size, num_heads, seq_len, head_dim)\n",
    "\n",
    "        # Concatenate heads and project the output\n",
    "        context = context.transpose(1, 2).contiguous().view(batch_size, seq_len, embed_dim)  # (batch_size, seq_len, embed_dim)\n",
    "        output = self.out_projection(context)  # (batch_size, seq_len, embed_dim)\n",
    "\n",
    "        return output, attention_weights\n",
    "\n",
    "\n",
    "# Additive Word Attention Layer\n",
    "class AdditiveWordAttention(nn.Module):\n",
    "    def __init__(self, embed_dim, query_dim):\n",
    "        super(AdditiveWordAttention, self).__init__()\n",
    "        self.Vw = nn.Linear(embed_dim, query_dim, bias=True)\n",
    "        self.qw = nn.Parameter(torch.randn(query_dim))\n",
    "\n",
    "    def forward(self, inputs):\n",
    "        \"\"\"\n",
    "        Args:\n",
    "            inputs (torch.Tensor): Tensor of shape (batch_size, seq_len, embed_dim)\n",
    "\n",
    "        Returns:\n",
    "            weighted_sum (torch.Tensor): Tensor of shape (batch_size, embed_dim)\n",
    "            attention_weights (torch.Tensor): Tensor of shape (batch_size, seq_len)\n",
    "        \"\"\"\n",
    "        projection = self.Vw(inputs)  # (batch_size, seq_len, query_dim)\n",
    "        scores = torch.tanh(projection)  # Non-linear transformation\n",
    "        attention_scores = torch.matmul(scores, self.qw)  # (batch_size, seq_len)\n",
    "        attention_weights = F.softmax(attention_scores, dim=1)  # Normalize over seq_len\n",
    "        weighted_sum = torch.sum(inputs * attention_weights.unsqueeze(-1), dim=1)  # Weighted sum of embeddings\n",
    "\n",
    "        return weighted_sum, attention_weights\n",
    "\n",
    "\n",
    "# News Encoder\n",
    "class NewsEncoder(nn.Module):\n",
    "    def __init__(self, embedding_matrix, embed_dim, num_heads, query_dim, dropout=0.2):\n",
    "        super(NewsEncoder, self).__init__()\n",
    "        self.word_embeddings = nn.Embedding.from_pretrained(\n",
    "            embedding_matrix.clone().detach(), freeze=False\n",
    "        )\n",
    "        self.self_attention = MultiHeadSelfAttention(embed_dim=embed_dim, num_heads=num_heads)\n",
    "        self.additive_attention = AdditiveWordAttention(embed_dim=embed_dim, query_dim=query_dim)\n",
    "        self.dropout = nn.Dropout(dropout)\n",
    "\n",
    "    def forward(self, inputs):\n",
    "        \"\"\"\n",
    "        Args:\n",
    "            inputs (torch.Tensor): Input tensor of shape (batch_size, seq_len)\n",
    "\n",
    "        Returns:\n",
    "            news_representation (torch.Tensor): Tensor of shape (batch_size, embed_dim)\n",
    "            attention_weights (torch.Tensor): Tensor of shape (batch_size, seq_len)\n",
    "        \"\"\"\n",
    "        x = self.word_embeddings(inputs)  # Shape: (batch_size, seq_len, embed_dim)\n",
    "        x = self.dropout(x)\n",
    "\n",
    "        # Multi-Head Self-Attention\n",
    "        attn_output, _ = self.self_attention(x)\n",
    "\n",
    "        # Additive Attention\n",
    "        news_representation, attention_weights = self.additive_attention(attn_output)\n",
    "\n",
    "        return news_representation, attention_weights\n"
   ]
  },
  {
   "cell_type": "markdown",
   "metadata": {},
   "source": [
    "### Purpose of Tokenization\n",
    "Tokenization converts text (titles in this case) into numerical representations (sequences of token IDs). This is a required preprocessing step before feeding the data into a machine learning model.\n",
    "\n",
    "- Train data: Tokenized versions of the titles will be used to train the model.\n",
    "- Validation data: Tokenized titles are used to evaluate the model during training to monitor its performance on unseen data.\n"
   ]
  },
  {
   "cell_type": "code",
   "execution_count": 11,
   "metadata": {},
   "outputs": [],
   "source": [
    "# Step 2: Tokenize titles\n",
    "encoded_titles = [glove_tokenizer.encode(title).ids for title in all_titles]"
   ]
  },
  {
   "cell_type": "markdown",
   "metadata": {},
   "source": [
    "Tokenization prepares train and validation data into a format the model can process (sequences of token IDs). We need both datasets tokenized because the model must be trained on one (train) and evaluated on another (validation) to ensure it can generalize well."
   ]
  },
  {
   "cell_type": "code",
   "execution_count": 13,
   "metadata": {},
   "outputs": [
    {
     "name": "stdout",
     "output_type": "stream",
     "text": [
      "Dynamically determined max length: 12\n",
      "Data preparation for both train and validation sets is complete.\n",
      "Train data shape: torch.Size([1000, 12])\n",
      "Validation data shape: torch.Size([1000, 12])\n",
      "First padded train title: tensor([  687,  8452, 12233,     1,   649, 37972,   730,  1304,     0,     0,\n",
      "            0,     0])\n",
      "First padded validation title: tensor([     1,     48,  14770, 218796,      1,      0,      0,      0,      0,\n",
      "             0,      0,      0])\n"
     ]
    }
   ],
   "source": [
    "# Step 3: Dynamically determine max length\n",
    "max_length = max(len(encoded) for encoded in encoded_titles)\n",
    "print(f\"Dynamically determined max length: {max_length}\")\n",
    "\n",
    "# Step 4: Pad or truncate the tokenized titles\n",
    "padded_titles = torch.zeros((len(encoded_titles), max_length), dtype=torch.long)\n",
    "for i, encoded in enumerate(encoded_titles):\n",
    "    length = min(len(encoded), max_length)\n",
    "    padded_titles[i, :length] = torch.tensor(encoded[:length])\n",
    "\n",
    "# Step 5: Separate padded titles back into train and validation\n",
    "num_train = len(df_train)\n",
    "train_data = padded_titles[:num_train]\n",
    "val_data = padded_titles[num_train:]\n",
    "\n",
    "# Detach to prevent gradient tracking\n",
    "train_data = train_data.clone().detach()\n",
    "val_data = val_data.clone().detach()\n",
    "\n",
    "print(\"Data preparation for both train and validation sets is complete.\")\n",
    "\n",
    "# Step 6: Evaluation to Verify\n",
    "print(f\"Train data shape: {train_data.shape}\")\n",
    "print(f\"Validation data shape: {val_data.shape}\")\n",
    "\n",
    "# Example: Check padding correctness\n",
    "print(\"First padded train title:\", train_data[0])\n",
    "print(\"First padded validation title:\", val_data[0])\n"
   ]
  },
  {
   "cell_type": "markdown",
   "metadata": {},
   "source": [
    "- max length 12 : The length of the longest tokenized title in our combined traind and validaiton datasets is 12 tokens (this max length determines how many tokens each title will have after padding or truncation, titles shorter than 12 tokens are padded with zeros, and titles longer than 12 tokens are truncated to fit this length).\n",
    "- Train Data Shape ([1000, 12]): There are 1000 titles in our training dataset, 12: Each title has been padded or truncated to a fixed length of 12 tokens.\n",
    "- Validation Data Shape ([1000, 12]): there are 1000 titles in your validation dataset, 12: Each title has also been padded or truncated to the same length of 12 tokens."
   ]
  },
  {
   "cell_type": "markdown",
   "metadata": {},
   "source": [
    "1. Forward Pass with Prepared Data"
   ]
  },
  {
   "cell_type": "code",
   "execution_count": 24,
   "metadata": {},
   "outputs": [
    {
     "name": "stdout",
     "output_type": "stream",
     "text": [
      "Train Representations Shape: torch.Size([1000, 300])\n",
      "Validation Representations Shape: torch.Size([1000, 300])\n",
      "Train Attention Weights Shape: torch.Size([1000, 12])\n",
      "Validation Attention Weights Shape: torch.Size([1000, 12])\n"
     ]
    }
   ],
   "source": [
    "# Initialize NewsEncoder\n",
    "news_encoder = NewsEncoder(\n",
    "    embedding_matrix=glove_vectors.clone().detach(),\n",
    "    embed_dim=glove_vectors.shape[1],  # 300 (GloVe embedding dimension)\n",
    "    num_heads=6,  # Number of attention heads\n",
    "    query_dim=128,  # Additive attention query dimension\n",
    "    dropout=0.2\n",
    ")\n",
    "\n",
    "# Move to GPU if available\n",
    "device = torch.device(\"cuda\" if torch.cuda.is_available() else \"cpu\")\n",
    "news_encoder.to(device)\n",
    "train_data = train_data.to(device)\n",
    "val_data = val_data.to(device)\n",
    "\n",
    "# Forward pass\n",
    "news_encoder.eval()  # Disable dropout for evaluation\n",
    "train_representations, train_attention_weights = news_encoder(train_data)\n",
    "val_representations, val_attention_weights = news_encoder(val_data)\n",
    "\n",
    "# Check output shapes\n",
    "print(f\"Train Representations Shape: {train_representations.shape}\")  # Expected: (num_train_samples, 300)\n",
    "print(f\"Validation Representations Shape: {val_representations.shape}\")  # Expected: (num_val_samples, 300)\n",
    "print(f\"Train Attention Weights Shape: {train_attention_weights.shape}\")  # Expected: (num_train_samples, seq_len)\n",
    "print(f\"Validation Attention Weights Shape: {val_attention_weights.shape}\")  # Expected: (num_val_samples, seq_len)\n"
   ]
  },
  {
   "cell_type": "markdown",
   "metadata": {},
   "source": [
    "2. Validate Attention Weights"
   ]
  },
  {
   "cell_type": "code",
   "execution_count": 25,
   "metadata": {},
   "outputs": [
    {
     "name": "stdout",
     "output_type": "stream",
     "text": [
      "Train Attention Weights Sum: tensor([1., 1., 1., 1., 1.], grad_fn=<SliceBackward0>)\n",
      "Validation Attention Weights Sum: tensor([1.0000, 1.0000, 1.0000, 1.0000, 1.0000], grad_fn=<SliceBackward0>)\n"
     ]
    }
   ],
   "source": [
    "# Sum of attention weights should be 1 for each sequence\n",
    "train_attn_sum = train_attention_weights.sum(dim=1)\n",
    "val_attn_sum = val_attention_weights.sum(dim=1)\n",
    "\n",
    "print(\"Train Attention Weights Sum:\", train_attn_sum[:5])  # Should be close to 1\n",
    "print(\"Validation Attention Weights Sum:\", val_attn_sum[:5])  # Should be close to 1\n"
   ]
  },
  {
   "cell_type": "code",
   "execution_count": 27,
   "metadata": {},
   "outputs": [
    {
     "data": {
      "image/png": "[encoded data removed]",
      "text/plain": [
       "<Figure size 640x480 with 2 Axes>"
      ]
     },
     "metadata": {},
     "output_type": "display_data"
    }
   ],
   "source": [
    "import matplotlib.pyplot as plt\n",
    "import seaborn as sns\n",
    "\n",
    "# Visualize attention weights for the first train sample\n",
    "sample_idx = 0  # Choose a sample index\n",
    "attention_weights_sample = train_attention_weights[sample_idx].detach().cpu().numpy()\n",
    "\n",
    "sns.heatmap(attention_weights_sample.reshape(1, -1), cmap=\"viridis\", annot=True)\n",
    "plt.title(f\"Attention Weights for Train Sample {sample_idx}\")\n",
    "plt.xlabel(\"Token Index\")\n",
    "plt.ylabel(\"Attention Weight\")\n",
    "plt.show()\n"
   ]
  },
  {
   "cell_type": "markdown",
   "metadata": {},
   "source": [
    "## More tests "
   ]
  },
  {
   "cell_type": "code",
   "execution_count": null,
   "metadata": {},
   "outputs": [
    {
     "name": "stdout",
     "output_type": "stream",
     "text": [
      "Sample Titles Shape: torch.Size([1000, 12])\n",
      "News Representations Shape: torch.Size([1000, 300])\n",
      "Attention Weights Shape: torch.Size([1000, 12])\n"
     ]
    }
   ],
   "source": [
    "import torch\n",
    "\n",
    "# Extract the first 5 rows of the train_titles tensor\n",
    "sample_titles = train_data[:1000]  # Slice the first 5 rows\n",
    "\n",
    "# Pass the sample titles through the News Encoder\n",
    "news_representations, attention_weights = news_encoder(sample_titles)\n",
    "\n",
    "# Display the output shapes\n",
    "print(\"Sample Titles Shape:\", sample_titles.shape)  \n",
    "print(\"News Representations Shape:\", news_representations.shape)\n",
    "print(\"Attention Weights Shape:\", attention_weights.shape)  \n"
   ]
  },
  {
   "cell_type": "code",
   "execution_count": 35,
   "metadata": {},
   "outputs": [
    {
     "name": "stdout",
     "output_type": "stream",
     "text": [
      "Attention Weights (as Table):\n",
      "       Word 1    Word 2    Word 3    Word 4    Word 5    Word 6    Word 7  \\\n",
      "0    0.083001  0.087509  0.089835  0.067568  0.086682  0.086646  0.086043   \n",
      "1    0.083001  0.087509  0.089835  0.067568  0.086682  0.086646  0.086043   \n",
      "2    0.083001  0.087509  0.089835  0.067568  0.086682  0.086646  0.086043   \n",
      "3    0.083001  0.087509  0.089835  0.067568  0.086682  0.086646  0.086043   \n",
      "4    0.083001  0.087509  0.089835  0.067568  0.086682  0.086646  0.086043   \n",
      "..        ...       ...       ...       ...       ...       ...       ...   \n",
      "995  0.062711  0.089692  0.062711  0.081305  0.074806  0.062711  0.091231   \n",
      "996  0.062711  0.089692  0.062711  0.081305  0.074806  0.062711  0.091231   \n",
      "997  0.062711  0.089692  0.062711  0.081305  0.074806  0.062711  0.091231   \n",
      "998  0.062711  0.089692  0.062711  0.081305  0.074806  0.062711  0.091231   \n",
      "999  0.062711  0.089692  0.062711  0.081305  0.074806  0.062711  0.091231   \n",
      "\n",
      "       Word 8    Word 9   Word 10   Word 11   Word 12  \n",
      "0    0.088222  0.081123  0.081123  0.081123  0.081123  \n",
      "1    0.088222  0.081123  0.081123  0.081123  0.081123  \n",
      "2    0.088222  0.081123  0.081123  0.081123  0.081123  \n",
      "3    0.088222  0.081123  0.081123  0.081123  0.081123  \n",
      "4    0.088222  0.081123  0.081123  0.081123  0.081123  \n",
      "..        ...       ...       ...       ...       ...  \n",
      "995  0.085247  0.091231  0.099452  0.099452  0.099452  \n",
      "996  0.085247  0.091231  0.099452  0.099452  0.099452  \n",
      "997  0.085247  0.091231  0.099452  0.099452  0.099452  \n",
      "998  0.085247  0.091231  0.099452  0.099452  0.099452  \n",
      "999  0.085247  0.091231  0.099452  0.099452  0.099452  \n",
      "\n",
      "[1000 rows x 12 columns]\n"
     ]
    }
   ],
   "source": [
    "import pandas as pd\n",
    "\n",
    "# Convert attention weights to a DataFrame for readability\n",
    "attention_df = pd.DataFrame(attention_weights.detach().numpy())\n",
    "\n",
    "# Add column headers to identify word positions\n",
    "attention_df.columns = [f\"Word {i+1}\" for i in range(max_length)]\n",
    "\n",
    "# Display the DataFrame\n",
    "print(\"Attention Weights (as Table):\")\n",
    "print(attention_df)\n"
   ]
  },
  {
   "cell_type": "markdown",
   "metadata": {},
   "source": [
    "Check Validity"
   ]
  },
  {
   "cell_type": "code",
   "execution_count": 36,
   "metadata": {},
   "outputs": [
    {
     "name": "stdout",
     "output_type": "stream",
     "text": [
      "Attention Weights Sum (per sequence):\n",
      " [1.        1.        1.        1.        1.        1.        1.\n",
      " 1.        1.        1.        1.        1.        1.        1.\n",
      " 1.        1.        1.        1.        1.        1.        1.\n",
      " 1.        1.        1.        1.        1.        1.        1.\n",
      " 1.        1.        1.        1.        1.        1.        1.\n",
      " 1.        1.        1.        1.        1.        1.        1.\n",
      " 1.        1.        1.        1.        1.        1.        1.\n",
      " 1.        1.        1.        1.        1.        1.        1.\n",
      " 1.        1.        1.        1.        1.        1.        1.\n",
      " 1.        1.        1.        1.        1.        1.        1.\n",
      " 1.        1.        1.        1.        1.        1.        1.\n",
      " 1.        1.        1.        1.        1.        1.        1.\n",
      " 1.        1.        1.        1.        1.        1.        1.\n",
      " 1.        1.        1.        1.        1.        1.        1.\n",
      " 1.        1.        1.        1.        1.        1.        1.\n",
      " 1.        1.        1.        1.        1.        1.        1.\n",
      " 1.        1.        1.        1.        1.        1.        1.\n",
      " 1.        1.        1.        1.        1.        1.        1.\n",
      " 1.        1.        1.        1.        1.        1.        1.\n",
      " 1.        1.        1.        1.        1.        1.        1.\n",
      " 1.        1.        1.        1.        1.        1.        1.\n",
      " 1.        1.        1.        1.        1.        1.        1.\n",
      " 1.        1.        1.        1.        1.        1.        1.\n",
      " 1.        1.        1.        1.        1.        1.        1.\n",
      " 1.        1.        1.        1.        1.        1.        1.\n",
      " 1.        1.        1.        1.        1.        1.        1.\n",
      " 1.        1.        1.        1.        1.        1.        1.\n",
      " 1.        1.        1.        1.        1.        1.        1.\n",
      " 1.        1.        1.        1.        1.        1.        1.\n",
      " 1.        1.        1.        1.        1.        1.        1.\n",
      " 1.        1.        1.        1.        1.        1.        1.\n",
      " 1.        1.        1.        1.        1.        1.        1.\n",
      " 1.        1.        1.        1.        1.        1.        1.\n",
      " 1.        1.        1.        1.        1.        1.        1.\n",
      " 1.        1.        1.        1.        1.        1.        1.\n",
      " 1.        1.        1.        1.        1.        1.        1.\n",
      " 1.        1.        1.        1.        1.        1.        1.\n",
      " 1.        1.        1.        1.        1.        1.        1.\n",
      " 1.        1.        1.        1.        1.        1.        1.\n",
      " 1.        1.        1.        1.        1.        1.        1.\n",
      " 1.        1.        1.        1.        1.        1.        1.\n",
      " 1.        1.        1.        1.        1.        1.        1.\n",
      " 1.        1.        1.        1.        1.        1.        1.\n",
      " 1.        1.        1.        1.        1.        1.        1.\n",
      " 1.        1.        1.        1.        1.        1.        1.\n",
      " 1.        1.        1.        1.        1.        1.        1.\n",
      " 1.        1.        1.        1.        1.        1.        1.\n",
      " 1.        1.        1.        1.        1.        1.        1.\n",
      " 1.        1.        1.        1.        1.        1.        1.\n",
      " 1.        1.        1.        1.        1.        1.        1.\n",
      " 1.        1.        1.        1.        1.        1.        1.\n",
      " 1.        1.        1.        1.        1.        1.        1.\n",
      " 1.        1.        1.        1.        1.        1.        1.\n",
      " 1.        1.        1.        1.        1.        1.        1.\n",
      " 1.        1.        1.        1.        1.        1.        1.\n",
      " 1.        1.        1.        1.        1.        1.        1.\n",
      " 1.        1.        1.        1.        1.        1.        1.\n",
      " 1.        1.        1.        1.        1.        1.        1.\n",
      " 1.        1.        1.        1.        1.        1.        1.\n",
      " 1.        1.        1.        1.        1.        1.        1.\n",
      " 1.        1.        1.        1.        1.        1.        1.\n",
      " 1.0000001 1.0000001 1.0000001 1.0000001 1.0000001 1.0000001 1.0000001\n",
      " 1.0000001 1.0000001 1.0000001 1.0000001 1.0000001 1.0000001 1.0000001\n",
      " 1.0000001 1.0000001 1.0000001 1.0000001 1.0000001 1.0000001 1.0000001\n",
      " 1.0000001 1.0000001 1.0000001 1.0000001 1.0000001 1.0000001 1.0000001\n",
      " 1.0000001 1.0000001 1.0000001 1.0000001 1.0000001 1.0000001 1.0000001\n",
      " 1.0000001 1.0000001 1.0000001 1.0000001 1.0000001 1.0000001 1.0000001\n",
      " 1.0000001 1.0000001 1.0000001 1.0000001 1.0000001 1.0000001 1.0000001\n",
      " 1.0000001 1.0000001 1.0000001 1.0000001 1.0000001 1.0000001 1.0000001\n",
      " 1.0000001 1.0000001 1.0000001 1.0000001 1.0000001 1.0000001 1.0000001\n",
      " 1.0000001 1.0000001 1.0000001 1.0000001 1.0000001 1.0000001 1.0000001\n",
      " 1.0000001 1.0000001 1.0000001 1.0000001 1.0000001 1.0000001 1.0000001\n",
      " 1.0000001 1.0000001 1.0000001 1.0000001 1.0000001 1.0000001 1.0000001\n",
      " 1.0000001 1.0000001 1.0000001 1.0000001 1.0000001 1.0000001 1.0000001\n",
      " 1.0000001 1.0000001 1.0000001 1.0000001 1.0000001 1.0000001 1.0000001\n",
      " 1.0000001 1.0000001 1.0000001 1.0000001 1.0000001 1.0000001 1.0000001\n",
      " 1.0000001 1.0000001 1.0000001 1.0000001 1.0000001 1.0000001 1.0000001\n",
      " 1.0000001 1.0000001 1.0000001 1.0000001 1.0000001 1.0000001 1.0000001\n",
      " 1.0000001 1.0000001 1.0000001 1.0000001 1.0000001 1.0000001 1.0000001\n",
      " 1.0000001 1.0000001 1.0000001 1.0000001 1.0000001 1.0000001 1.0000001\n",
      " 1.0000001 1.0000001 1.0000001 1.0000001 1.0000001 1.0000001 1.0000001\n",
      " 1.0000001 1.0000001 1.0000001 1.0000001 1.0000001 1.0000001 1.0000001\n",
      " 1.0000001 1.0000001 1.0000001 1.0000001 1.0000001 1.0000001 1.0000001\n",
      " 1.0000001 1.0000001 1.0000001 1.0000001 1.0000001 1.0000001 1.0000001\n",
      " 1.0000001 1.0000001 1.0000001 1.0000001 1.0000001 1.0000001 1.0000001\n",
      " 1.0000001 1.0000001 1.0000001 1.0000001 1.0000001 1.0000001 1.0000001\n",
      " 1.0000001 1.0000001 1.0000001 1.0000001 1.0000001 1.0000001 1.0000001\n",
      " 1.0000001 1.0000001 1.0000001 1.0000001 1.0000001 1.0000001 1.0000001\n",
      " 1.0000001 1.0000001 1.0000001 1.0000001 1.0000001 1.0000001 1.0000001\n",
      " 1.0000001 1.0000001 1.0000001 1.0000001 1.0000001 1.0000001 1.0000001\n",
      " 1.0000001 1.0000001 1.0000001 1.0000001 1.0000001 1.0000001 1.0000001\n",
      " 1.0000001 1.0000001 1.0000001 1.0000001 1.0000001 1.0000001 1.0000001\n",
      " 1.0000001 1.0000001 1.0000001 1.0000001 1.0000001 1.0000001 1.0000001\n",
      " 1.0000001 1.0000001 1.0000001 1.0000001 1.0000001 1.0000001 1.0000001\n",
      " 1.0000001 1.0000001 1.0000001 1.0000001 1.0000001 1.0000001 1.0000001\n",
      " 1.0000001 1.0000001 1.0000001 1.0000001 1.0000001 1.0000001 1.0000001\n",
      " 1.0000001 1.0000001 1.0000001 1.0000001 1.0000001 1.0000001 1.0000001\n",
      " 1.0000001 1.0000001 1.0000001 1.0000001 1.0000001 1.0000001 1.0000001\n",
      " 1.0000001 1.0000001 1.0000001 1.0000001 1.0000001 1.0000001 1.0000001\n",
      " 1.0000001 1.0000001 1.0000001 1.0000001 1.0000001 1.0000001 1.0000001\n",
      " 1.0000001 1.0000001 1.0000001 1.0000001 1.0000001 1.0000001 1.0000001\n",
      " 1.0000001 1.0000001 1.0000001 1.0000001 1.0000001 1.0000001 1.0000001\n",
      " 1.0000001 1.0000001 1.0000001 1.0000001 1.0000001 1.0000001 1.0000001\n",
      " 1.0000001 1.0000001 1.0000001 1.0000001 1.0000001 1.0000001 1.0000001\n",
      " 1.0000001 1.0000001 1.0000001 1.0000001 1.0000001 1.0000001 1.0000001\n",
      " 1.0000001 1.0000001 1.0000001 1.0000001 1.0000001 1.0000001 1.0000001\n",
      " 1.0000001 1.0000001 1.0000001 1.0000001 1.0000001 1.0000001 1.0000001\n",
      " 1.0000001 1.0000001 1.0000001 1.0000001 1.0000001 1.0000001 1.0000001\n",
      " 1.0000001 1.0000001 1.0000001 1.0000001 1.0000001 1.0000001 1.0000001\n",
      " 1.0000001 1.0000001 1.0000001 1.0000001 1.0000001 1.0000001 1.0000001\n",
      " 1.0000001 1.0000001 1.0000001 1.0000001 1.0000001 1.0000001 1.0000001\n",
      " 1.0000001 1.0000001 1.0000001 1.0000001 1.0000001 1.0000001 1.0000001\n",
      " 1.0000001 1.0000001 1.0000001 1.0000001 1.0000001 1.0000001 1.0000001\n",
      " 1.0000001 1.0000001 1.0000001 1.0000001 1.0000001 1.0000001 1.0000001\n",
      " 1.0000001 1.0000001 1.0000001 1.0000001 1.0000001 1.0000001 1.0000001\n",
      " 1.0000001 1.0000001 1.0000001 1.0000001 1.0000001 1.0000001 1.0000001\n",
      " 1.0000001 1.0000001 1.0000001 1.0000001 1.0000001 1.0000001 1.0000001\n",
      " 1.0000001 1.0000001 1.0000001 1.0000001 1.0000001 1.0000001 1.0000001\n",
      " 1.0000001 1.0000001 1.0000001 1.0000001 1.0000001 1.0000001 1.0000001\n",
      " 1.0000001 1.0000001 1.0000001 1.0000001 1.0000001 1.0000001 1.0000001\n",
      " 1.0000001 1.0000001 1.0000001 1.0000001 1.0000001 1.0000001 1.0000001\n",
      " 1.0000001 1.0000001 1.0000001 1.0000001 1.0000001 1.0000001 1.0000001\n",
      " 1.        1.        1.        1.        1.        1.        1.\n",
      " 1.        1.        1.        1.        1.        1.        1.\n",
      " 1.        1.        1.        1.        1.        1.        1.\n",
      " 1.        1.        1.        1.        1.        1.        1.\n",
      " 1.        1.        1.        1.        1.        1.        1.\n",
      " 1.        1.        1.        1.        1.        1.        1.\n",
      " 1.        1.        1.        1.        1.        1.        1.\n",
      " 1.        1.        1.        1.        1.        1.        1.\n",
      " 1.        1.        1.        1.        1.        1.        1.\n",
      " 1.        1.        1.        1.        1.        1.        1.\n",
      " 1.        1.        1.        1.        1.        1.        1.\n",
      " 1.        1.        1.        1.        1.        1.        1.\n",
      " 1.        1.        1.        1.        1.        1.        1.\n",
      " 1.        1.        1.        1.        1.        1.        1.\n",
      " 1.        1.        1.        1.        1.        1.        1.\n",
      " 1.        1.        1.        1.        1.        1.        1.\n",
      " 1.        1.        1.        1.        1.        1.        1.\n",
      " 1.        1.        1.        1.        1.        1.        1.\n",
      " 1.        1.        1.        1.        1.        1.        1.\n",
      " 1.        1.        1.        1.        1.        1.        1.\n",
      " 1.        1.        1.        1.        1.        1.       ]\n"
     ]
    }
   ],
   "source": [
    "import torch\n",
    "\n",
    "\n",
    "# Sum the attention weights across the sequence dimension (axis=1)\n",
    "attention_sum = torch.sum(attention_weights, dim=1)  # Shape: (batch_size, 1)\n",
    "\n",
    "# Print the result to verify it sums to ~1 for each sequence in the batch\n",
    "print(\"Attention Weights Sum (per sequence):\\n\", attention_sum.detach().numpy())\n"
   ]
  },
  {
   "cell_type": "code",
   "execution_count": 37,
   "metadata": {},
   "outputs": [
    {
     "name": "stdout",
     "output_type": "stream",
     "text": [
      "Cosine similarity between Title 1 and Title 2 representations: 1.0000001192092896\n"
     ]
    }
   ],
   "source": [
    "import torch\n",
    "from torch.nn.functional import cosine_similarity\n",
    "\n",
    "# Select two representations to compare\n",
    "vector1 = news_representations[3]\n",
    "vector2 = news_representations[4]\n",
    "\n",
    "# Compute cosine similarity using PyTorch\n",
    "similarity = cosine_similarity(vector1.unsqueeze(0), vector2.unsqueeze(0)).item()\n",
    "print(\"Cosine similarity between Title 1 and Title 2 representations:\", similarity)\n"
   ]
  },
  {
   "cell_type": "code",
   "execution_count": 38,
   "metadata": {},
   "outputs": [],
   "source": [
    "import torch\n",
    "\n",
    "# Assume we have 10 users and 20 news articles\n",
    "num_users = 10\n",
    "num_news = 20\n",
    "\n",
    "# Randomly assign labels (1 = clicked, 0 = not clicked)\n",
    "labels = torch.randint(0, 2, (num_users, num_news))\n",
    "\n",
    "# Generate random user embeddings (e.g., 300-dimensional)\n",
    "user_representations = torch.randn(num_users, 300)\n",
    "\n",
    "# Use the news representations from the encoder\n",
    "news_representations = train_representations[:num_news]  # Use first 20 news items\n",
    "\n",
    "# Compute click probabilities using dot product\n",
    "click_scores = torch.matmul(user_representations, news_representations.T)\n"
   ]
  },
  {
   "cell_type": "code",
   "execution_count": 39,
   "metadata": {},
   "outputs": [
    {
     "name": "stdout",
     "output_type": "stream",
     "text": [
      "AUC: 0.6012787723785167\n"
     ]
    }
   ],
   "source": [
    "from sklearn.metrics import roc_auc_score\n",
    "\n",
    "# Flatten scores and labels for AUC computation\n",
    "click_scores_flat = click_scores.flatten().detach().numpy()\n",
    "labels_flat = labels.flatten().numpy()\n",
    "\n",
    "# Compute AUC\n",
    "auc = roc_auc_score(labels_flat, click_scores_flat)\n",
    "print(\"AUC:\", auc)\n"
   ]
  },
  {
   "cell_type": "code",
   "execution_count": 40,
   "metadata": {},
   "outputs": [
    {
     "name": "stdout",
     "output_type": "stream",
     "text": [
      "Average nDCG@5: 0.3944757383133549\n"
     ]
    }
   ],
   "source": [
    "import numpy as np\n",
    "\n",
    "def dcg_at_k(scores, labels, k):\n",
    "    \"\"\"Compute Discounted Cumulative Gain (DCG) at K.\"\"\"\n",
    "    sorted_indices = np.argsort(scores)[::-1]  # Sort by descending scores\n",
    "    sorted_labels = labels[sorted_indices]\n",
    "    return np.sum((2 ** sorted_labels[:k] - 1) / np.log2(np.arange(2, k + 2)))\n",
    "\n",
    "def ndcg_at_k(scores, labels, k):\n",
    "    \"\"\"Compute Normalized DCG at K.\"\"\"\n",
    "    ideal_dcg = dcg_at_k(labels, labels, k)  # Perfect ordering\n",
    "    if ideal_dcg == 0:\n",
    "        return 0\n",
    "    return dcg_at_k(scores, labels, k) / ideal_dcg\n",
    "\n",
    "# Compute nDCG@k for each user\n",
    "k = 5  # Top-k items\n",
    "ndcg_scores = []\n",
    "for user_idx in range(num_users):\n",
    "    ndcg = ndcg_at_k(\n",
    "        scores=click_scores[user_idx].detach().numpy(),\n",
    "        labels=labels[user_idx].numpy(),\n",
    "        k=k,\n",
    "    )\n",
    "    ndcg_scores.append(ndcg)\n",
    "\n",
    "# Average nDCG@k across users\n",
    "avg_ndcg = np.mean(ndcg_scores)\n",
    "print(f\"Average nDCG@{k}:\", avg_ndcg)\n"
   ]
  },
  {
   "cell_type": "code",
   "execution_count": 41,
   "metadata": {},
   "outputs": [
    {
     "name": "stdout",
     "output_type": "stream",
     "text": [
      "MRR: 0.5833333333333333\n"
     ]
    }
   ],
   "source": [
    "def mrr(scores, labels):\n",
    "    \"\"\"Compute Mean Reciprocal Rank (MRR).\"\"\"\n",
    "    reciprocal_ranks = []\n",
    "    for user_idx in range(len(labels)):\n",
    "        sorted_indices = np.argsort(scores[user_idx])[::-1]\n",
    "        sorted_labels = labels[user_idx][sorted_indices]\n",
    "        rank = np.where(sorted_labels == 1)[0]\n",
    "        if len(rank) > 0:\n",
    "            reciprocal_ranks.append(1 / (rank[0] + 1))  # Rank is 0-based\n",
    "    return np.mean(reciprocal_ranks)\n",
    "\n",
    "# Compute MRR\n",
    "mrr_score = mrr(click_scores.detach().numpy(), labels.numpy())\n",
    "print(\"MRR:\", mrr_score)\n"
   ]
  }
 ],
 "metadata": {
  "kernelspec": {
   "display_name": "Python 3",
   "language": "python",
   "name": "python3"
  },
  "language_info": {
   "codemirror_mode": {
    "name": "ipython",
    "version": 3
   },
   "file_extension": ".py",
   "mimetype": "text/x-python",
   "name": "python",
   "nbconvert_exporter": "python",
   "pygments_lexer": "ipython3",
   "version": "3.9.18"
  }
 },
 "nbformat": 4,
 "nbformat_minor": 2
}
